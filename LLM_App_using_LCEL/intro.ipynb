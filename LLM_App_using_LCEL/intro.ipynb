{
 "cells": [
  {
   "cell_type": "markdown",
   "id": "79b4e7ce",
   "metadata": {},
   "source": [
    "# build simple LLM app using LCEL\n"
   ]
  },
  {
   "cell_type": "code",
   "execution_count": 1,
   "id": "b2666340",
   "metadata": {},
   "outputs": [],
   "source": [
    "import os"
   ]
  },
  {
   "cell_type": "code",
   "execution_count": 2,
   "id": "a9794dd2",
   "metadata": {},
   "outputs": [
    {
     "data": {
      "text/plain": [
       "True"
      ]
     },
     "execution_count": 2,
     "metadata": {},
     "output_type": "execute_result"
    }
   ],
   "source": [
    "from dotenv import load_dotenv\n",
    "load_dotenv()"
   ]
  },
  {
   "cell_type": "code",
   "execution_count": 3,
   "id": "85689a4a",
   "metadata": {},
   "outputs": [],
   "source": [
    "import openai\n",
    "openai.api_key = os.getenv(\"OPENAI_API_KEY\")\n",
    "\n",
    "groq_api_key = os.getenv(\"GROQ_API_KEY\")"
   ]
  },
  {
   "cell_type": "code",
   "execution_count": 7,
   "id": "dcc1fbba",
   "metadata": {},
   "outputs": [],
   "source": [
    "from langchain_groq import ChatGroq\n",
    "groq_llm = ChatGroq(\n",
    "    model_name=\"gemma2-9b-it\",\n",
    "    api_key=groq_api_key,\n",
    "    temperature=0.5,\n",
    "    max_tokens=1000,\n",
    "    #top_p=0.9,\n",
    "    #top_k=40,\n",
    "    max_retries=3,\n",
    "    timeout=10,\n",
    "    #max_completion_tokens=1000\n",
    ")"
   ]
  },
  {
   "cell_type": "markdown",
   "id": "b4726623",
   "metadata": {},
   "source": [
    "# Str output parser chain with LCEL"
   ]
  },
  {
   "cell_type": "code",
   "execution_count": 9,
   "id": "43e7fb85",
   "metadata": {},
   "outputs": [],
   "source": [
    "from langchain_core.messages import HumanMessage, SystemMessage\n",
    "\n",
    "messages = [\n",
    "    SystemMessage(content=\"Translate the following text to French\"),\n",
    "    HumanMessage(content=\"I love programming in Python\")\n",
    "]\n",
    "\n",
    "response = groq_llm.invoke(messages)"
   ]
  },
  {
   "cell_type": "code",
   "execution_count": 10,
   "id": "ec7c19a6",
   "metadata": {},
   "outputs": [
    {
     "data": {
      "text/plain": [
       "AIMessage(content=\"J'adore programmer en Python. \\n\", additional_kwargs={}, response_metadata={'token_usage': {'completion_tokens': 11, 'prompt_tokens': 20, 'total_tokens': 31, 'completion_time': 0.02, 'prompt_time': 0.00135974, 'queue_time': 0.088471442, 'total_time': 0.02135974}, 'model_name': 'gemma2-9b-it', 'system_fingerprint': 'fp_10c08bf97d', 'service_tier': 'on_demand', 'finish_reason': 'stop', 'logprobs': None}, id='run--1b189467-2315-4b94-9e85-c6ee501adbc9-0', usage_metadata={'input_tokens': 20, 'output_tokens': 11, 'total_tokens': 31})"
      ]
     },
     "execution_count": 10,
     "metadata": {},
     "output_type": "execute_result"
    }
   ],
   "source": [
    "response"
   ]
  },
  {
   "cell_type": "code",
   "execution_count": 11,
   "id": "8bc39fdb",
   "metadata": {},
   "outputs": [
    {
     "data": {
      "text/plain": [
       "\"J'adore programmer en Python. \\n\""
      ]
     },
     "execution_count": 11,
     "metadata": {},
     "output_type": "execute_result"
    }
   ],
   "source": [
    "from langchain_core.output_parsers import StrOutputParser\n",
    "parser = StrOutputParser()\n",
    "parser.invoke(response)"
   ]
  },
  {
   "cell_type": "code",
   "execution_count": 12,
   "id": "8e637aa6",
   "metadata": {},
   "outputs": [
    {
     "data": {
      "text/plain": [
       "\"J'adore programmer en Python. \\n\""
      ]
     },
     "execution_count": 12,
     "metadata": {},
     "output_type": "execute_result"
    }
   ],
   "source": [
    "## using LCEL we can chian the components together\n",
    "chain = groq_llm | parser\n",
    "chain.invoke(messages)"
   ]
  },
  {
   "cell_type": "code",
   "execution_count": 13,
   "id": "621bfb54",
   "metadata": {},
   "outputs": [],
   "source": [
    "## prompt templates\n",
    "from langchain_core.prompts import ChatPromptTemplate\n",
    "\n",
    "generic_template = \"Translate the following text to {language}\"\n",
    "\n",
    "prompt_template = ChatPromptTemplate.from_messages(\n",
    "    [\n",
    "        (\"system\",generic_template),\n",
    "        (\"user\", \"{text}\") \n",
    "    ]\n",
    ")"
   ]
  },
  {
   "cell_type": "code",
   "execution_count": 16,
   "id": "fd4e4ff5",
   "metadata": {},
   "outputs": [],
   "source": [
    "result = prompt_template.invoke({\"language\": \"French\", \"text\": \"I love programming in Python\"})\n"
   ]
  },
  {
   "cell_type": "code",
   "execution_count": 17,
   "id": "212b9456",
   "metadata": {},
   "outputs": [
    {
     "data": {
      "text/plain": [
       "[SystemMessage(content='Translate the following text to French', additional_kwargs={}, response_metadata={}),\n",
       " HumanMessage(content='I love programming in Python', additional_kwargs={}, response_metadata={})]"
      ]
     },
     "execution_count": 17,
     "metadata": {},
     "output_type": "execute_result"
    }
   ],
   "source": [
    "result.to_messages()"
   ]
  },
  {
   "cell_type": "code",
   "execution_count": 19,
   "id": "4babc30f",
   "metadata": {},
   "outputs": [
    {
     "data": {
      "text/plain": [
       "\"J'adore programmer en Python. \\n\""
      ]
     },
     "execution_count": 19,
     "metadata": {},
     "output_type": "execute_result"
    }
   ],
   "source": [
    "chain = prompt_template | groq_llm | parser\n",
    "chain.invoke({\"language\":\"French\", \"text\":\"I love programming in Python\"})\n"
   ]
  },
  {
   "cell_type": "markdown",
   "id": "a142960d",
   "metadata": {},
   "source": [
    "# LANGSERVE"
   ]
  },
  {
   "cell_type": "markdown",
   "id": "c07be361",
   "metadata": {},
   "source": [
    "# FOR DEPLOYING RESTAPI"
   ]
  },
  {
   "cell_type": "code",
   "execution_count": null,
   "id": "5b26cdcf",
   "metadata": {},
   "outputs": [],
   "source": [
    "import "
   ]
  }
 ],
 "metadata": {
  "kernelspec": {
   "display_name": ".venv",
   "language": "python",
   "name": "python3"
  },
  "language_info": {
   "codemirror_mode": {
    "name": "ipython",
    "version": 3
   },
   "file_extension": ".py",
   "mimetype": "text/x-python",
   "name": "python",
   "nbconvert_exporter": "python",
   "pygments_lexer": "ipython3",
   "version": "3.12.3"
  }
 },
 "nbformat": 4,
 "nbformat_minor": 5
}
