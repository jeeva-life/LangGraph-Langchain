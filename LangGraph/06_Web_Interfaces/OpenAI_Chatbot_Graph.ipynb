{
 "cells": [
  {
   "cell_type": "code",
   "execution_count": 4,
   "id": "2583a970",
   "metadata": {},
   "outputs": [],
   "source": [
    "# Step1: Define the State Object\n",
    "from pydantic import BaseModel\n",
    "from typing import Annotated\n",
    "from langgraph.graph import add_messages\n",
    "class State(BaseModel):\n",
    "    messages: Annotated[list, add_messages]"
   ]
  },
  {
   "cell_type": "code",
   "execution_count": 8,
   "id": "51188838",
   "metadata": {},
   "outputs": [],
   "source": [
    "#Step2: Start the Graph Builder with the State Class\n",
    "from langgraph.graph import StateGraph\n",
    "graph_builder = StateGraph(State)"
   ]
  },
  {
   "cell_type": "code",
   "execution_count": 9,
   "id": "c3ddd2a1",
   "metadata": {},
   "outputs": [
    {
     "data": {
      "text/plain": [
       "<langgraph.graph.state.StateGraph at 0x192ae1b2e70>"
      ]
     },
     "execution_count": 9,
     "metadata": {},
     "output_type": "execute_result"
    }
   ],
   "source": [
    "#Step3: Create a Node\n",
    "from langchain_openai import ChatOpenAI\n",
    "llm = ChatOpenAI(model=\"gpt-4o-mini\")\n",
    "\n",
    "def chatbot_node(old_state: State) -> State:\n",
    "    response = llm.invoke(old_state.messages)\n",
    "    messages = [{\"role\": \"assistant\", \"content\": response.content}]\n",
    "    new_state = State(messages=messages)\n",
    "    return new_state\n",
    "\n",
    "graph_builder.add_node(\"Chatbot\", chatbot_node)"
   ]
  },
  {
   "cell_type": "code",
   "execution_count": 11,
   "id": "3c316ef8",
   "metadata": {},
   "outputs": [
    {
     "data": {
      "text/plain": [
       "<langgraph.graph.state.StateGraph at 0x192ae1b2e70>"
      ]
     },
     "execution_count": 11,
     "metadata": {},
     "output_type": "execute_result"
    }
   ],
   "source": [
    "#Step4: Create Edges\n",
    "from langgraph.graph import START, END\n",
    "graph_builder.add_edge(START, \"Chatbot\")\n",
    "graph_builder.add_edge(\"Chatbot\", END)"
   ]
  },
  {
   "cell_type": "code",
   "execution_count": 13,
   "id": "25c3ae3c",
   "metadata": {},
   "outputs": [
    {
     "data": {
      "image/png": "[encoded data removed]",
      "text/plain": [
       "<IPython.core.display.Image object>"
      ]
     },
     "metadata": {},
     "output_type": "display_data"
    }
   ],
   "source": [
    "#Step5: Compile the Graph\n",
    "from IPython.display import Image\n",
    "graph = graph_builder.compile()\n",
    "display(Image(graph.get_graph().draw_mermaid_png()))"
   ]
  },
  {
   "cell_type": "code",
   "execution_count": null,
   "id": "837bd754",
   "metadata": {},
   "outputs": [
    {
     "name": "stderr",
     "output_type": "stream",
     "text": [
      "d:\\Jeevan\\Agentic_AI\\LangGraph_Langchain\\.venv\\Lib\\site-packages\\tqdm\\auto.py:21: TqdmWarning: IProgress not found. Please update jupyter and ipywidgets. See https://ipywidgets.readthedocs.io/en/stable/user_install.html\n",
      "  from .autonotebook import tqdm as notebook_tqdm\n"
     ]
    },
    {
     "name": "stdout",
     "output_type": "stream",
     "text": [
      "* Running on local URL:  http://127.0.0.1:7864\n",
      "* To create a public link, set `share=True` in `launch()`.\n"
     ]
    },
    {
     "data": {
      "text/html": [
       "<div><iframe src=\"http://127.0.0.1:7864/\" width=\"100%\" height=\"500\" allow=\"autoplay; camera; microphone; clipboard-read; clipboard-write;\" frameborder=\"0\" allowfullscreen></iframe></div>"
      ],
      "text/plain": [
       "<IPython.core.display.HTML object>"
      ]
     },
     "metadata": {},
     "output_type": "display_data"
    },
    {
     "data": {
      "text/plain": []
     },
     "execution_count": 14,
     "metadata": {},
     "output_type": "execute_result"
    },
    {
     "name": "stdout",
     "output_type": "stream",
     "text": [
      "{'messages': [HumanMessage(content='hi there', additional_kwargs={}, response_metadata={}, id='8a6e8e8c-40c5-4bf7-b29d-4cb62a7fbd36'), AIMessage(content='Hello! How can I assist you today?', additional_kwargs={}, response_metadata={}, id='d808e6e6-0f9c-44a0-b672-57c9799d2b19')]}\n",
      "{'messages': [HumanMessage(content='what is 2*2?', additional_kwargs={}, response_metadata={}, id='82c07961-b449-42c6-ace0-3a964834b50e'), AIMessage(content='2 multiplied by 2 equals 4.', additional_kwargs={}, response_metadata={}, id='6a6eb07c-ef50-4a89-9e30-1067bcdee8ea')]}\n"
     ]
    }
   ],
   "source": [
    "import gradio as gr\n",
    "def chat(user_input: str, history):\n",
    "    initial_state = State(messages=[{\"role\":\"user\", \"content\": user_input}])\n",
    "    result = graph.invoke(initial_state)\n",
    "    print(result)\n",
    "    return result['messages'][-1].content\n",
    "\n",
    "gr.ChatInterface(chat, type=\"messages\").launch()"
   ]
  },
  {
   "cell_type": "code",
   "execution_count": null,
   "id": "3f22d064",
   "metadata": {},
   "outputs": [],
   "source": []
  }
 ],
 "metadata": {
  "kernelspec": {
   "display_name": ".venv",
   "language": "python",
   "name": "python3"
  },
  "language_info": {
   "codemirror_mode": {
    "name": "ipython",
    "version": 3
   },
   "file_extension": ".py",
   "mimetype": "text/x-python",
   "name": "python",
   "nbconvert_exporter": "python",
   "pygments_lexer": "ipython3",
   "version": "3.12.3"
  }
 },
 "nbformat": 4,
 "nbformat_minor": 5
}
