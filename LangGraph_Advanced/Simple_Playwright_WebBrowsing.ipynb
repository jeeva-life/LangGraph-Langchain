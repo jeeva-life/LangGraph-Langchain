{
  "cells": [
    {
      "cell_type": "markdown",
      "metadata": {},
      "source": [
        "# Simple Playwright Web Browsing with LangGraph\n",
        "\n",
        "This notebook demonstrates a **working** Playwright web browsing example with LangGraph that avoids the common asyncio issues on Windows.\n",
        "\n",
        "##  What This Solves:\n",
        "- **NotImplementedError** on Windows\n",
        "- Asyncio subprocess issues in Jupyter\n",
        "- Complex async/await problems\n",
        "\n",
        "##  How It Works:\n",
        "- Uses **synchronous** Playwright API (more reliable)\n",
        "- Simple LangGraph workflow\n",
        "- Keyword-based routing for different actions\n",
        "- No complex async/await patterns\n"
      ]
    },
    {
      "cell_type": "code",
      "execution_count": 3,
      "metadata": {},
      "outputs": [
        {
          "name": "stdout",
          "output_type": "stream",
          "text": [
            " OpenAI API key found\n",
            " Setup complete!\n"
          ]
        }
      ],
      "source": [
        "# Setup and Imports\n",
        "import os\n",
        "from typing import Annotated, TypedDict\n",
        "from dotenv import load_dotenv\n",
        "from langgraph.graph import StateGraph, START, END\n",
        "from langgraph.graph.message import add_messages\n",
        "from langchain_openai import ChatOpenAI\n",
        "from langchain_core.messages import HumanMessage, AIMessage\n",
        "\n",
        "# Load environment variables\n",
        "load_dotenv(override=True)\n",
        "\n",
        "# Check for OpenAI API key\n",
        "openai_api_key = os.getenv(\"OPENAI_API_KEY\")\n",
        "if not openai_api_key:\n",
        "    print(\" No OpenAI API key found. Please set OPENAI_API_KEY in your .env file\")\n",
        "else:\n",
        "    print(\" OpenAI API key found\")\n",
        "\n",
        "print(\" Setup complete!\")\n"
      ]
    },
    {
      "cell_type": "code",
      "execution_count": 4,
      "metadata": {},
      "outputs": [
        {
          "name": "stdout",
          "output_type": "stream",
          "text": [
            " Testing basic Playwright functionality...\n",
            " Playwright test failed: It looks like you are using Playwright Sync API inside the asyncio loop.\n",
            "Please use the Async API instead.\n"
          ]
        }
      ],
      "source": [
        "# Test Basic Playwright Functionality\n",
        "def test_playwright_basic():\n",
        "    \"\"\"Test basic Playwright functionality.\"\"\"\n",
        "    try:\n",
        "        from playwright.sync_api import sync_playwright\n",
        "        \n",
        "        print(\" Testing basic Playwright functionality...\")\n",
        "        \n",
        "        with sync_playwright() as p:\n",
        "            # Launch browser\n",
        "            browser = p.chromium.launch(headless=True)\n",
        "            page = browser.new_page()\n",
        "            \n",
        "            # Navigate to a simple page\n",
        "            page.goto(\"https://httpbin.org/html\")\n",
        "            \n",
        "            # Get page title\n",
        "            title = page.title()\n",
        "            print(f\" Page title: {title}\")\n",
        "            \n",
        "            # Get some text content\n",
        "            content = page.text_content(\"h1\")\n",
        "            print(f\" Page content: {content}\")\n",
        "            \n",
        "            browser.close()\n",
        "            print(\" Basic Playwright test successful!\")\n",
        "            return True\n",
        "            \n",
        "    except Exception as e:\n",
        "        print(f\" Playwright test failed: {e}\")\n",
        "        return False\n",
        "\n",
        "# Run the test\n",
        "playwright_working = test_playwright_basic()\n"
      ]
    },
    {
      "cell_type": "code",
      "execution_count": null,
      "metadata": {},
      "outputs": [],
      "source": []
    },
    {
      "cell_type": "code",
      "execution_count": null,
      "metadata": {},
      "outputs": [],
      "source": []
    }
  ],
  "metadata": {
    "kernelspec": {
      "display_name": ".venv",
      "language": "python",
      "name": "python3"
    },
    "language_info": {
      "codemirror_mode": {
        "name": "ipython",
        "version": 3
      },
      "file_extension": ".py",
      "mimetype": "text/x-python",
      "name": "python",
      "nbconvert_exporter": "python",
      "pygments_lexer": "ipython3",
      "version": "3.12.3"
    }
  },
  "nbformat": 4,
  "nbformat_minor": 2
}
