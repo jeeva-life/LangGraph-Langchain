{
 "cells": [
  {
   "cell_type": "code",
   "execution_count": 1,
   "id": "cf9ac01e",
   "metadata": {},
   "outputs": [],
   "source": [
    "import os\n",
    "from dotenv import load_dotenv\n",
    "load_dotenv()\n",
    "\n",
    "os.environ[\"OPENAI_API_KEY\"] = os.getenv(\"OPENAI_API_KEY\")\n",
    "os.environ[\"TAVILY_API_KEY\"] = os.getenv(\"TAVILY_API_KEY\")"
   ]
  },
  {
   "cell_type": "code",
   "execution_count": 2,
   "id": "a64b8abb",
   "metadata": {},
   "outputs": [
    {
     "name": "stderr",
     "output_type": "stream",
     "text": [
      "USER_AGENT environment variable not set, consider setting it to identify your requests.\n"
     ]
    }
   ],
   "source": [
    "from langchain.text_splitter import RecursiveCharacterTextSplitter\n",
    "from langchain_community.document_loaders import WebBaseLoader\n",
    "from langchain_community.vectorstores import FAISS\n",
    "from langchain_openai import OpenAIEmbeddings\n",
    "\n",
    "embeddings = OpenAIEmbeddings()\n",
    "\n",
    "# docs to index\n",
    "urls = [\n",
    "    \"https://www.langchain.com/docs/get-started/introduction\",\n",
    "    \"https://www.langchain.com/docs/get-started/quickstart\"\n",
    "    \n",
    "]\n",
    "\n",
    "# Load\n",
    "docs = [WebBaseLoader(url).load() for url in urls]\n",
    "doc_list = [item for sublist in docs for item in sublist]\n",
    "\n",
    "# Split\n",
    "text_splitter = RecursiveCharacterTextSplitter(chunk_size=1000, chunk_overlap=200)\n",
    "\n",
    "doc_splits = text_splitter.split_documents(doc_list)\n",
    "\n",
    "# Add to vector store\n",
    "vectorstore = FAISS.from_documents(doc_splits, embeddings)\n",
    "\n",
    "retriever = vectorstore.as_retriever()\n"
   ]
  },
  {
   "cell_type": "code",
   "execution_count": 6,
   "id": "1987c687",
   "metadata": {},
   "outputs": [
    {
     "name": "stdout",
     "output_type": "stream",
     "text": [
      "binary_score='no'\n"
     ]
    }
   ],
   "source": [
    "## retriever grader\n",
    "from langchain_core.prompts import ChatPromptTemplate\n",
    "from langchain_openai import ChatOpenAI\n",
    "\n",
    "from pydantic import BaseModel, Field\n",
    "\n",
    "# Data Model\n",
    "class RetrieverGrader(BaseModel):\n",
    "    \"\"\"Binary score for relevance check on retrieved docs\"\"\"\n",
    "\n",
    "    binary_score: str = Field(\n",
    "        description=\"Binary score for relevance check on retrieved docs, 'yes' or 'no'\"\n",
    "    )\n",
    "\n",
    "# LLM with function call\n",
    "llm = ChatOpenAI(model=\"gpt-4o-mini\", temperature=0)\n",
    "structured_llm_grader = llm.with_structured_output(RetrieverGrader)\n",
    "\n",
    "# Prompt\n",
    "system = \"\"\"You are a grader assessing relevance of a retrieved document to a user query. \\n\n",
    "    If the document contains keyword(s) or semantic meaning related to the question, grade it as relevant \\n\n",
    "    Give a binary score 'yes' or 'no' to indicate whether the document is relevant to the question\"\"\"\n",
    "\n",
    "grade_prompt = ChatPromptTemplate.from_messages(\n",
    "    [\n",
    "        (\"system\", system),\n",
    "        (\"human\", \"Retrieved Document: {doc}\\nUser Query: {query}\"),\n",
    "    ]\n",
    ")\n",
    "\n",
    "retriever_grader = grade_prompt | structured_llm_grader\n",
    "query = \"What is LangChain?\"\n",
    "docs = retriever.invoke(query)\n",
    "doc_txt = docs[1].page_content\n",
    "print(retriever_grader.invoke({\"doc\": doc_txt, \"query\": query}))\n",
    "\n",
    "    "
   ]
  },
  {
   "cell_type": "code",
   "execution_count": 7,
   "id": "9c48f11f",
   "metadata": {},
   "outputs": [
    {
     "name": "stdout",
     "output_type": "stream",
     "text": [
      "I don't know.\n"
     ]
    }
   ],
   "source": [
    "## Generate response\n",
    "from langchain import hub\n",
    "from langchain_core.output_parsers import StrOutputParser\n",
    "\n",
    "#Prompt\n",
    "prompt = hub.pull(\"rlm/rag-prompt\")\n",
    "\n",
    "#LLM\n",
    "llm = ChatOpenAI(model=\"gpt-4o-mini\", temperature=0)\n",
    "\n",
    "#Post-Processing\n",
    "def format_docs(docs):\n",
    "    return \"\\n\\n\".join(doc.page_content for doc in docs)\n",
    "\n",
    "# Chain\n",
    "rag_chain = prompt | llm | StrOutputParser()\n",
    "\n",
    "# Run\n",
    "generation = rag_chain.invoke({\"context\": docs, \"question\": query})\n",
    "print(generation)\n"
   ]
  },
  {
   "cell_type": "code",
   "execution_count": 8,
   "id": "a6efb56c",
   "metadata": {},
   "outputs": [
    {
     "data": {
      "text/plain": [
       "'What is LangChain and how is it used in programming and AI development?'"
      ]
     },
     "execution_count": 8,
     "metadata": {},
     "output_type": "execute_result"
    }
   ],
   "source": [
    "### Question Rewriter\n",
    "\n",
    "# LLM\n",
    "llm = ChatOpenAI(model=\"gpt-4o-mini\", temperature=0)\n",
    "\n",
    "#Prompt\n",
    "system = \"\"\"You are a question rewriter that converts an input question to a better version that is optimized\\n\n",
    "for  web search. look at the input & try to reason about the underlying semantic intent/meaning.\"\"\"\n",
    "\n",
    "re_write_prompt = ChatPromptTemplate.from_messages(\n",
    "    [\n",
    "        (\"system\", system),\n",
    "        (\"human\", \"Here is the initial Question: {question} \\n Formulate an improved question\"),\n",
    "    ]\n",
    ")\n",
    "\n",
    "# Chain\n",
    "question_rewriter = re_write_prompt | llm | StrOutputParser()\n",
    "question_rewriter.invoke({\"question\": query})\n",
    "# Run\n",
    "\n"
   ]
  },
  {
   "cell_type": "code",
   "execution_count": 9,
   "id": "1b7ead76",
   "metadata": {},
   "outputs": [
    {
     "name": "stderr",
     "output_type": "stream",
     "text": [
      "C:\\Users\\DELL\\AppData\\Local\\Temp\\ipykernel_15144\\2958658814.py:4: LangChainDeprecationWarning: The class `TavilySearchResults` was deprecated in LangChain 0.3.25 and will be removed in 1.0. An updated version of the class exists in the :class:`~langchain-tavily package and should be used instead. To use it run `pip install -U :class:`~langchain-tavily` and import as `from :class:`~langchain_tavily import TavilySearch``.\n",
      "  web_search_tool = TavilySearchResults(max_results=5)\n"
     ]
    }
   ],
   "source": [
    "## Search\n",
    "from langchain_community.tools.tavily_search import TavilySearchResults\n",
    "\n",
    "web_search_tool = TavilySearchResults(max_results=5)"
   ]
  },
  {
   "cell_type": "code",
   "execution_count": 10,
   "id": "fe7431e3",
   "metadata": {},
   "outputs": [],
   "source": [
    "from typing import List\n",
    "from typing_extensions import TypedDict\n",
    "\n",
    "class GraphState(TypedDict):\n",
    "    \"\"\"\n",
    "    Represents the state of our graph.\n",
    "\n",
    "    Attributes:\n",
    "        question: question\n",
    "        generation: LLM generation\n",
    "        web_search: whether to add search\n",
    "        documents: list of documents\n",
    "    \"\"\"\n",
    "\n",
    "    question: str\n",
    "    generation: str\n",
    "    web_search: str\n",
    "    documents: List[str]"
   ]
  },
  {
   "cell_type": "code",
   "execution_count": 12,
   "id": "a55215a1",
   "metadata": {},
   "outputs": [],
   "source": [
    "from langchain.schema import Document\n",
    "\n",
    "def retrieve(state: GraphState):\n",
    "    \"\"\"\n",
    "    Retrieve documents\n",
    "\n",
    "    Args:\n",
    "        state (dict): the current graph state\n",
    "\n",
    "    Returns:\n",
    "        state (dict): New key added to state, documents, that contains retrieved documents\n",
    "    \"\"\"\n",
    "    print(\"--- Retrieving documents ---\")\n",
    "    question = state[\"question\"]\n",
    "\n",
    "    # retrieve documents\n",
    "    documents = retriever.invoke(question)\n",
    "    return {\"documents\": documents, \"question\": question}\n",
    "\n",
    "def generate_response(state: GraphState):\n",
    "    \"\"\"\n",
    "    Generate Answer\n",
    "\n",
    "    Args:\n",
    "        state (dict): the current graph state\n",
    "\n",
    "    Returns:\n",
    "        state (dict): New key added to state, generation, that contains the LLM generation\n",
    "    \"\"\"\n",
    "    print(\"--- Generating response ---\")\n",
    "    question = state[\"question\"]\n",
    "    documents = state[\"documents\"]\n",
    "\n",
    "    # generate response\n",
    "    generation = rag_chain.invoke({\"context\": documents, \"question\": question})\n",
    "    return {\"documents\": documents, \"question\": question, \"generation\": generation}\n",
    "\n",
    "def grade_document(state: GraphState):\n",
    "    \"\"\"\n",
    "    Determine whether the retrieved documents are relevant to the question\n",
    "\n",
    "    Args:\n",
    "        state (dict): the current graph state\n",
    "\n",
    "    Returns:\n",
    "        state (dict): New key added to state, binary_score, that contains the binary score\n",
    "    \"\"\"\n",
    "    print(\"--- CHECK DOCUMENT RELEVANCE TO QUESTION ---\")\n",
    "    question = state[\"question\"]\n",
    "    documents = state[\"documents\"]\n",
    "\n",
    "    # score each document\n",
    "    filtered_docs = []\n",
    "    web_search = \"No\"\n",
    "\n",
    "    for doc in documents:\n",
    "        score = retriever_grader.invoke({\"doc\": doc.page_content, \"query\": question})\n",
    "\n",
    "        grade = score.binary_score\n",
    "\n",
    "        if grade == \"yes\":\n",
    "            print(\"--- Document is relevant to question ---\")\n",
    "            filtered_docs.append(doc)\n",
    "        else:\n",
    "            print(\"--- Document is not relevant to question ---\")\n",
    "            web_search = \"Yes\"\n",
    "            continue\n",
    "\n",
    "    return {\"documents\": filtered_docs, \"question\": question, \"web_search\": web_search}\n",
    "\n",
    "\n",
    "def transform_question(state: GraphState):\n",
    "    \"\"\"\n",
    "    Transform question to produce a better question.\n",
    "\n",
    "    Args:\n",
    "        state (dict): the current graph state\n",
    "\n",
    "    Returns:\n",
    "        state (dict): New key added to state, question, that contains the transformed question\n",
    "    \"\"\"\n",
    "    print(\"--- TRANSFORM QUESTION ---\")\n",
    "    question = state[\"question\"]\n",
    "    documents = state[\"documents\"]\n",
    "\n",
    "    # Rewrite question\n",
    "    transformed_question = question_rewriter.invoke({\"question\": question})\n",
    "    return {\"documents\": documents, \"question\": transformed_question}\n",
    "\n",
    "def search_web(state: GraphState):\n",
    "    \"\"\"\n",
    "    Search the web for rephrased question.\n",
    "\n",
    "    Args:\n",
    "        state (dict): the current graph state\n",
    "\n",
    "    Returns:\n",
    "        state (dict): Updates documents key with appended web results\n",
    "    \"\"\"\n",
    "    print(\"--- SEARCHING WEB ---\")\n",
    "    question = state[\"question\"]\n",
    "    documents = state[\"documents\"]\n",
    "\n",
    "    # search web\n",
    "    docs = web_search_tool.invoke({\"query\": question})\n",
    "    web_results = \"\\n\".join([d[\"content\"] for d in docs])\n",
    "    web_results = Document(page_content=web_results)\n",
    "\n",
    "    # append web results to documents\n",
    "    documents.append(web_results)\n",
    "\n",
    "    return {\"documents\": documents, \"question\": question}\n",
    "\n",
    "\n",
    "def decide_to_generate(state: GraphState):\n",
    "    \"\"\"\n",
    "    Determines whether to generate an answer or re-generate the question.\n",
    "\n",
    "    Args:\n",
    "        state (dict): the current graph state\n",
    "\n",
    "    Returns:\n",
    "        str: Binary decision for next node to call\n",
    "    \"\"\"\n",
    "\n",
    "    print(\"-- ASSESS GRADED DOCUMENTS ---\")\n",
    "    state[\"question\"]\n",
    "    web_search = state[\"web_search\"]\n",
    "    documents = state[\"documents\"]\n",
    "\n",
    "    if web_search == \"Yes\":\n",
    "        # All documents have been filtered check_relevance\n",
    "        # We will re-generate a new query\n",
    "        print(\n",
    "            \"---DECISION: ALL DOCS ARE NOT RELEVANT TO QUESTION, TRANSFORM QUESTION---\"\n",
    "        )\n",
    "        return \"transform_question\"\n",
    "    else:\n",
    "        # We have relevant documents\n",
    "        print(\"---DECISION: DOCUMENTS ARE RELEVANT TO QUESTION, GENERATE ANSWER---\")\n",
    "        return \"generate_response\"\n",
    "\n",
    "\n",
    "\n",
    "\n",
    "\n"
   ]
  },
  {
   "cell_type": "code",
   "execution_count": 14,
   "id": "d37ab792",
   "metadata": {},
   "outputs": [
    {
     "data": {
      "image/png": "[encoded data removed]",
      "text/plain": [
       "<IPython.core.display.Image object>"
      ]
     },
     "metadata": {},
     "output_type": "display_data"
    }
   ],
   "source": [
    "from langgraph.graph import StateGraph, START, END\n",
    "\n",
    "workflow = StateGraph(GraphState)\n",
    "\n",
    "# define nodes\n",
    "workflow.add_node(\"retrieve\", retrieve)\n",
    "workflow.add_node(\"grade_document\", grade_document)\n",
    "workflow.add_node(\"transform_question\", transform_question)\n",
    "workflow.add_node(\"search_web\", search_web)\n",
    "workflow.add_node(\"generate_response\", generate_response)\n",
    "\n",
    "# build graph\n",
    "workflow.add_edge(START, \"retrieve\")\n",
    "workflow.add_edge(\"retrieve\", \"grade_document\")\n",
    "workflow.add_conditional_edges(\n",
    "    \"grade_document\",\n",
    "    decide_to_generate,\n",
    "    {\n",
    "        \"transform_question\": \"transform_question\",\n",
    "        \"generate_response\": \"generate_response\",\n",
    "    },\n",
    ")\n",
    "workflow.add_edge(\"transform_question\", \"search_web\")\n",
    "workflow.add_edge(\"search_web\", \"generate_response\")\n",
    "workflow.add_edge(\"generate_response\", END)\n",
    "\n",
    "# compile graph\n",
    "graph = workflow.compile()\n",
    "\n",
    "from IPython.display import Image\n",
    "display(Image(graph.get_graph().draw_mermaid_png()))"
   ]
  },
  {
   "cell_type": "code",
   "execution_count": 15,
   "id": "42d9dbb2",
   "metadata": {},
   "outputs": [
    {
     "name": "stdout",
     "output_type": "stream",
     "text": [
      "--- Retrieving documents ---\n",
      "--- CHECK DOCUMENT RELEVANCE TO QUESTION ---\n",
      "--- Document is not relevant to question ---\n",
      "--- Document is not relevant to question ---\n",
      "-- ASSESS GRADED DOCUMENTS ---\n",
      "---DECISION: ALL DOCS ARE NOT RELEVANT TO QUESTION, TRANSFORM QUESTION---\n",
      "--- TRANSFORM QUESTION ---\n",
      "--- SEARCHING WEB ---\n",
      "--- Generating response ---\n"
     ]
    },
    {
     "data": {
      "text/plain": [
       "{'question': 'What is LangChain and how is it used in programming and AI development?',\n",
       " 'generation': 'LangChain is an open-source framework that simplifies the development of applications using large language models (LLMs) by providing a standardized interface for integration with various tools. It allows developers to connect LLMs to external data sources, manage prompts, and create complex workflows efficiently. This framework is available for both Python and JavaScript, making it versatile for AI development.',\n",
       " 'web_search': 'Yes',\n",
       " 'documents': [Document(metadata={}, page_content='# Introduction to LangChain\\n\\nLast Updated : \\n25 Aug, 2025\\n\\nSuggest changes\\n\\n12 Likes\\n\\nLangChain is an open-source framework designed to simplify the creation of applications using large language models (LLMs). It provides a standard interface for integrating with other tools and end-to-end chains for common applications. It helps AI developers connect LLMs such as GPT-4 with external data and computation. This framework comes for both Python and JavaScript.\\n\\nKey benefits include: [...] The LangChain framework is a great interface to develop interesting AI-powered applications and from personal assistants to prompt management as well as automating tasks. So, keep learning and keep developing powerful applications.\\n\\n  \\n\\nIntroduction to Langchain\\n\\nN\\n\\nnamaldesign\\n\\nImprove\\n\\nN\\n\\nnamaldesign\\n\\nImprove\\n\\nArticle Tags :\\n\\n Artificial Intelligence\\n Python-Library\\n Python-Miscellaneous\\n python\\n ChatGPT Prompts\\n OpenAI API\\n\\n### Explore\\n\\n## Introduction to AI [...] 2. Prompt Management: LangChain facilitates managing and customizing prompts passed to the LLM. Developers can use PromptTemplates to define how inputs and outputs are formatted before being passed to the model. It also simplifies tasks like handling dynamic variables and prompt engineering, making it easier to control the LLM\\'s behavior.\\nLangChain is a framework that simplifies the process of creating generative AI application interfaces. Developers working on these types of interfaces use various tools to create advanced NLP apps; LangChain streamlines this process. For example, LLMs must access large volumes of big data, so LangChain organizes these large quantities of data so that they can be accessed with ease.\\n\\nThis article is part of\\n\\n### What is GenAI? Generative AI explained [...] Simplified development. LangChain offers a standardized interface that enables developers to easily switch between different LLMs, streamline workflows and reduce integration complexity. For example, they can switch between LLMs from providers such as OpenAI or Hugging Face with minimal code changes. [...] Share this item with your network:\\n    and its machine learning subset to combine large language models with other external components to develop LLM-powered applications.\\n\\nLangChain aims to link powerful LLMs, such as OpenAI\\'s GPT-3.5 and GPT-4, to an array of external data sources to create and reap the benefits of natural language processing (NLP) applications. It\\'s also used for creating interfaces that produce humanlike responses and answer questions.\\n### Simplify AI development\\n\\nLangChain simplifies artificial intelligence (AI) development by abstracting the complexity of data source integrations and prompt refining. Developers can customize sequences to build complex applications quickly. Instead of programming business logic, software teams can modify templates and libraries that LangChain provides to reduce development time.\\n\\n### Developer support [...] LangChain provides AI developers with tools to connect language models with external data sources. It is open-source and supported by an active community. Organizations can use LangChain for free and receive support from other developers proficient in the framework.\\n\\nHow does LangChain work?\\n\\nWith LangChain, developers can adapt a language model flexibly to specific business contexts by designating steps required to produce the desired outcome.\\n\\n### Chains [...] . LLMs are large deep-learning models pre-trained on large amounts of data that can generate responses to user queries—for example, answering questions or creating images from text-based prompts. LangChain provides tools and abstractions to improve the customization, accuracy, and relevancy of the information the models generate. For example, developers can use LangChain components to build new prompt chains or customize existing templates. LangChain also includes components that allow LLMs to\\n# Execute parallel chain await \"text\" \"LangChain is a framework for developing \"\"applications powered by language models.\" print\"Original:\" \"original\" \"text\" print\"\\\\\\\\nOpenAI:\" \"openai\" print\"Claude:\" \"claude\" print\"Gemma:\" \"gemma\"\\n``` [...] Perhaps most importantly, LangChain standardizes how you interact with AI services. Whether you’re using OpenAI, Anthropic’s Claude, or an open-source model running locally, the interface remains consistent. This isn’t just convenient — it’s future-proofing for your applications.\\n\\n## Setting Up Your AI Development Environment [...] These capabilities make LangChain essential for developers who need to build robust, production-ready AI applications.\\n\\n## 2. Composability: The Power of Pipelines\\n\\nLangChain’s true elegance emerges when you connect these components. Using the LangChain Expression Language (LCEL), you can create sophisticated workflows with simple, readable code:\\nNow stop me if you\\'ve heard this one before, but there are a lot of large language models available today, and they have their own capabilities and specialties. What if I prefer to use one LLM to interpret some user queries in my business application, but a whole other LLM to author a response to those queries? Well, that scenario is exactly what the LangChain caters to. Langchain as an open source orchestration framework for the development of applications that use large language models. And [...] the right workflows, LangChain\\'s agent modules can use an LLM to autonomously determine the next steps, and then take the action that it needs to complete that step using something called RPA, or robotic process automation. LangChain is open source and free to use. There are also related frameworks like LangServe for creating chains as REST APIs and then LangSmith, which provides tools to monitor, evaluate and debug applications. Essentially LangChain\\'s tools and APIs simplify the process of')]}"
      ]
     },
     "execution_count": 15,
     "metadata": {},
     "output_type": "execute_result"
    }
   ],
   "source": [
    "graph.invoke({\"question\": \"What is LangChain?\"})"
   ]
  },
  {
   "cell_type": "code",
   "execution_count": null,
   "id": "7fccfe59",
   "metadata": {},
   "outputs": [],
   "source": []
  },
  {
   "cell_type": "code",
   "execution_count": null,
   "id": "1394c1a1",
   "metadata": {},
   "outputs": [],
   "source": []
  }
 ],
 "metadata": {
  "kernelspec": {
   "display_name": ".venv",
   "language": "python",
   "name": "python3"
  },
  "language_info": {
   "codemirror_mode": {
    "name": "ipython",
    "version": 3
   },
   "file_extension": ".py",
   "mimetype": "text/x-python",
   "name": "python",
   "nbconvert_exporter": "python",
   "pygments_lexer": "ipython3",
   "version": "3.12.3"
  }
 },
 "nbformat": 4,
 "nbformat_minor": 5
}
