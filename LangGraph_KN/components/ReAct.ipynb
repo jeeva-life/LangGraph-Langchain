{
 "cells": [
  {
   "cell_type": "markdown",
   "id": "309cc21f",
   "metadata": {},
   "source": [
    "## Building chatbot with multi tools using langgraph\n",
    "\n",
    "### Aim is to create a chatbot with tool cappabilities from ARXIV, wikipedia search & some custom functions"
   ]
  },
  {
   "cell_type": "code",
   "execution_count": 5,
   "id": "f8f78e7b",
   "metadata": {},
   "outputs": [],
   "source": [
    "from langchain_community.tools import ArxivQueryRun, WikipediaQueryRun\n",
    "from langchain_community.utilities import WikipediaAPIWrapper, ArxivAPIWrapper\n",
    "\n"
   ]
  },
  {
   "cell_type": "code",
   "execution_count": 6,
   "id": "fbb2546c",
   "metadata": {},
   "outputs": [
    {
     "name": "stdout",
     "output_type": "stream",
     "text": [
      "Published: 2025-04-03\n",
      "Title: A Review of Prototyping in XR: Linking Extended Reality to Digital Fabrication\n",
      "Authors: Bixun Chen, Shaun Macdonald, Moataz Attallah, Paul Chapman, Rami Ghannam\n",
      "Summary: Extended Reality (XR) has expanded the horizons of entertainment and social\n",
      "life and shows great potential in the manufacturing industry. Prototyping in XR\n",
      "can help designers make initial proposals and\n"
     ]
    }
   ],
   "source": [
    "api_wrapper_arxiv = ArxivAPIWrapper(top_k_results=2, doc_content_chars_max=400)\n",
    "arxiv = ArxivQueryRun(api_wrapper=api_wrapper_arxiv)\n",
    "\n",
    "print(arxiv.invoke(\"What is the latest research on LangChain?\"))"
   ]
  },
  {
   "cell_type": "code",
   "execution_count": 7,
   "id": "abbd906e",
   "metadata": {},
   "outputs": [
    {
     "name": "stdout",
     "output_type": "stream",
     "text": [
      "arxiv\n"
     ]
    }
   ],
   "source": [
    "print(arxiv.name)"
   ]
  },
  {
   "cell_type": "code",
   "execution_count": 8,
   "id": "a70ad0bf",
   "metadata": {},
   "outputs": [
    {
     "name": "stdout",
     "output_type": "stream",
     "text": [
      "Published: 2024-07-22\n",
      "Title: Attention Is All You Need But You Don't Need All Of It For Inference of Large Language Models\n",
      "Authors: Georgy Tyukin, Gbetondji J-S Dovonon, Jean Kaddour, Pasquale Minervini\n",
      "Summary: The inference demand for LLMs has skyrocketed in recent months, and serving\n",
      "models with low latencies remains challenging due to the quadratic input length\n",
      "complexity of the attention laye\n"
     ]
    }
   ],
   "source": [
    "print(arxiv.invoke(\"Attention is all you need\"))"
   ]
  },
  {
   "cell_type": "code",
   "execution_count": 9,
   "id": "6d2b4bf2",
   "metadata": {},
   "outputs": [
    {
     "name": "stdout",
     "output_type": "stream",
     "text": [
      "Page: Wednesday (TV series)\n",
      "Summary: Wednesday is an American supernatural mystery comedy television series based on the character Wednesday Addams by Charles Addams. Created by Alfred Gough and Miles Millar, it stars Jenna Ortega as the titular character, with Luis Guzmán and Catherine Zeta-Jones portraying her parents in the series. Four out of the eight episodes of the first season were directe\n"
     ]
    }
   ],
   "source": [
    "api_wrapper_wikipedia = WikipediaAPIWrapper(top_k_results=2, doc_content_chars_max=400)\n",
    "wikipedia = WikipediaQueryRun(api_wrapper=api_wrapper_wikipedia)\n",
    "\n",
    "print(wikipedia.invoke(\"What is the latest research on LangChain?\"))\n",
    "#print(wikipedia.name)\n",
    "\n",
    "\n"
   ]
  },
  {
   "cell_type": "code",
   "execution_count": 11,
   "id": "fe7a818d",
   "metadata": {},
   "outputs": [],
   "source": [
    "from dotenv import load_dotenv\n",
    "load_dotenv()\n",
    "import os\n",
    "\n",
    "os.environ[\"TAVILY_API_KEY\"] = os.getenv(\"TAVILY_API_KEY\")\n",
    "os.environ[\"OPENAI_API_KEY\"] = os.getenv(\"OPENAI_API_KEY\")\n",
    "os.environ[\"LANGCHAIN_API_KEY\"] = os.getenv(\"LANGCHAIN_API_KEY\")\n",
    "os.environ[\"LANGCHAIN_TRACING_V2\"] = \"true\"\n",
    "os.environ[\"LANGCHAIN_PROJECT\"] = \"ReAct-Agent\""
   ]
  },
  {
   "cell_type": "code",
   "execution_count": 12,
   "id": "e0becaaf",
   "metadata": {},
   "outputs": [
    {
     "name": "stderr",
     "output_type": "stream",
     "text": [
      "C:\\Users\\DELL\\AppData\\Local\\Temp\\ipykernel_3176\\621676392.py:4: LangChainDeprecationWarning: The class `TavilySearchResults` was deprecated in LangChain 0.3.25 and will be removed in 1.0. An updated version of the class exists in the :class:`~langchain-tavily package and should be used instead. To use it run `pip install -U :class:`~langchain-tavily` and import as `from :class:`~langchain_tavily import TavilySearch``.\n",
      "  tavily = TavilySearchResults()\n"
     ]
    }
   ],
   "source": [
    "#getting my tavily search tool\n",
    "from langchain_community.tools import TavilySearchResults\n",
    "# from langchain_community.tools.tavily_search import TavilySearchResults\n",
    "tavily = TavilySearchResults()"
   ]
  },
  {
   "cell_type": "code",
   "execution_count": 13,
   "id": "22047428",
   "metadata": {},
   "outputs": [
    {
     "data": {
      "text/plain": [
       "[{'title': \"LangChain : Why It's the Foundation of AI Agent Development in the ...\",\n",
       "  'url': 'https://medium.com/@takafumi.endo/langchain-why-its-the-foundation-of-ai-agent-development-in-the-enterprise-era-f082717c56d3',\n",
       "  'content': 'The technical maturation has been equally impressive. Recent versions of LangChain have introduced enhanced streaming capabilities and expanded partner package support. LangGraph continues to evolve with advanced features that make sophisticated multi-agent workflows not just possible, but practical. The architectural migration from Pydantic v1 to v2 and separation of community packages demonstrates the kind of engineering discipline required for enterprise adoption. [...] The business model validation is equally compelling. Reports indicate LangChain achieved significant revenue growth, with some estimates suggesting figures around $8.5 million during their first year of monetization in 2024— with innovative pricing strategies like trace retention options (14-day base vs. 400-day extended) that allow customers to balance cost and utility. This isn’t just a nice-to-have tool; it’s become the operational backbone for production AI deployment. [...] To truly grasp LangChain’s impact, one must appreciate its core philosophy: composability. The power isn’t in any single component, but in how they can be assembled to create workflows that are far more capable than the sum of their parts. The metrics reveal this evolution dramatically: the average steps per trace increased from 2.8 in 2023 to 7.7 in 2024, while 43% of organizations now use LangGraph for agent workflows.\\n\\n### Chains: From Basic Prompts to Reliable Reasoning Pipelines',\n",
       "  'score': 0.6122407},\n",
       " {'title': 'Customer Stories - LangChain',\n",
       "  'url': 'https://www.langchain.com/customers',\n",
       "  'content': \"# Customers choose LangChain to build reliable agents\\n\\n%201.svg)\\n\\n%201.svg)\\n\\n## Hear from engineers who trust LangChain products.\\n\\n##### How Morningstar saves 30% of analysts' time with Mo, its AI Research Assistant\\n\\n##### How Outshift by Cisco boosted productivity 10x with their AI Platform Engineer\\n\\n##### How Rakuten speeds up time-to-market for business operations\\n\\n##### How Modern Treasury built a financial operations AI agent\\n\\n##### How Pigment built their AI business planning platform [...] ##### How Podium reduced engineering intervention by 90% with LangSmith\\n\\n##### Vizient provides reliable insights for healthcare providers with LangGraph & LangSmith\\n\\n##### AppFolio's copilot saves property managers 10+ hours a week\\n\\n##### Unify launches agents for account qualification with LangGraph & LangSmith\\n\\n##### Lovable scales its agent to $25M ARR in 4 months, gaining visibility with LangSmith\\n\\n##### Vodafone transforms data operations with AI monitoring [...] ##### How City of Hope saved clinicians 1000+ hours with HopeLLM\\n\\n## Customer Stories\\n\\n##### Klarna's AI Assistant speeds up customer resolution with LangSmith & LangGraph\\n\\n##### Trellix cuts log parsing time from days to minutes with LangSmith & LangGraph\\n\\n##### How Replit uses LangSmith for improved agent performance\\n\\n##### How C.H. Robinson transformed logistics shipments with LangSmith & LangGraph\\n\\n##### Elastic's AI Assistant leverages LangChain ecosystem to detect security threats\",\n",
       "  'score': 0.57723385},\n",
       " {'title': 'LangChain Blog',\n",
       "  'url': 'https://blog.langchain.com/',\n",
       "  'content': \"TL;DR\\nDeep research has broken out as one of the most popular agent applications. OpenAI, Anthropic, Perplexity, and Google all have deep research products\\n\\nPage\\n1\\nof\\n27\\n\\n© LangChain Blog 2025 [...] Learn why agent infrastructure is essential to handling stateful, long-running tasks — and how LangGraph Platform provides the runtime support needed to build and scale reliable agents.\\n\\nLangSmith and LangGraph Platform are now available in AWS Marketplace\\n\\n## LangSmith and LangGraph Platform are now available in AWS Marketplace\\n\\nLangSmith and LangGraph Platform (self-hosted deployments) are now available in AWS Marketplace.\\n\\nOpen Deep Research\\n\\n## Open Deep Research [...] How Klarna's AI assistant redefined customer support at scale for 85 million active users\\n\\n## How Klarna's AI assistant redefined customer support at scale for 85 million active users\\n\\nIs LangGraph Used In Production?\\n\\n## Is LangGraph Used In Production?\\n\\nIntroducing Interrupt: The AI Agent Conference by LangChain\\n\\n## Introducing Interrupt: The AI Agent Conference by LangChain\\n\\nMonte Carlo: Building Data + AI Observability Agents with LangGraph and LangSmith\",\n",
       "  'score': 0.50007385},\n",
       " {'title': 'Open Deep Research',\n",
       "  'url': 'https://blog.langchain.com/open-deep-research/',\n",
       "  'content': \"Success! Please check your inbox and click the link to confirm your subscription.\\n\\nSorry, something went wrong. Please try again.\\n\\n© LangChain Blog 2025 [...] We've hosted Open Deep Research on our demo instance of Open Agent Platform (OAP). OAP is a citizen developer platform, allowing users to build, prototype, and use agents - all you need to do is pass in your API keys. You can also deploy your own instance of OAP to host Deep Research alongside other LangGraph agents!\\n\\n### Join our newsletter\\n\\nUpdates from the LangChain team and community\\n\\nProcessing your application... [...] LangChain Blog\\nOpen Deep Research\\n\\n# Open Deep Research\\n\\n## TL;DR\\n\\nDeep research has broken out as one of the most popular agent applications. OpenAI, Anthropic, Perplexity, and Google all have deep research products that produce comprehensive reports using various sources of context. There are also many open source implementations.\\n\\nWe've built an open deep researcher that is simple and configurable, allowing users to bring their own models, search tools, and MCP servers.\\n\\n## Challenge\",\n",
       "  'score': 0.4237686},\n",
       " {'title': 'LangChain',\n",
       "  'url': 'https://www.langchain.com/',\n",
       "  'content': \"Improve the speed & efficiency\\u2028of support teams that handle customer requests.\\n\\n[](\\n\\n#### Research\\n\\nSynthesize data, summarize sources & uncover insights faster than ever for knowledge work.\\n\\n[](\\n\\n#### Code generation\\n\\nAccelerate software development by automating code writing, refactoring, and documentation for your team.\\n\\n[](\\n\\n#### AI Search\\n\\nOffer a concierge experience to guide users to products or information in a personalized way.\\n\\n[]( [...] Controllable agent orchestration with built-in persistence to handle conversational history, memory, and agent-to-agent collaboration.\\n\\n###### INTEGRATIONS:\\n\\n###### Integrate components with LangChain\\n\\nIntegrate with the latest models, databases, and tools with no engineering overhead.\\n\\n###### EVALS & OBSERVABILITY:\\n\\n###### Gain visibility with LangSmith\\n\\nDebug poor-performing LLM app runs. Evaluate and observe agent performance at scale.\\n\\n###### DEPLOYMENT: [...] Your choice\\n\\nDeployment:\\n\\n## Get inspired by companies who have done it.\\n\\nTeams building with LangChain products are driving operational efficiency, increasing discovery & personalization, and delivering premium products that generate revenue.\\n\\nDiscover Use Cases\\n\\nFinancial Services\\n\\nKlarna's AI assistant has reduced average customer query resolution time by 80%, powered by LangSmith and LangGraph\\n\\nTransportation\",\n",
       "  'score': 0.37779367}]"
      ]
     },
     "execution_count": 13,
     "metadata": {},
     "output_type": "execute_result"
    }
   ],
   "source": [
    "tavily.invoke(\"What is the latest research on LangChain?\")"
   ]
  },
  {
   "cell_type": "code",
   "execution_count": 14,
   "id": "628bc9c2",
   "metadata": {},
   "outputs": [],
   "source": [
    "## I will combine all tools in a LIST\n",
    "\n",
    "tools = [arxiv, wikipedia, tavily]"
   ]
  },
  {
   "cell_type": "code",
   "execution_count": 15,
   "id": "cc25acab",
   "metadata": {},
   "outputs": [],
   "source": [
    "from langchain_openai import ChatOpenAI\n",
    "\n",
    "llm = ChatOpenAI(model=\"gpt-4o-mini\", temperature=0)\n",
    "\n",
    "llm_with_tools = llm.bind_tools(tools)"
   ]
  },
  {
   "cell_type": "code",
   "execution_count": 16,
   "id": "b579d90d",
   "metadata": {},
   "outputs": [
    {
     "data": {
      "text/plain": [
       "AIMessage(content='', additional_kwargs={'tool_calls': [{'id': 'call_30sWdULdIkAh1E9o4Ur9Mc9v', 'function': {'arguments': '{\"query\":\"LangChain\"}', 'name': 'arxiv'}, 'type': 'function'}], 'refusal': None}, response_metadata={'token_usage': {'completion_tokens': 15, 'prompt_tokens': 219, 'total_tokens': 234, 'completion_tokens_details': {'accepted_prediction_tokens': 0, 'audio_tokens': 0, 'reasoning_tokens': 0, 'rejected_prediction_tokens': 0}, 'prompt_tokens_details': {'audio_tokens': 0, 'cached_tokens': 0}}, 'model_name': 'gpt-4o-mini-2024-07-18', 'system_fingerprint': 'fp_560af6e559', 'id': 'chatcmpl-CNNdV3vcE7lanRdOBjOYmwXSovsTt', 'service_tier': 'default', 'finish_reason': 'tool_calls', 'logprobs': None}, id='run--0854d63b-13b4-4ec8-b2aa-ee810e7a4e8d-0', tool_calls=[{'name': 'arxiv', 'args': {'query': 'LangChain'}, 'id': 'call_30sWdULdIkAh1E9o4Ur9Mc9v', 'type': 'tool_call'}], usage_metadata={'input_tokens': 219, 'output_tokens': 15, 'total_tokens': 234, 'input_token_details': {'audio': 0, 'cache_read': 0}, 'output_token_details': {'audio': 0, 'reasoning': 0}})"
      ]
     },
     "execution_count": 16,
     "metadata": {},
     "output_type": "execute_result"
    }
   ],
   "source": [
    "from langchain_core.messages import HumanMessage, AIMessage\n",
    "llm_with_tools.invoke([HumanMessage(content=f\"What is the latest research on LangChain?\")])"
   ]
  },
  {
   "cell_type": "code",
   "execution_count": 17,
   "id": "5d9bd8c4",
   "metadata": {},
   "outputs": [],
   "source": [
    "from pprint import pprint\n"
   ]
  },
  {
   "cell_type": "code",
   "execution_count": 18,
   "id": "0f11a8bc",
   "metadata": {},
   "outputs": [
    {
     "data": {
      "text/plain": [
       "[{'name': 'arxiv',\n",
       "  'args': {'query': 'LangChain'},\n",
       "  'id': 'call_7zyrMujub0rmAnXiDmbjY2Bd',\n",
       "  'type': 'tool_call'}]"
      ]
     },
     "execution_count": 18,
     "metadata": {},
     "output_type": "execute_result"
    }
   ],
   "source": [
    "llm_with_tools.invoke([HumanMessage(content=f\"What is the latest research on LangChain?\")]).tool_calls"
   ]
  },
  {
   "cell_type": "code",
   "execution_count": 19,
   "id": "dc0da3a7",
   "metadata": {},
   "outputs": [],
   "source": [
    "## state schema\n",
    "from typing import TypedDict, Annotated\n",
    "from langchain_core.messages import AnyMessage\n",
    "from langgraph.graph.message import add_messages\n",
    "\n",
    "\n",
    "class State(TypedDict):\n",
    "    messages: Annotated[list[AnyMessage], add_messages]"
   ]
  },
  {
   "cell_type": "code",
   "execution_count": 20,
   "id": "01b69dfd",
   "metadata": {},
   "outputs": [
    {
     "data": {
      "image/png": "[encoded data removed]",
      "text/plain": [
       "<IPython.core.display.Image object>"
      ]
     },
     "metadata": {},
     "output_type": "display_data"
    }
   ],
   "source": [
    "# Now let's create our CHATBOT using LangGraph\n",
    "from langgraph.graph import StateGraph, START, END\n",
    "from langgraph.prebuilt import ToolNode, tools_condition\n",
    "from IPython.display import Image, display\n",
    "\n",
    "## Node Definition\n",
    "def tool_calling_llm(state: State):\n",
    "    return {\"messages\": [llm_with_tools.invoke(state[\"messages\"])]}\n",
    "\n",
    "## Build the graph\n",
    "builder = StateGraph(State)\n",
    "builder.add_node(\"tool_calling_llm\", tool_calling_llm)\n",
    "builder.add_node(\"tools\", ToolNode(tools))\n",
    "\n",
    "builder.add_edge(START, \"tool_calling_llm\")\n",
    "builder.add_conditional_edges(\n",
    "    \"tool_calling_llm\",\n",
    "    #If the latest message is a tool call, then go to the tools node\n",
    "    # Otherwise, go to the END node\n",
    "    tools_condition, \"tools\")\n",
    "builder.add_edge(\"tools\", END)\n",
    "\n",
    "graph = builder.compile()\n",
    "\n",
    "## Run the graph\n",
    "display(Image(graph.get_graph().draw_mermaid_png()))\n",
    "\n"
   ]
  },
  {
   "cell_type": "code",
   "execution_count": 21,
   "id": "8cee23cc",
   "metadata": {},
   "outputs": [
    {
     "name": "stdout",
     "output_type": "stream",
     "text": [
      "================================\u001b[1m Human Message \u001b[0m=================================\n",
      "\n",
      "What is the latest research on LangChain?\n",
      "==================================\u001b[1m Ai Message \u001b[0m==================================\n",
      "Tool Calls:\n",
      "  arxiv (call_H1zyb4j6qOSvCqizuL6TAWMi)\n",
      " Call ID: call_H1zyb4j6qOSvCqizuL6TAWMi\n",
      "  Args:\n",
      "    query: LangChain\n",
      "=================================\u001b[1m Tool Message \u001b[0m=================================\n",
      "Name: arxiv\n",
      "\n",
      "Published: 2025-01-27\n",
      "Title: From Prompt Injections to SQL Injection Attacks: How Protected is Your LLM-Integrated Web Application?\n",
      "Authors: Rodrigo Pedro, Daniel Castro, Paulo Carreira, Nuno Santos\n",
      "Summary: Large Language Models (LLMs) have found widespread applications in various\n",
      "domains, including web applications, where they facilitate human interaction\n",
      "via chatbots with natural language inter\n"
     ]
    }
   ],
   "source": [
    "messages = graph.invoke({\"messages\": [HumanMessage(content=f\"What is the latest research on LangChain?\")]})\n",
    "for message in messages[\"messages\"]:\n",
    "    message.pretty_print()"
   ]
  },
  {
   "cell_type": "code",
   "execution_count": 22,
   "id": "fe25897b",
   "metadata": {},
   "outputs": [],
   "source": [
    "## custom functions:\n",
    "def multiply(a: int, b: int)-> int:\n",
    "    \"\"\"\n",
    "    Multiply two numbers a and b together\n",
    "    Args:\n",
    "        a: int\n",
    "        b: int\n",
    "    Returns:\n",
    "        int: The product of a and b\n",
    "    \"\"\"\n",
    "    return a * b\n",
    "\n",
    "def add(a: int, b: int) -> int:\n",
    "    \"\"\"\n",
    "    Add two numbers a and b together\n",
    "    Args:\n",
    "        a: int\n",
    "        b: int\n",
    "    Returns:\n",
    "        int: The sum of a and b\n",
    "    \"\"\"\n",
    "    return a + b\n",
    "\n",
    "def divide(a: int, b: int) -> int:\n",
    "    \"\"\"\n",
    "    Divide two numbers a and b together\n",
    "    Args:\n",
    "        a: int\n",
    "        b: int\n",
    "    Returns:\n",
    "    \"\"\"\n",
    "    return a / b\n",
    "\n",
    "tools = [arxiv, wikipedia, tavily, add, divide, multiply]\n",
    "    "
   ]
  },
  {
   "cell_type": "code",
   "execution_count": 23,
   "id": "726541ec",
   "metadata": {},
   "outputs": [],
   "source": [
    "from langchain_openai import ChatOpenAI\n",
    "\n",
    "llm = ChatOpenAI(model=\"gpt-4o-mini\", temperature=0)\n",
    "llm_with_tools = llm.bind_tools(tools)"
   ]
  },
  {
   "cell_type": "code",
   "execution_count": 25,
   "id": "a27a292a",
   "metadata": {},
   "outputs": [
    {
     "data": {
      "text/plain": [
       "AIMessage(content='', additional_kwargs={'tool_calls': [{'id': 'call_zRG0xRV9OzVQxUM2quWRDQ4c', 'function': {'arguments': '{\"query\":\"recent AI news\"}', 'name': 'tavily_search_results_json'}, 'type': 'function'}], 'refusal': None}, response_metadata={'token_usage': {'completion_tokens': 20, 'prompt_tokens': 355, 'total_tokens': 375, 'completion_tokens_details': {'accepted_prediction_tokens': 0, 'audio_tokens': 0, 'reasoning_tokens': 0, 'rejected_prediction_tokens': 0}, 'prompt_tokens_details': {'audio_tokens': 0, 'cached_tokens': 0}}, 'model_name': 'gpt-4o-mini-2024-07-18', 'system_fingerprint': 'fp_560af6e559', 'id': 'chatcmpl-CNNgZEm5utAg7m98SIv6Vqzobq7qr', 'service_tier': 'default', 'finish_reason': 'tool_calls', 'logprobs': None}, id='run--3062f4ef-9f5b-436f-a7b9-cff3594c4bb6-0', tool_calls=[{'name': 'tavily_search_results_json', 'args': {'query': 'recent AI news'}, 'id': 'call_zRG0xRV9OzVQxUM2quWRDQ4c', 'type': 'tool_call'}], usage_metadata={'input_tokens': 355, 'output_tokens': 20, 'total_tokens': 375, 'input_token_details': {'audio': 0, 'cache_read': 0}, 'output_token_details': {'audio': 0, 'reasoning': 0}})"
      ]
     },
     "execution_count": 25,
     "metadata": {},
     "output_type": "execute_result"
    }
   ],
   "source": [
    "from pprint import pprint\n",
    "from langchain_core.messages import AnyMessage\n",
    "\n",
    "llm_with_tools.invoke([HumanMessage(content=f\"what is the recent AI news?\")])"
   ]
  },
  {
   "cell_type": "code",
   "execution_count": 26,
   "id": "f880d542",
   "metadata": {},
   "outputs": [
    {
     "data": {
      "text/plain": [
       "[{'name': 'tavily_search_results_json',\n",
       "  'args': {'query': 'recent AI news'},\n",
       "  'id': 'call_3QoRzpBG1dPpR78sXTcUHJ2t',\n",
       "  'type': 'tool_call'}]"
      ]
     },
     "execution_count": 26,
     "metadata": {},
     "output_type": "execute_result"
    }
   ],
   "source": [
    "llm_with_tools.invoke([HumanMessage(content=f\"what is the recent AI news?\")]).tool_calls"
   ]
  },
  {
   "cell_type": "code",
   "execution_count": 29,
   "id": "2ec8f114",
   "metadata": {},
   "outputs": [],
   "source": [
    "from typing_extensions import TypedDict\n",
    "from langchain_core.messages import AnyMessage\n",
    "from typing import Annotated\n",
    "from langgraph.graph.message import add_messages\n",
    "\n",
    "class State(TypedDict):\n",
    "    messages: Annotated[list[AnyMessage], add_messages]"
   ]
  },
  {
   "cell_type": "code",
   "execution_count": 32,
   "id": "82d15d84",
   "metadata": {},
   "outputs": [
    {
     "data": {
      "image/png": "[encoded data removed]",
      "text/plain": [
       "<IPython.core.display.Image object>"
      ]
     },
     "metadata": {},
     "output_type": "display_data"
    }
   ],
   "source": [
    "## Entire chatbot with langgraph\n",
    "\n",
    "from IPython.display import Image, display\n",
    "from langgraph.graph import StateGraph, START, END\n",
    "from langgraph.prebuilt import ToolNode, tools_condition\n",
    "\n",
    "## Nodes definition\n",
    "def tool_calling_llm(state: State):\n",
    "    return {\"messages\":[llm_with_tools.invoke(state[\"messages\"])]}\n",
    "\n",
    "#Build Graph\n",
    "builder = StateGraph(State)\n",
    "\n",
    "builder.add_node(\"tool_calling_llm\", tool_calling_llm)\n",
    "builder.add_node(\"tools\", ToolNode(tools))\n",
    "\n",
    "builder.add_edge(START, \"tool_calling_llm\")\n",
    "builder.add_conditional_edges(\"tool_calling_llm\", tools_condition, \"tools\")\n",
    "builder.add_edge(\"tools\", \"tool_calling_llm\")\n",
    "\n",
    "graph = builder.compile()\n",
    "\n",
    "display(Image(graph.get_graph().draw_mermaid_png()))\n",
    "\n"
   ]
  },
  {
   "cell_type": "code",
   "execution_count": 34,
   "id": "72cebf74",
   "metadata": {},
   "outputs": [
    {
     "name": "stdout",
     "output_type": "stream",
     "text": [
      "================================\u001b[1m Human Message \u001b[0m=================================\n",
      "\n",
      "provide the top 10 recent AI news for October 1st 2025\n",
      "==================================\u001b[1m Ai Message \u001b[0m==================================\n",
      "Tool Calls:\n",
      "  tavily_search_results_json (call_6TBItppdqd5dnmY8YhhNESeN)\n",
      " Call ID: call_6TBItppdqd5dnmY8YhhNESeN\n",
      "  Args:\n",
      "    query: AI news October 1 2025\n",
      "=================================\u001b[1m Tool Message \u001b[0m=================================\n",
      "Name: tavily_search_results_json\n",
      "\n",
      "[{\"title\": \"AI News for Oct 1, 2025 - The Automated Daily\", \"url\": \"https://theautomateddaily.com/e/ai-news-for-oct-1-2025/\", \"content\": \"SOL: 2GiJB87sSzt6kEhQ54L7NXQwAik5ACFTp3aRpqh76KBJ  \\n  \\nToday's topics:  \\n-Claude Sonnet 4.5 breakthrough coding\\n  \\n-Anthropic's Claude Agent SDK\\n  \\n-AI in cybersecurity defense\\n  \\n-NVIDIA GPU matmul kernel insights\\n  \\n-DeepSeek-V3.2-Exp sparse attention\\n  \\n-Tencent HunyuanImage-3.0 multimodal model\\n  \\n-LoRA fine-tuning research\\n  \\n-Glean and Zoom AI integration\\n  \\n-SANS Secure AI Blueprint\\n  \\n-Wikimedia AI human rights assessment\\n  \\n-AI's impact on writing style [...] keeping you informed and empowered. [...] Welcome to ’The Automated Daily’, your ultimate source for a streamlined and insightful daily news experience. Powered by cutting-edge Generative AI technology, we bring you the most crucial headlines of the day, carefully selected and delivered directly to your ears. Our intelligent algorithms scour the news landscape to sift through the noise, ensuring that you receive only the most relevant and significant stories. Join us as we condense the day’s news into a concise and captivating format,\", \"score\": 0.91988057}, {\"title\": \"AI Weekly Roundup | October 4, 2025 | by Sean Spaniel\", \"url\": \"https://medium.com/@sean.spaniel/ai-weekly-roundup-october-4-2025-c5e62b13f838\", \"content\": \"The immense capital required to build and operate advanced AI was on full display with a series of massive infrastructure deals and funding rounds. Underscoring the colossal demand for computing power, cloud provider CoreWeave signed a $14 billion deal to provide AI infrastructure to Meta, as reported by Bloomberg. Meanwhile, another Bloomberg article revealed that Microsoft is investing an astonishing $33 billion in specialized “neoclouds” to secure enough computing power to address a [...] Just a day later, Google fired back with its own event. TechCrunch reports that Google revealed a new lineup of Nest smart home devices and a comprehensive strategy centered around its Gemini AI. As part of this new vision, Google officially announced that its Gemini for Home AI will replace the long-serving Google Assistant on its smart speakers and displays. Engadget confirms that this move marks a definitive shift in Google’s approach, betting fully on its more advanced large language models [...] A new generation of AI agents designed to execute complex, practical tasks was unveiled across the industry. Anthropic made a major move in this space with the release of Claude Sonnet 4.5, a new model specifically focused on powering AI agents and achieving coding supremacy. According to The Verge, the model is remarkably capable, reportedly able to work autonomously for over 30 hours on complex development tasks.\", \"score\": 0.8755427}, {\"title\": \"The Latest AI News and AI Breakthroughs that Matter Most\", \"url\": \"https://www.crescendo.ai/news/latest-ai-news-and-updates\", \"content\": \"Source:CBS News\\n\\n### AI ‘Actress’ Tilly Norwood Triggers Hollywood Backlash\\n\\nDate: October 2, 2025\\n\\nSummary: AI‑generated “actress” Tilly Norwood, created by comedian and technologist Eline Van der Velden, has sparked outrage in Hollywood after news broke that agents were in talks to sign her. [...] ### HHS Doubles Childhood Cancer Research Funding to Accelerate AI Projects\\n\\nDate: October 2, 2025 [...] Source:AHA\\n\\n### Colorado Lawsuit Ties AI Chatbot to Teen’s Suicide\\n\\nDate: October 2, 2025\", \"score\": 0.8380581}, {\"title\": \"AI Round-Up – October 2025\", \"url\": \"https://www.fladgate.com/insights/ai-round-up-october-2025\", \"content\": \"Elon Musk’s AI venture xAI announced the creation of a new purely AI-driven software company called Macrohard, designed to simulate traditional software companies like Microsoft entirely via artificial intelligence. Macrohard, which is closely integrated with xAI’s powerful Colossus 2 supercomputer cluster in Memphis, aims to deploy hundreds of specialised generative AI agents that collaborate to handle a wide range of software development, coding, and management tasks autonomously, potentially [...] British startup Oxford Quantum Circuits has installed New York City’s first quantum computer at a leading data centre in Manhattan. The OQC GENESIS system, integrated with Nvidia’s cutting-edge AI superchips and hosted by Digital Realty, will support hybrid quantum-AI workloads for sectors including finance and security. Science Minister Patrick Vallance said that the deployment showcased British innovation on the global stage, and would help drive economic growth and high-skilled jobs, while [...] Google faced a backlash for secretly using AI to enhance creators' YouTube Shorts videos without their consent, leading to concerns over transparency, creator rights, and possible legal challenges around unauthorised content modification. Creators like Rick Beato and Rhett Shull noticed visual distortions such as unnatural skin smoothing, sharper details, and warped features that felt intrusive and misrepresentative of their original work, raising serious transparency and authenticity concerns.\", \"score\": 0.81979275}, {\"title\": \"AI in Oct. 2025: Three Critical Global Decisions\", \"url\": \"https://etcjournal.com/2025/09/26/ai-in-oct-2025-three-critical-global-decisions/\", \"content\": \"For the month of October, I decided to ask DeepSeek to generate a set of three critical decisions that were _outside this box_ and perhaps a degree more fundamental. I said, “I’ve learned that, as a global AI community, the hardest thing to do is to get everyone to agree on the most critical decisions that we’re facing. It seems we’re all barking up the same tree, trying to come up with rules and regulations that we all feel are necessary to navigate a safe path to tomorrow.”\", \"score\": 0.8080827}]\n",
      "==================================\u001b[1m Ai Message \u001b[0m==================================\n",
      "\n",
      "Here are the top 10 recent AI news articles for October 1st, 2025:\n",
      "\n",
      "1. **[AI News for Oct 1, 2025 - The Automated Daily](https://theautomateddaily.com/e/ai-news-for-oct-1-2025/)**\n",
      "   - Highlights include Claude Sonnet 4.5 breakthrough coding, Anthropic's Claude Agent SDK, AI in cybersecurity defense, and more.\n",
      "\n",
      "2. **[AI Weekly Roundup | October 4, 2025 | by Sean Spaniel](https://medium.com/@sean.spaniel/ai-weekly-roundup-october-4-2025-c5e62b13f838)**\n",
      "   - Discusses massive infrastructure deals in AI, including CoreWeave's $14 billion deal with Meta and Microsoft's $33 billion investment in specialized \"neoclouds.\"\n",
      "\n",
      "3. **[The Latest AI News and AI Breakthroughs that Matter Most](https://www.crescendo.ai/news/latest-ai-news-and-updates)**\n",
      "   - Covers the backlash against AI-generated actress Tilly Norwood in Hollywood and the doubling of childhood cancer research funding to accelerate AI projects.\n",
      "\n",
      "4. **[AI Round-Up – October 2025](https://www.fladgate.com/insights/ai-round-up-october-2025)**\n",
      "   - Features Elon Musk's xAI creating a new AI-driven software company called Macrohard and the installation of New York City's first quantum computer by Oxford Quantum Circuits.\n",
      "\n",
      "5. **[AI in Oct. 2025: Three Critical Global Decisions](https://etcjournal.com/2025/09/26/ai-in-oct-2025-three-critical-global-decisions/)**\n",
      "   - Discusses the challenges of reaching consensus on critical global AI decisions and the need for effective regulations.\n",
      "\n",
      "6. **AI in Cybersecurity Defense**\n",
      "   - A focus on how AI technologies are being integrated into cybersecurity measures to enhance defense mechanisms.\n",
      "\n",
      "7. **NVIDIA GPU Matmul Kernel Insights**\n",
      "   - Insights into advancements in GPU technology and its implications for AI processing capabilities.\n",
      "\n",
      "8. **DeepSeek-V3.2-Exp Sparse Attention**\n",
      "   - An update on the latest version of DeepSeek, focusing on improvements in sparse attention mechanisms.\n",
      "\n",
      "9. **Tencent HunyuanImage-3.0 Multimodal Model**\n",
      "   - Tencent's new multimodal model that integrates various data types for enhanced AI performance.\n",
      "\n",
      "10. **Glean and Zoom AI Integration**\n",
      "    - The integration of AI features into Glean and Zoom platforms, enhancing user experience and productivity.\n",
      "\n",
      "These articles reflect the latest developments and discussions in the AI field as of October 1, 2025.\n"
     ]
    }
   ],
   "source": [
    "messages = graph.invoke({\"messages\":HumanMessage(content=\"provide the top 10 recent AI news for October 1st 2025\")})\n",
    "for m in messages[\"messages\"]:\n",
    "    m.pretty_print()"
   ]
  },
  {
   "cell_type": "code",
   "execution_count": 35,
   "id": "37bf35e3",
   "metadata": {},
   "outputs": [
    {
     "name": "stdout",
     "output_type": "stream",
     "text": [
      "================================\u001b[1m Human Message \u001b[0m=================================\n",
      "\n",
      "provide the top 5 recent AI news for October 1st 2025 and then add 5 plus 5 and then multiply with 10\n",
      "==================================\u001b[1m Ai Message \u001b[0m==================================\n",
      "Tool Calls:\n",
      "  tavily_search_results_json (call_y46vbrOdmCbevDRcxwVfGijd)\n",
      " Call ID: call_y46vbrOdmCbevDRcxwVfGijd\n",
      "  Args:\n",
      "    query: AI news October 1 2025\n",
      "  add (call_uFmUmwV6feM2f6Y2Xqitv7C1)\n",
      " Call ID: call_uFmUmwV6feM2f6Y2Xqitv7C1\n",
      "  Args:\n",
      "    a: 5\n",
      "    b: 5\n",
      "  multiply (call_b4j2Ryom2aRqphPCgWk0nfBS)\n",
      " Call ID: call_b4j2Ryom2aRqphPCgWk0nfBS\n",
      "  Args:\n",
      "    a: 10\n",
      "    b: 10\n",
      "=================================\u001b[1m Tool Message \u001b[0m=================================\n",
      "Name: tavily_search_results_json\n",
      "\n",
      "[{\"title\": \"AI News for Oct 1, 2025 - The Automated Daily\", \"url\": \"https://theautomateddaily.com/e/ai-news-for-oct-1-2025/\", \"content\": \"SOL: 2GiJB87sSzt6kEhQ54L7NXQwAik5ACFTp3aRpqh76KBJ  \\n  \\nToday's topics:  \\n-Claude Sonnet 4.5 breakthrough coding\\n  \\n-Anthropic's Claude Agent SDK\\n  \\n-AI in cybersecurity defense\\n  \\n-NVIDIA GPU matmul kernel insights\\n  \\n-DeepSeek-V3.2-Exp sparse attention\\n  \\n-Tencent HunyuanImage-3.0 multimodal model\\n  \\n-LoRA fine-tuning research\\n  \\n-Glean and Zoom AI integration\\n  \\n-SANS Secure AI Blueprint\\n  \\n-Wikimedia AI human rights assessment\\n  \\n-AI's impact on writing style [...] keeping you informed and empowered. [...] Welcome to ’The Automated Daily’, your ultimate source for a streamlined and insightful daily news experience. Powered by cutting-edge Generative AI technology, we bring you the most crucial headlines of the day, carefully selected and delivered directly to your ears. Our intelligent algorithms scour the news landscape to sift through the noise, ensuring that you receive only the most relevant and significant stories. Join us as we condense the day’s news into a concise and captivating format,\", \"score\": 0.91988057}, {\"title\": \"AI Weekly Roundup | October 4, 2025 | by Sean Spaniel\", \"url\": \"https://medium.com/@sean.spaniel/ai-weekly-roundup-october-4-2025-c5e62b13f838\", \"content\": \"The immense capital required to build and operate advanced AI was on full display with a series of massive infrastructure deals and funding rounds. Underscoring the colossal demand for computing power, cloud provider CoreWeave signed a $14 billion deal to provide AI infrastructure to Meta, as reported by Bloomberg. Meanwhile, another Bloomberg article revealed that Microsoft is investing an astonishing $33 billion in specialized “neoclouds” to secure enough computing power to address a [...] Just a day later, Google fired back with its own event. TechCrunch reports that Google revealed a new lineup of Nest smart home devices and a comprehensive strategy centered around its Gemini AI. As part of this new vision, Google officially announced that its Gemini for Home AI will replace the long-serving Google Assistant on its smart speakers and displays. Engadget confirms that this move marks a definitive shift in Google’s approach, betting fully on its more advanced large language models [...] A new generation of AI agents designed to execute complex, practical tasks was unveiled across the industry. Anthropic made a major move in this space with the release of Claude Sonnet 4.5, a new model specifically focused on powering AI agents and achieving coding supremacy. According to The Verge, the model is remarkably capable, reportedly able to work autonomously for over 30 hours on complex development tasks.\", \"score\": 0.8755427}, {\"title\": \"The Latest AI News and AI Breakthroughs that Matter Most\", \"url\": \"https://www.crescendo.ai/news/latest-ai-news-and-updates\", \"content\": \"Source:CBS News\\n\\n### AI ‘Actress’ Tilly Norwood Triggers Hollywood Backlash\\n\\nDate: October 2, 2025\\n\\nSummary: AI‑generated “actress” Tilly Norwood, created by comedian and technologist Eline Van der Velden, has sparked outrage in Hollywood after news broke that agents were in talks to sign her. [...] ### HHS Doubles Childhood Cancer Research Funding to Accelerate AI Projects\\n\\nDate: October 2, 2025 [...] Source:AHA\\n\\n### Colorado Lawsuit Ties AI Chatbot to Teen’s Suicide\\n\\nDate: October 2, 2025\", \"score\": 0.8380581}, {\"title\": \"AI Round-Up – October 2025\", \"url\": \"https://www.fladgate.com/insights/ai-round-up-october-2025\", \"content\": \"Elon Musk’s AI venture xAI announced the creation of a new purely AI-driven software company called Macrohard, designed to simulate traditional software companies like Microsoft entirely via artificial intelligence. Macrohard, which is closely integrated with xAI’s powerful Colossus 2 supercomputer cluster in Memphis, aims to deploy hundreds of specialised generative AI agents that collaborate to handle a wide range of software development, coding, and management tasks autonomously, potentially [...] British startup Oxford Quantum Circuits has installed New York City’s first quantum computer at a leading data centre in Manhattan. The OQC GENESIS system, integrated with Nvidia’s cutting-edge AI superchips and hosted by Digital Realty, will support hybrid quantum-AI workloads for sectors including finance and security. Science Minister Patrick Vallance said that the deployment showcased British innovation on the global stage, and would help drive economic growth and high-skilled jobs, while [...] Google faced a backlash for secretly using AI to enhance creators' YouTube Shorts videos without their consent, leading to concerns over transparency, creator rights, and possible legal challenges around unauthorised content modification. Creators like Rick Beato and Rhett Shull noticed visual distortions such as unnatural skin smoothing, sharper details, and warped features that felt intrusive and misrepresentative of their original work, raising serious transparency and authenticity concerns.\", \"score\": 0.81979275}, {\"title\": \"AI in Oct. 2025: Three Critical Global Decisions\", \"url\": \"https://etcjournal.com/2025/09/26/ai-in-oct-2025-three-critical-global-decisions/\", \"content\": \"For the month of October, I decided to ask DeepSeek to generate a set of three critical decisions that were _outside this box_ and perhaps a degree more fundamental. I said, “I’ve learned that, as a global AI community, the hardest thing to do is to get everyone to agree on the most critical decisions that we’re facing. It seems we’re all barking up the same tree, trying to come up with rules and regulations that we all feel are necessary to navigate a safe path to tomorrow.”\", \"score\": 0.8080827}]\n",
      "=================================\u001b[1m Tool Message \u001b[0m=================================\n",
      "Name: add\n",
      "\n",
      "10\n",
      "=================================\u001b[1m Tool Message \u001b[0m=================================\n",
      "Name: multiply\n",
      "\n",
      "100\n",
      "==================================\u001b[1m Ai Message \u001b[0m==================================\n",
      "\n",
      "### Top 5 Recent AI News for October 1, 2025\n",
      "\n",
      "1. **[AI News for Oct 1, 2025 - The Automated Daily](https://theautomateddaily.com/e/ai-news-for-oct-1-2025/)**\n",
      "   - Highlights include Claude Sonnet 4.5 breakthrough coding, Anthropic's Claude Agent SDK, advancements in AI for cybersecurity defense, and insights into NVIDIA GPU matmul kernel.\n",
      "\n",
      "2. **[AI Weekly Roundup | October 4, 2025 | by Sean Spaniel](https://medium.com/@sean.spaniel/ai-weekly-roundup-october-4-2025-c5e62b13f838)**\n",
      "   - Major infrastructure deals in AI, including CoreWeave's $14 billion deal with Meta and Microsoft's $33 billion investment in specialized \"neoclouds.\" Google announced its Gemini for Home AI, replacing Google Assistant.\n",
      "\n",
      "3. **[The Latest AI News and AI Breakthroughs that Matter Most](https://www.crescendo.ai/news/latest-ai-news-and-updates)**\n",
      "   - AI-generated actress Tilly Norwood sparks backlash in Hollywood. The U.S. Department of Health and Human Services doubles childhood cancer research funding to accelerate AI projects.\n",
      "\n",
      "4. **[AI Round-Up – October 2025](https://www.fladgate.com/insights/ai-round-up-october-2025)**\n",
      "   - Elon Musk's xAI launches Macrohard, an AI-driven software company. British startup Oxford Quantum Circuits installs NYC's first quantum computer, integrated with Nvidia's AI superchips.\n",
      "\n",
      "5. **[AI in Oct. 2025: Three Critical Global Decisions](https://etcjournal.com/2025/09/26/ai-in-oct-2025-three-critical-global-decisions/)**\n",
      "   - Discussion on the critical decisions facing the global AI community, emphasizing the need for consensus on rules and regulations for safe AI navigation.\n",
      "\n",
      "### Calculations\n",
      "- The sum of 5 plus 5 is **10**.\n",
      "- Multiplying that sum by 10 gives **100**.\n"
     ]
    }
   ],
   "source": [
    "messages = graph.invoke({\"messages\":HumanMessage(content=\"provide the top 5 recent AI news for October 1st 2025 and then add 5 plus 5 and then multiply with 10\")})\n",
    "for m in messages[\"messages\"]:\n",
    "    m.pretty_print()"
   ]
  },
  {
   "cell_type": "markdown",
   "id": "c556a50a",
   "metadata": {},
   "source": [
    "## Memory"
   ]
  },
  {
   "cell_type": "code",
   "execution_count": 36,
   "id": "8dcaf57c",
   "metadata": {},
   "outputs": [
    {
     "name": "stdout",
     "output_type": "stream",
     "text": [
      "================================\u001b[1m Human Message \u001b[0m=================================\n",
      "\n",
      "can you divide it by 10\n",
      "==================================\u001b[1m Ai Message \u001b[0m==================================\n",
      "\n",
      "Please provide the number you would like to divide by 10.\n"
     ]
    }
   ],
   "source": [
    "messages = graph.invoke({\"messages\":HumanMessage(content=\"can you divide it by 10\")})\n",
    "for m in messages[\"messages\"]:\n",
    "    m.pretty_print()"
   ]
  },
  {
   "cell_type": "markdown",
   "id": "f175fc1a",
   "metadata": {},
   "source": [
    "## Memory Saver"
   ]
  },
  {
   "cell_type": "markdown",
   "id": "48e1c95e",
   "metadata": {},
   "source": [
    "LangGraph can use the checkpointer to automatically save the graph state after each step"
   ]
  },
  {
   "cell_type": "markdown",
   "id": "760a563a",
   "metadata": {},
   "source": [
    "This built-in persistence layer gives us memory, allowing LangGraph to pick up from the state update"
   ]
  },
  {
   "cell_type": "markdown",
   "id": "9abb7ccd",
   "metadata": {},
   "source": [
    "One of the easiest checkpointers to use is the MemorySaver, as in-memory key-value store store for Graph state."
   ]
  },
  {
   "cell_type": "markdown",
   "id": "a7579870",
   "metadata": {},
   "source": [
    "All we need to do is simply compile the graph with a checkpointer, and our graph has Memory!"
   ]
  },
  {
   "cell_type": "code",
   "execution_count": 37,
   "id": "4235de39",
   "metadata": {},
   "outputs": [
    {
     "data": {
      "image/png": "[encoded data removed]",
      "text/plain": [
       "<IPython.core.display.Image object>"
      ]
     },
     "metadata": {},
     "output_type": "display_data"
    }
   ],
   "source": [
    "from langgraph.checkpoint.memory import MemorySaver\n",
    "memory = MemorySaver()\n",
    "\n",
    "graph_memory = builder.compile(checkpointer=memory)\n",
    "\n",
    "#view\n",
    "display(Image(graph_memory.get_graph().draw_mermaid_png()))"
   ]
  },
  {
   "cell_type": "markdown",
   "id": "043e6e66",
   "metadata": {},
   "source": [
    "# Specify the Thread"
   ]
  },
  {
   "cell_type": "code",
   "execution_count": 39,
   "id": "659839b7",
   "metadata": {},
   "outputs": [
    {
     "name": "stdout",
     "output_type": "stream",
     "text": [
      "================================\u001b[1m Human Message \u001b[0m=================================\n",
      "\n",
      "Add 12 and 13\n",
      "==================================\u001b[1m Ai Message \u001b[0m==================================\n",
      "Tool Calls:\n",
      "  add (call_inn8Psqn0HBB1bJ2wVUI2tYA)\n",
      " Call ID: call_inn8Psqn0HBB1bJ2wVUI2tYA\n",
      "  Args:\n",
      "    a: 12\n",
      "    b: 13\n",
      "=================================\u001b[1m Tool Message \u001b[0m=================================\n",
      "Name: add\n",
      "\n",
      "25\n",
      "==================================\u001b[1m Ai Message \u001b[0m==================================\n",
      "\n",
      "The sum of 12 and 13 is 25.\n"
     ]
    }
   ],
   "source": [
    "config={\"configurable\":{\"thread_id\": \"1\"}}\n",
    "# specify the input\n",
    "messages = [HumanMessage(content=\"Add 12 and 13\")]\n",
    "messages = graph_memory.invoke({\"messages\":messages}, config=config)\n",
    "\n",
    "for m in messages[\"messages\"]:\n",
    "    m.pretty_print()"
   ]
  },
  {
   "cell_type": "code",
   "execution_count": 40,
   "id": "3344110e",
   "metadata": {},
   "outputs": [
    {
     "name": "stdout",
     "output_type": "stream",
     "text": [
      "================================\u001b[1m Human Message \u001b[0m=================================\n",
      "\n",
      "Add 12 and 13\n",
      "==================================\u001b[1m Ai Message \u001b[0m==================================\n",
      "Tool Calls:\n",
      "  add (call_inn8Psqn0HBB1bJ2wVUI2tYA)\n",
      " Call ID: call_inn8Psqn0HBB1bJ2wVUI2tYA\n",
      "  Args:\n",
      "    a: 12\n",
      "    b: 13\n",
      "=================================\u001b[1m Tool Message \u001b[0m=================================\n",
      "Name: add\n",
      "\n",
      "25\n",
      "==================================\u001b[1m Ai Message \u001b[0m==================================\n",
      "\n",
      "The sum of 12 and 13 is 25.\n",
      "================================\u001b[1m Human Message \u001b[0m=================================\n",
      "\n",
      "Add that number to 25\n",
      "==================================\u001b[1m Ai Message \u001b[0m==================================\n",
      "Tool Calls:\n",
      "  add (call_NPKZ5gzvuZtoAZDn4Nycvzga)\n",
      " Call ID: call_NPKZ5gzvuZtoAZDn4Nycvzga\n",
      "  Args:\n",
      "    a: 25\n",
      "    b: 25\n",
      "=================================\u001b[1m Tool Message \u001b[0m=================================\n",
      "Name: add\n",
      "\n",
      "50\n",
      "==================================\u001b[1m Ai Message \u001b[0m==================================\n",
      "\n",
      "The sum of 25 and 25 is 50.\n"
     ]
    }
   ],
   "source": [
    "messages = [HumanMessage(content=\"Add that number to 25\")]\n",
    "messages = graph_memory.invoke({\"messages\":messages}, config=config)\n",
    "\n",
    "for m in messages[\"messages\"]:\n",
    "    m.pretty_print()"
   ]
  },
  {
   "cell_type": "markdown",
   "id": "2b20751b",
   "metadata": {},
   "source": [
    "# Streaming\n"
   ]
  },
  {
   "cell_type": "markdown",
   "id": "3b000f39",
   "metadata": {},
   "source": [
    "Methods: .stream() & .astream()\n",
    "\n",
    "-> These methods are sync & async methods for streaming back results"
   ]
  },
  {
   "cell_type": "markdown",
   "id": "d7bbab33",
   "metadata": {},
   "source": [
    "Additional parameters in streaming modes for graph state.\n",
    "\n",
    "-> values: This streams the full state of the graph after each node is called.\n",
    "\n",
    "-> updates: This streams updates to the state of the graph after each node is called"
   ]
  },
  {
   "cell_type": "code",
   "execution_count": 43,
   "id": "5545ef40",
   "metadata": {},
   "outputs": [
    {
     "name": "stdout",
     "output_type": "stream",
     "text": [
      "{'tool_calling_llm': {'messages': [AIMessage(content=\"Hi Jeevan! It's great to meet you! Basketball is an awesome sport. How long have you been playing, and do you have a favorite team or player?\", additional_kwargs={'refusal': None}, response_metadata={'token_usage': {'completion_tokens': 34, 'prompt_tokens': 458, 'total_tokens': 492, 'completion_tokens_details': {'accepted_prediction_tokens': 0, 'audio_tokens': 0, 'reasoning_tokens': 0, 'rejected_prediction_tokens': 0}, 'prompt_tokens_details': {'audio_tokens': 0, 'cached_tokens': 0}}, 'model_name': 'gpt-4o-mini-2024-07-18', 'system_fingerprint': 'fp_560af6e559', 'id': 'chatcmpl-CNOvcyFgY0mEQlQtqWqGMdSGeKphJ', 'service_tier': 'default', 'finish_reason': 'stop', 'logprobs': None}, id='run--ed34da98-a18a-480d-bf1b-e408c0caa501-0', usage_metadata={'input_tokens': 458, 'output_tokens': 34, 'total_tokens': 492, 'input_token_details': {'audio': 0, 'cache_read': 0}, 'output_token_details': {'audio': 0, 'reasoning': 0}})]}}\n"
     ]
    }
   ],
   "source": [
    "config = {\"configurable\": {\"thread_id\": \"2\"}}\n",
    "# UPDATES\n",
    "for chunk in graph_memory.stream({'messages': \"Hi, My name is Jeevan and I play Basketball\"}, config=config,stream_mode=\"updates\"):\n",
    "    print(chunk)"
   ]
  },
  {
   "cell_type": "code",
   "execution_count": 44,
   "id": "20e4bcdc",
   "metadata": {},
   "outputs": [
    {
     "name": "stdout",
     "output_type": "stream",
     "text": [
      "{'messages': [HumanMessage(content='Hi, My name is Jeevan and I play Basketball', additional_kwargs={}, response_metadata={}, id='5eb253b0-c39f-4cd8-983c-932b066132cd'), AIMessage(content=\"Hi Jeevan! That's great to hear! Basketball is an exciting sport. Do you play for fun, or are you part of a team?\", additional_kwargs={'refusal': None}, response_metadata={'token_usage': {'completion_tokens': 30, 'prompt_tokens': 359, 'total_tokens': 389, 'completion_tokens_details': {'accepted_prediction_tokens': 0, 'audio_tokens': 0, 'reasoning_tokens': 0, 'rejected_prediction_tokens': 0}, 'prompt_tokens_details': {'audio_tokens': 0, 'cached_tokens': 0}}, 'model_name': 'gpt-4o-mini-2024-07-18', 'system_fingerprint': 'fp_560af6e559', 'id': 'chatcmpl-CNOv3LzeOHvWR0phmw8lWCHPagJEe', 'service_tier': 'default', 'finish_reason': 'stop', 'logprobs': None}, id='run--8e9ce3bd-62cd-4f8c-84eb-f23b2c251f17-0', usage_metadata={'input_tokens': 359, 'output_tokens': 30, 'total_tokens': 389, 'input_token_details': {'audio': 0, 'cache_read': 0}, 'output_token_details': {'audio': 0, 'reasoning': 0}}), HumanMessage(content='Hi, My name is Jeevan and I play Basketball', additional_kwargs={}, response_metadata={}, id='95f7a016-1368-45f8-bc5a-5771ced33b51'), AIMessage(content=\"Hi Jeevan! It's nice to meet you. Basketball is a fantastic sport! How long have you been playing? Do you have a favorite team or player?\", additional_kwargs={'refusal': None}, response_metadata={'token_usage': {'completion_tokens': 33, 'prompt_tokens': 407, 'total_tokens': 440, 'completion_tokens_details': {'accepted_prediction_tokens': 0, 'audio_tokens': 0, 'reasoning_tokens': 0, 'rejected_prediction_tokens': 0}, 'prompt_tokens_details': {'audio_tokens': 0, 'cached_tokens': 0}}, 'model_name': 'gpt-4o-mini-2024-07-18', 'system_fingerprint': 'fp_560af6e559', 'id': 'chatcmpl-CNOvK49AbsIzWYvQE6I0O7pChSxCO', 'service_tier': 'default', 'finish_reason': 'stop', 'logprobs': None}, id='run--595751b6-c519-44f3-829a-59c4f9247bfb-0', usage_metadata={'input_tokens': 407, 'output_tokens': 33, 'total_tokens': 440, 'input_token_details': {'audio': 0, 'cache_read': 0}, 'output_token_details': {'audio': 0, 'reasoning': 0}}), HumanMessage(content='Hi, My name is Jeevan and I play Basketball', additional_kwargs={}, response_metadata={}, id='9dfffe37-bd83-4943-b3c4-15c4dd75a323'), AIMessage(content=\"Hi Jeevan! It's great to meet you! Basketball is an awesome sport. How long have you been playing, and do you have a favorite team or player?\", additional_kwargs={'refusal': None}, response_metadata={'token_usage': {'completion_tokens': 34, 'prompt_tokens': 458, 'total_tokens': 492, 'completion_tokens_details': {'accepted_prediction_tokens': 0, 'audio_tokens': 0, 'reasoning_tokens': 0, 'rejected_prediction_tokens': 0}, 'prompt_tokens_details': {'audio_tokens': 0, 'cached_tokens': 0}}, 'model_name': 'gpt-4o-mini-2024-07-18', 'system_fingerprint': 'fp_560af6e559', 'id': 'chatcmpl-CNOvcyFgY0mEQlQtqWqGMdSGeKphJ', 'service_tier': 'default', 'finish_reason': 'stop', 'logprobs': None}, id='run--ed34da98-a18a-480d-bf1b-e408c0caa501-0', usage_metadata={'input_tokens': 458, 'output_tokens': 34, 'total_tokens': 492, 'input_token_details': {'audio': 0, 'cache_read': 0}, 'output_token_details': {'audio': 0, 'reasoning': 0}}), HumanMessage(content='Hi, My name is Jeevan and I play Basketball', additional_kwargs={}, response_metadata={}, id='23c564ad-8cea-4830-b494-2251898e88e7')]}\n",
      "{'messages': [HumanMessage(content='Hi, My name is Jeevan and I play Basketball', additional_kwargs={}, response_metadata={}, id='5eb253b0-c39f-4cd8-983c-932b066132cd'), AIMessage(content=\"Hi Jeevan! That's great to hear! Basketball is an exciting sport. Do you play for fun, or are you part of a team?\", additional_kwargs={'refusal': None}, response_metadata={'token_usage': {'completion_tokens': 30, 'prompt_tokens': 359, 'total_tokens': 389, 'completion_tokens_details': {'accepted_prediction_tokens': 0, 'audio_tokens': 0, 'reasoning_tokens': 0, 'rejected_prediction_tokens': 0}, 'prompt_tokens_details': {'audio_tokens': 0, 'cached_tokens': 0}}, 'model_name': 'gpt-4o-mini-2024-07-18', 'system_fingerprint': 'fp_560af6e559', 'id': 'chatcmpl-CNOv3LzeOHvWR0phmw8lWCHPagJEe', 'service_tier': 'default', 'finish_reason': 'stop', 'logprobs': None}, id='run--8e9ce3bd-62cd-4f8c-84eb-f23b2c251f17-0', usage_metadata={'input_tokens': 359, 'output_tokens': 30, 'total_tokens': 389, 'input_token_details': {'audio': 0, 'cache_read': 0}, 'output_token_details': {'audio': 0, 'reasoning': 0}}), HumanMessage(content='Hi, My name is Jeevan and I play Basketball', additional_kwargs={}, response_metadata={}, id='95f7a016-1368-45f8-bc5a-5771ced33b51'), AIMessage(content=\"Hi Jeevan! It's nice to meet you. Basketball is a fantastic sport! How long have you been playing? Do you have a favorite team or player?\", additional_kwargs={'refusal': None}, response_metadata={'token_usage': {'completion_tokens': 33, 'prompt_tokens': 407, 'total_tokens': 440, 'completion_tokens_details': {'accepted_prediction_tokens': 0, 'audio_tokens': 0, 'reasoning_tokens': 0, 'rejected_prediction_tokens': 0}, 'prompt_tokens_details': {'audio_tokens': 0, 'cached_tokens': 0}}, 'model_name': 'gpt-4o-mini-2024-07-18', 'system_fingerprint': 'fp_560af6e559', 'id': 'chatcmpl-CNOvK49AbsIzWYvQE6I0O7pChSxCO', 'service_tier': 'default', 'finish_reason': 'stop', 'logprobs': None}, id='run--595751b6-c519-44f3-829a-59c4f9247bfb-0', usage_metadata={'input_tokens': 407, 'output_tokens': 33, 'total_tokens': 440, 'input_token_details': {'audio': 0, 'cache_read': 0}, 'output_token_details': {'audio': 0, 'reasoning': 0}}), HumanMessage(content='Hi, My name is Jeevan and I play Basketball', additional_kwargs={}, response_metadata={}, id='9dfffe37-bd83-4943-b3c4-15c4dd75a323'), AIMessage(content=\"Hi Jeevan! It's great to meet you! Basketball is an awesome sport. How long have you been playing, and do you have a favorite team or player?\", additional_kwargs={'refusal': None}, response_metadata={'token_usage': {'completion_tokens': 34, 'prompt_tokens': 458, 'total_tokens': 492, 'completion_tokens_details': {'accepted_prediction_tokens': 0, 'audio_tokens': 0, 'reasoning_tokens': 0, 'rejected_prediction_tokens': 0}, 'prompt_tokens_details': {'audio_tokens': 0, 'cached_tokens': 0}}, 'model_name': 'gpt-4o-mini-2024-07-18', 'system_fingerprint': 'fp_560af6e559', 'id': 'chatcmpl-CNOvcyFgY0mEQlQtqWqGMdSGeKphJ', 'service_tier': 'default', 'finish_reason': 'stop', 'logprobs': None}, id='run--ed34da98-a18a-480d-bf1b-e408c0caa501-0', usage_metadata={'input_tokens': 458, 'output_tokens': 34, 'total_tokens': 492, 'input_token_details': {'audio': 0, 'cache_read': 0}, 'output_token_details': {'audio': 0, 'reasoning': 0}}), HumanMessage(content='Hi, My name is Jeevan and I play Basketball', additional_kwargs={}, response_metadata={}, id='23c564ad-8cea-4830-b494-2251898e88e7'), AIMessage(content=\"Hi Jeevan! It's nice to meet you! Basketball is a fun and dynamic sport. How long have you been playing, and do you have a favorite position or player?\", additional_kwargs={'refusal': None}, response_metadata={'token_usage': {'completion_tokens': 36, 'prompt_tokens': 510, 'total_tokens': 546, 'completion_tokens_details': {'accepted_prediction_tokens': 0, 'audio_tokens': 0, 'reasoning_tokens': 0, 'rejected_prediction_tokens': 0}, 'prompt_tokens_details': {'audio_tokens': 0, 'cached_tokens': 0}}, 'model_name': 'gpt-4o-mini-2024-07-18', 'system_fingerprint': 'fp_560af6e559', 'id': 'chatcmpl-CNOwHDGnQwL0a084ak6hmpniIJ3BS', 'service_tier': 'default', 'finish_reason': 'stop', 'logprobs': None}, id='run--df282199-5377-4af2-b40b-979cfcd0437b-0', usage_metadata={'input_tokens': 510, 'output_tokens': 36, 'total_tokens': 546, 'input_token_details': {'audio': 0, 'cache_read': 0}, 'output_token_details': {'audio': 0, 'reasoning': 0}})]}\n"
     ]
    }
   ],
   "source": [
    "config = {\"configurable\": {\"thread_id\": \"2\"}}\n",
    "# VALUES\n",
    "for chunk in graph_memory.stream({'messages': \"Hi, My name is Jeevan and I play Basketball\"}, config=config,stream_mode=\"values\"):\n",
    "    print(chunk)"
   ]
  },
  {
   "cell_type": "code",
   "execution_count": 45,
   "id": "c773099e",
   "metadata": {},
   "outputs": [
    {
     "name": "stdout",
     "output_type": "stream",
     "text": [
      "{'messages': [HumanMessage(content='Hi, My name is Jeevan and I play Basketball', additional_kwargs={}, response_metadata={}, id='5eb253b0-c39f-4cd8-983c-932b066132cd'), AIMessage(content=\"Hi Jeevan! That's great to hear! Basketball is an exciting sport. Do you play for fun, or are you part of a team?\", additional_kwargs={'refusal': None}, response_metadata={'token_usage': {'completion_tokens': 30, 'prompt_tokens': 359, 'total_tokens': 389, 'completion_tokens_details': {'accepted_prediction_tokens': 0, 'audio_tokens': 0, 'reasoning_tokens': 0, 'rejected_prediction_tokens': 0}, 'prompt_tokens_details': {'audio_tokens': 0, 'cached_tokens': 0}}, 'model_name': 'gpt-4o-mini-2024-07-18', 'system_fingerprint': 'fp_560af6e559', 'id': 'chatcmpl-CNOv3LzeOHvWR0phmw8lWCHPagJEe', 'service_tier': 'default', 'finish_reason': 'stop', 'logprobs': None}, id='run--8e9ce3bd-62cd-4f8c-84eb-f23b2c251f17-0', usage_metadata={'input_tokens': 359, 'output_tokens': 30, 'total_tokens': 389, 'input_token_details': {'audio': 0, 'cache_read': 0}, 'output_token_details': {'audio': 0, 'reasoning': 0}}), HumanMessage(content='Hi, My name is Jeevan and I play Basketball', additional_kwargs={}, response_metadata={}, id='95f7a016-1368-45f8-bc5a-5771ced33b51'), AIMessage(content=\"Hi Jeevan! It's nice to meet you. Basketball is a fantastic sport! How long have you been playing? Do you have a favorite team or player?\", additional_kwargs={'refusal': None}, response_metadata={'token_usage': {'completion_tokens': 33, 'prompt_tokens': 407, 'total_tokens': 440, 'completion_tokens_details': {'accepted_prediction_tokens': 0, 'audio_tokens': 0, 'reasoning_tokens': 0, 'rejected_prediction_tokens': 0}, 'prompt_tokens_details': {'audio_tokens': 0, 'cached_tokens': 0}}, 'model_name': 'gpt-4o-mini-2024-07-18', 'system_fingerprint': 'fp_560af6e559', 'id': 'chatcmpl-CNOvK49AbsIzWYvQE6I0O7pChSxCO', 'service_tier': 'default', 'finish_reason': 'stop', 'logprobs': None}, id='run--595751b6-c519-44f3-829a-59c4f9247bfb-0', usage_metadata={'input_tokens': 407, 'output_tokens': 33, 'total_tokens': 440, 'input_token_details': {'audio': 0, 'cache_read': 0}, 'output_token_details': {'audio': 0, 'reasoning': 0}}), HumanMessage(content='Hi, My name is Jeevan and I play Basketball', additional_kwargs={}, response_metadata={}, id='9dfffe37-bd83-4943-b3c4-15c4dd75a323'), AIMessage(content=\"Hi Jeevan! It's great to meet you! Basketball is an awesome sport. How long have you been playing, and do you have a favorite team or player?\", additional_kwargs={'refusal': None}, response_metadata={'token_usage': {'completion_tokens': 34, 'prompt_tokens': 458, 'total_tokens': 492, 'completion_tokens_details': {'accepted_prediction_tokens': 0, 'audio_tokens': 0, 'reasoning_tokens': 0, 'rejected_prediction_tokens': 0}, 'prompt_tokens_details': {'audio_tokens': 0, 'cached_tokens': 0}}, 'model_name': 'gpt-4o-mini-2024-07-18', 'system_fingerprint': 'fp_560af6e559', 'id': 'chatcmpl-CNOvcyFgY0mEQlQtqWqGMdSGeKphJ', 'service_tier': 'default', 'finish_reason': 'stop', 'logprobs': None}, id='run--ed34da98-a18a-480d-bf1b-e408c0caa501-0', usage_metadata={'input_tokens': 458, 'output_tokens': 34, 'total_tokens': 492, 'input_token_details': {'audio': 0, 'cache_read': 0}, 'output_token_details': {'audio': 0, 'reasoning': 0}}), HumanMessage(content='Hi, My name is Jeevan and I play Basketball', additional_kwargs={}, response_metadata={}, id='23c564ad-8cea-4830-b494-2251898e88e7'), AIMessage(content=\"Hi Jeevan! It's nice to meet you! Basketball is a fun and dynamic sport. How long have you been playing, and do you have a favorite position or player?\", additional_kwargs={'refusal': None}, response_metadata={'token_usage': {'completion_tokens': 36, 'prompt_tokens': 510, 'total_tokens': 546, 'completion_tokens_details': {'accepted_prediction_tokens': 0, 'audio_tokens': 0, 'reasoning_tokens': 0, 'rejected_prediction_tokens': 0}, 'prompt_tokens_details': {'audio_tokens': 0, 'cached_tokens': 0}}, 'model_name': 'gpt-4o-mini-2024-07-18', 'system_fingerprint': 'fp_560af6e559', 'id': 'chatcmpl-CNOwHDGnQwL0a084ak6hmpniIJ3BS', 'service_tier': 'default', 'finish_reason': 'stop', 'logprobs': None}, id='run--df282199-5377-4af2-b40b-979cfcd0437b-0', usage_metadata={'input_tokens': 510, 'output_tokens': 36, 'total_tokens': 546, 'input_token_details': {'audio': 0, 'cache_read': 0}, 'output_token_details': {'audio': 0, 'reasoning': 0}}), HumanMessage(content='Hi, I also like cooking', additional_kwargs={}, response_metadata={}, id='814ab4d3-77ff-46ed-a5c6-050e50a4da2f')]}\n",
      "{'messages': [HumanMessage(content='Hi, My name is Jeevan and I play Basketball', additional_kwargs={}, response_metadata={}, id='5eb253b0-c39f-4cd8-983c-932b066132cd'), AIMessage(content=\"Hi Jeevan! That's great to hear! Basketball is an exciting sport. Do you play for fun, or are you part of a team?\", additional_kwargs={'refusal': None}, response_metadata={'token_usage': {'completion_tokens': 30, 'prompt_tokens': 359, 'total_tokens': 389, 'completion_tokens_details': {'accepted_prediction_tokens': 0, 'audio_tokens': 0, 'reasoning_tokens': 0, 'rejected_prediction_tokens': 0}, 'prompt_tokens_details': {'audio_tokens': 0, 'cached_tokens': 0}}, 'model_name': 'gpt-4o-mini-2024-07-18', 'system_fingerprint': 'fp_560af6e559', 'id': 'chatcmpl-CNOv3LzeOHvWR0phmw8lWCHPagJEe', 'service_tier': 'default', 'finish_reason': 'stop', 'logprobs': None}, id='run--8e9ce3bd-62cd-4f8c-84eb-f23b2c251f17-0', usage_metadata={'input_tokens': 359, 'output_tokens': 30, 'total_tokens': 389, 'input_token_details': {'audio': 0, 'cache_read': 0}, 'output_token_details': {'audio': 0, 'reasoning': 0}}), HumanMessage(content='Hi, My name is Jeevan and I play Basketball', additional_kwargs={}, response_metadata={}, id='95f7a016-1368-45f8-bc5a-5771ced33b51'), AIMessage(content=\"Hi Jeevan! It's nice to meet you. Basketball is a fantastic sport! How long have you been playing? Do you have a favorite team or player?\", additional_kwargs={'refusal': None}, response_metadata={'token_usage': {'completion_tokens': 33, 'prompt_tokens': 407, 'total_tokens': 440, 'completion_tokens_details': {'accepted_prediction_tokens': 0, 'audio_tokens': 0, 'reasoning_tokens': 0, 'rejected_prediction_tokens': 0}, 'prompt_tokens_details': {'audio_tokens': 0, 'cached_tokens': 0}}, 'model_name': 'gpt-4o-mini-2024-07-18', 'system_fingerprint': 'fp_560af6e559', 'id': 'chatcmpl-CNOvK49AbsIzWYvQE6I0O7pChSxCO', 'service_tier': 'default', 'finish_reason': 'stop', 'logprobs': None}, id='run--595751b6-c519-44f3-829a-59c4f9247bfb-0', usage_metadata={'input_tokens': 407, 'output_tokens': 33, 'total_tokens': 440, 'input_token_details': {'audio': 0, 'cache_read': 0}, 'output_token_details': {'audio': 0, 'reasoning': 0}}), HumanMessage(content='Hi, My name is Jeevan and I play Basketball', additional_kwargs={}, response_metadata={}, id='9dfffe37-bd83-4943-b3c4-15c4dd75a323'), AIMessage(content=\"Hi Jeevan! It's great to meet you! Basketball is an awesome sport. How long have you been playing, and do you have a favorite team or player?\", additional_kwargs={'refusal': None}, response_metadata={'token_usage': {'completion_tokens': 34, 'prompt_tokens': 458, 'total_tokens': 492, 'completion_tokens_details': {'accepted_prediction_tokens': 0, 'audio_tokens': 0, 'reasoning_tokens': 0, 'rejected_prediction_tokens': 0}, 'prompt_tokens_details': {'audio_tokens': 0, 'cached_tokens': 0}}, 'model_name': 'gpt-4o-mini-2024-07-18', 'system_fingerprint': 'fp_560af6e559', 'id': 'chatcmpl-CNOvcyFgY0mEQlQtqWqGMdSGeKphJ', 'service_tier': 'default', 'finish_reason': 'stop', 'logprobs': None}, id='run--ed34da98-a18a-480d-bf1b-e408c0caa501-0', usage_metadata={'input_tokens': 458, 'output_tokens': 34, 'total_tokens': 492, 'input_token_details': {'audio': 0, 'cache_read': 0}, 'output_token_details': {'audio': 0, 'reasoning': 0}}), HumanMessage(content='Hi, My name is Jeevan and I play Basketball', additional_kwargs={}, response_metadata={}, id='23c564ad-8cea-4830-b494-2251898e88e7'), AIMessage(content=\"Hi Jeevan! It's nice to meet you! Basketball is a fun and dynamic sport. How long have you been playing, and do you have a favorite position or player?\", additional_kwargs={'refusal': None}, response_metadata={'token_usage': {'completion_tokens': 36, 'prompt_tokens': 510, 'total_tokens': 546, 'completion_tokens_details': {'accepted_prediction_tokens': 0, 'audio_tokens': 0, 'reasoning_tokens': 0, 'rejected_prediction_tokens': 0}, 'prompt_tokens_details': {'audio_tokens': 0, 'cached_tokens': 0}}, 'model_name': 'gpt-4o-mini-2024-07-18', 'system_fingerprint': 'fp_560af6e559', 'id': 'chatcmpl-CNOwHDGnQwL0a084ak6hmpniIJ3BS', 'service_tier': 'default', 'finish_reason': 'stop', 'logprobs': None}, id='run--df282199-5377-4af2-b40b-979cfcd0437b-0', usage_metadata={'input_tokens': 510, 'output_tokens': 36, 'total_tokens': 546, 'input_token_details': {'audio': 0, 'cache_read': 0}, 'output_token_details': {'audio': 0, 'reasoning': 0}}), HumanMessage(content='Hi, I also like cooking', additional_kwargs={}, response_metadata={}, id='814ab4d3-77ff-46ed-a5c6-050e50a4da2f'), AIMessage(content=\"That's awesome, Jeevan! Cooking is a great skill to have. What type of cuisine do you enjoy cooking the most? Do you have a favorite dish that you like to make?\", additional_kwargs={'refusal': None}, response_metadata={'token_usage': {'completion_tokens': 38, 'prompt_tokens': 559, 'total_tokens': 597, 'completion_tokens_details': {'accepted_prediction_tokens': 0, 'audio_tokens': 0, 'reasoning_tokens': 0, 'rejected_prediction_tokens': 0}, 'prompt_tokens_details': {'audio_tokens': 0, 'cached_tokens': 0}}, 'model_name': 'gpt-4o-mini-2024-07-18', 'system_fingerprint': 'fp_560af6e559', 'id': 'chatcmpl-CNOwqlsOoLZInGKjZBqM1Lr9la2D9', 'service_tier': 'default', 'finish_reason': 'stop', 'logprobs': None}, id='run--b27285eb-965e-4e58-95cb-5678a03fed06-0', usage_metadata={'input_tokens': 559, 'output_tokens': 38, 'total_tokens': 597, 'input_token_details': {'audio': 0, 'cache_read': 0}, 'output_token_details': {'audio': 0, 'reasoning': 0}})]}\n"
     ]
    }
   ],
   "source": [
    "config = {\"configurable\": {\"thread_id\": \"2\"}}\n",
    "# VALUES\n",
    "for chunk in graph_memory.stream({'messages': \"Hi, I also like cooking\"}, config=config,stream_mode=\"values\"):\n",
    "    print(chunk)"
   ]
  },
  {
   "cell_type": "markdown",
   "id": "6271e511",
   "metadata": {},
   "source": [
    "# Streaming the Responses with \"astream\" method"
   ]
  },
  {
   "cell_type": "markdown",
   "id": "b1b02d60",
   "metadata": {},
   "source": [
    "Streaming tokens: we often want to stream more than graph state\n",
    "\n",
    "In particular, with chat model calls it is common to stream the tokens as they are generated.\n",
    "\n",
    "we can do this using the astream_events method, which streams back events as they happen inside nodes!\n",
    "\n",
    "Each event is a dict with a few keys:\n",
    "\n",
    "-> event: This is the type of event that is being emitted.\n",
    "\n",
    "-> name: This is the name of the event.\n",
    "\n",
    "-> data: This is the data associated with the event\n",
    "\n",
    "-> metadata: contains langgraph_node, the node that is emitting the event"
   ]
  },
  {
   "cell_type": "code",
   "execution_count": 47,
   "id": "99a2515c",
   "metadata": {},
   "outputs": [
    {
     "name": "stdout",
     "output_type": "stream",
     "text": [
      "{'event': 'on_chain_start', 'data': {'input': {'messages': ['Hi my name is jeevanand i like to play cricket']}}, 'name': 'LangGraph', 'tags': [], 'run_id': 'e4d03623-b90c-4b6e-91a9-6bfb43cc0cd3', 'metadata': {'thread_id': '2'}, 'parent_ids': []}\n",
      "{'event': 'on_chain_start', 'data': {'input': {'messages': [HumanMessage(content='Hi, My name is Jeevan and I play Basketball', additional_kwargs={}, response_metadata={}, id='5eb253b0-c39f-4cd8-983c-932b066132cd'), AIMessage(content=\"Hi Jeevan! That's great to hear! Basketball is an exciting sport. Do you play for fun, or are you part of a team?\", additional_kwargs={'refusal': None}, response_metadata={'token_usage': {'completion_tokens': 30, 'prompt_tokens': 359, 'total_tokens': 389, 'completion_tokens_details': {'accepted_prediction_tokens': 0, 'audio_tokens': 0, 'reasoning_tokens': 0, 'rejected_prediction_tokens': 0}, 'prompt_tokens_details': {'audio_tokens': 0, 'cached_tokens': 0}}, 'model_name': 'gpt-4o-mini-2024-07-18', 'system_fingerprint': 'fp_560af6e559', 'id': 'chatcmpl-CNOv3LzeOHvWR0phmw8lWCHPagJEe', 'service_tier': 'default', 'finish_reason': 'stop', 'logprobs': None}, id='run--8e9ce3bd-62cd-4f8c-84eb-f23b2c251f17-0', usage_metadata={'input_tokens': 359, 'output_tokens': 30, 'total_tokens': 389, 'input_token_details': {'audio': 0, 'cache_read': 0}, 'output_token_details': {'audio': 0, 'reasoning': 0}}), HumanMessage(content='Hi, My name is Jeevan and I play Basketball', additional_kwargs={}, response_metadata={}, id='95f7a016-1368-45f8-bc5a-5771ced33b51'), AIMessage(content=\"Hi Jeevan! It's nice to meet you. Basketball is a fantastic sport! How long have you been playing? Do you have a favorite team or player?\", additional_kwargs={'refusal': None}, response_metadata={'token_usage': {'completion_tokens': 33, 'prompt_tokens': 407, 'total_tokens': 440, 'completion_tokens_details': {'accepted_prediction_tokens': 0, 'audio_tokens': 0, 'reasoning_tokens': 0, 'rejected_prediction_tokens': 0}, 'prompt_tokens_details': {'audio_tokens': 0, 'cached_tokens': 0}}, 'model_name': 'gpt-4o-mini-2024-07-18', 'system_fingerprint': 'fp_560af6e559', 'id': 'chatcmpl-CNOvK49AbsIzWYvQE6I0O7pChSxCO', 'service_tier': 'default', 'finish_reason': 'stop', 'logprobs': None}, id='run--595751b6-c519-44f3-829a-59c4f9247bfb-0', usage_metadata={'input_tokens': 407, 'output_tokens': 33, 'total_tokens': 440, 'input_token_details': {'audio': 0, 'cache_read': 0}, 'output_token_details': {'audio': 0, 'reasoning': 0}}), HumanMessage(content='Hi, My name is Jeevan and I play Basketball', additional_kwargs={}, response_metadata={}, id='9dfffe37-bd83-4943-b3c4-15c4dd75a323'), AIMessage(content=\"Hi Jeevan! It's great to meet you! Basketball is an awesome sport. How long have you been playing, and do you have a favorite team or player?\", additional_kwargs={'refusal': None}, response_metadata={'token_usage': {'completion_tokens': 34, 'prompt_tokens': 458, 'total_tokens': 492, 'completion_tokens_details': {'accepted_prediction_tokens': 0, 'audio_tokens': 0, 'reasoning_tokens': 0, 'rejected_prediction_tokens': 0}, 'prompt_tokens_details': {'audio_tokens': 0, 'cached_tokens': 0}}, 'model_name': 'gpt-4o-mini-2024-07-18', 'system_fingerprint': 'fp_560af6e559', 'id': 'chatcmpl-CNOvcyFgY0mEQlQtqWqGMdSGeKphJ', 'service_tier': 'default', 'finish_reason': 'stop', 'logprobs': None}, id='run--ed34da98-a18a-480d-bf1b-e408c0caa501-0', usage_metadata={'input_tokens': 458, 'output_tokens': 34, 'total_tokens': 492, 'input_token_details': {'audio': 0, 'cache_read': 0}, 'output_token_details': {'audio': 0, 'reasoning': 0}}), HumanMessage(content='Hi, My name is Jeevan and I play Basketball', additional_kwargs={}, response_metadata={}, id='23c564ad-8cea-4830-b494-2251898e88e7'), AIMessage(content=\"Hi Jeevan! It's nice to meet you! Basketball is a fun and dynamic sport. How long have you been playing, and do you have a favorite position or player?\", additional_kwargs={'refusal': None}, response_metadata={'token_usage': {'completion_tokens': 36, 'prompt_tokens': 510, 'total_tokens': 546, 'completion_tokens_details': {'accepted_prediction_tokens': 0, 'audio_tokens': 0, 'reasoning_tokens': 0, 'rejected_prediction_tokens': 0}, 'prompt_tokens_details': {'audio_tokens': 0, 'cached_tokens': 0}}, 'model_name': 'gpt-4o-mini-2024-07-18', 'system_fingerprint': 'fp_560af6e559', 'id': 'chatcmpl-CNOwHDGnQwL0a084ak6hmpniIJ3BS', 'service_tier': 'default', 'finish_reason': 'stop', 'logprobs': None}, id='run--df282199-5377-4af2-b40b-979cfcd0437b-0', usage_metadata={'input_tokens': 510, 'output_tokens': 36, 'total_tokens': 546, 'input_token_details': {'audio': 0, 'cache_read': 0}, 'output_token_details': {'audio': 0, 'reasoning': 0}}), HumanMessage(content='Hi, I also like cooking', additional_kwargs={}, response_metadata={}, id='814ab4d3-77ff-46ed-a5c6-050e50a4da2f'), AIMessage(content=\"That's awesome, Jeevan! Cooking is a great skill to have. What type of cuisine do you enjoy cooking the most? Do you have a favorite dish that you like to make?\", additional_kwargs={'refusal': None}, response_metadata={'token_usage': {'completion_tokens': 38, 'prompt_tokens': 559, 'total_tokens': 597, 'completion_tokens_details': {'accepted_prediction_tokens': 0, 'audio_tokens': 0, 'reasoning_tokens': 0, 'rejected_prediction_tokens': 0}, 'prompt_tokens_details': {'audio_tokens': 0, 'cached_tokens': 0}}, 'model_name': 'gpt-4o-mini-2024-07-18', 'system_fingerprint': 'fp_560af6e559', 'id': 'chatcmpl-CNOwqlsOoLZInGKjZBqM1Lr9la2D9', 'service_tier': 'default', 'finish_reason': 'stop', 'logprobs': None}, id='run--b27285eb-965e-4e58-95cb-5678a03fed06-0', usage_metadata={'input_tokens': 559, 'output_tokens': 38, 'total_tokens': 597, 'input_token_details': {'audio': 0, 'cache_read': 0}, 'output_token_details': {'audio': 0, 'reasoning': 0}}), HumanMessage(content='Hi my name is jeevanand i like to play cricket', additional_kwargs={}, response_metadata={}, id='7aad2304-ff09-47a9-823e-a05c573ac23d')]}}, 'name': 'tool_calling_llm', 'tags': ['graph:step:16'], 'run_id': 'adeaf768-bbac-4196-b200-a724a94b23a9', 'metadata': {'thread_id': '2', 'langgraph_step': 16, 'langgraph_node': 'tool_calling_llm', 'langgraph_triggers': ('branch:to:tool_calling_llm',), 'langgraph_path': ('__pregel_pull', 'tool_calling_llm'), 'langgraph_checkpoint_ns': 'tool_calling_llm:c08445e0-1177-71bc-ef67-094a44e0cc3c'}, 'parent_ids': ['e4d03623-b90c-4b6e-91a9-6bfb43cc0cd3']}\n",
      "{'event': 'on_chat_model_start', 'data': {'input': {'messages': [[HumanMessage(content='Hi, My name is Jeevan and I play Basketball', additional_kwargs={}, response_metadata={}, id='5eb253b0-c39f-4cd8-983c-932b066132cd'), AIMessage(content=\"Hi Jeevan! That's great to hear! Basketball is an exciting sport. Do you play for fun, or are you part of a team?\", additional_kwargs={'refusal': None}, response_metadata={'token_usage': {'completion_tokens': 30, 'prompt_tokens': 359, 'total_tokens': 389, 'completion_tokens_details': {'accepted_prediction_tokens': 0, 'audio_tokens': 0, 'reasoning_tokens': 0, 'rejected_prediction_tokens': 0}, 'prompt_tokens_details': {'audio_tokens': 0, 'cached_tokens': 0}}, 'model_name': 'gpt-4o-mini-2024-07-18', 'system_fingerprint': 'fp_560af6e559', 'id': 'chatcmpl-CNOv3LzeOHvWR0phmw8lWCHPagJEe', 'service_tier': 'default', 'finish_reason': 'stop', 'logprobs': None}, id='run--8e9ce3bd-62cd-4f8c-84eb-f23b2c251f17-0', usage_metadata={'input_tokens': 359, 'output_tokens': 30, 'total_tokens': 389, 'input_token_details': {'audio': 0, 'cache_read': 0}, 'output_token_details': {'audio': 0, 'reasoning': 0}}), HumanMessage(content='Hi, My name is Jeevan and I play Basketball', additional_kwargs={}, response_metadata={}, id='95f7a016-1368-45f8-bc5a-5771ced33b51'), AIMessage(content=\"Hi Jeevan! It's nice to meet you. Basketball is a fantastic sport! How long have you been playing? Do you have a favorite team or player?\", additional_kwargs={'refusal': None}, response_metadata={'token_usage': {'completion_tokens': 33, 'prompt_tokens': 407, 'total_tokens': 440, 'completion_tokens_details': {'accepted_prediction_tokens': 0, 'audio_tokens': 0, 'reasoning_tokens': 0, 'rejected_prediction_tokens': 0}, 'prompt_tokens_details': {'audio_tokens': 0, 'cached_tokens': 0}}, 'model_name': 'gpt-4o-mini-2024-07-18', 'system_fingerprint': 'fp_560af6e559', 'id': 'chatcmpl-CNOvK49AbsIzWYvQE6I0O7pChSxCO', 'service_tier': 'default', 'finish_reason': 'stop', 'logprobs': None}, id='run--595751b6-c519-44f3-829a-59c4f9247bfb-0', usage_metadata={'input_tokens': 407, 'output_tokens': 33, 'total_tokens': 440, 'input_token_details': {'audio': 0, 'cache_read': 0}, 'output_token_details': {'audio': 0, 'reasoning': 0}}), HumanMessage(content='Hi, My name is Jeevan and I play Basketball', additional_kwargs={}, response_metadata={}, id='9dfffe37-bd83-4943-b3c4-15c4dd75a323'), AIMessage(content=\"Hi Jeevan! It's great to meet you! Basketball is an awesome sport. How long have you been playing, and do you have a favorite team or player?\", additional_kwargs={'refusal': None}, response_metadata={'token_usage': {'completion_tokens': 34, 'prompt_tokens': 458, 'total_tokens': 492, 'completion_tokens_details': {'accepted_prediction_tokens': 0, 'audio_tokens': 0, 'reasoning_tokens': 0, 'rejected_prediction_tokens': 0}, 'prompt_tokens_details': {'audio_tokens': 0, 'cached_tokens': 0}}, 'model_name': 'gpt-4o-mini-2024-07-18', 'system_fingerprint': 'fp_560af6e559', 'id': 'chatcmpl-CNOvcyFgY0mEQlQtqWqGMdSGeKphJ', 'service_tier': 'default', 'finish_reason': 'stop', 'logprobs': None}, id='run--ed34da98-a18a-480d-bf1b-e408c0caa501-0', usage_metadata={'input_tokens': 458, 'output_tokens': 34, 'total_tokens': 492, 'input_token_details': {'audio': 0, 'cache_read': 0}, 'output_token_details': {'audio': 0, 'reasoning': 0}}), HumanMessage(content='Hi, My name is Jeevan and I play Basketball', additional_kwargs={}, response_metadata={}, id='23c564ad-8cea-4830-b494-2251898e88e7'), AIMessage(content=\"Hi Jeevan! It's nice to meet you! Basketball is a fun and dynamic sport. How long have you been playing, and do you have a favorite position or player?\", additional_kwargs={'refusal': None}, response_metadata={'token_usage': {'completion_tokens': 36, 'prompt_tokens': 510, 'total_tokens': 546, 'completion_tokens_details': {'accepted_prediction_tokens': 0, 'audio_tokens': 0, 'reasoning_tokens': 0, 'rejected_prediction_tokens': 0}, 'prompt_tokens_details': {'audio_tokens': 0, 'cached_tokens': 0}}, 'model_name': 'gpt-4o-mini-2024-07-18', 'system_fingerprint': 'fp_560af6e559', 'id': 'chatcmpl-CNOwHDGnQwL0a084ak6hmpniIJ3BS', 'service_tier': 'default', 'finish_reason': 'stop', 'logprobs': None}, id='run--df282199-5377-4af2-b40b-979cfcd0437b-0', usage_metadata={'input_tokens': 510, 'output_tokens': 36, 'total_tokens': 546, 'input_token_details': {'audio': 0, 'cache_read': 0}, 'output_token_details': {'audio': 0, 'reasoning': 0}}), HumanMessage(content='Hi, I also like cooking', additional_kwargs={}, response_metadata={}, id='814ab4d3-77ff-46ed-a5c6-050e50a4da2f'), AIMessage(content=\"That's awesome, Jeevan! Cooking is a great skill to have. What type of cuisine do you enjoy cooking the most? Do you have a favorite dish that you like to make?\", additional_kwargs={'refusal': None}, response_metadata={'token_usage': {'completion_tokens': 38, 'prompt_tokens': 559, 'total_tokens': 597, 'completion_tokens_details': {'accepted_prediction_tokens': 0, 'audio_tokens': 0, 'reasoning_tokens': 0, 'rejected_prediction_tokens': 0}, 'prompt_tokens_details': {'audio_tokens': 0, 'cached_tokens': 0}}, 'model_name': 'gpt-4o-mini-2024-07-18', 'system_fingerprint': 'fp_560af6e559', 'id': 'chatcmpl-CNOwqlsOoLZInGKjZBqM1Lr9la2D9', 'service_tier': 'default', 'finish_reason': 'stop', 'logprobs': None}, id='run--b27285eb-965e-4e58-95cb-5678a03fed06-0', usage_metadata={'input_tokens': 559, 'output_tokens': 38, 'total_tokens': 597, 'input_token_details': {'audio': 0, 'cache_read': 0}, 'output_token_details': {'audio': 0, 'reasoning': 0}}), HumanMessage(content='Hi my name is jeevanand i like to play cricket', additional_kwargs={}, response_metadata={}, id='7aad2304-ff09-47a9-823e-a05c573ac23d')]]}}, 'name': 'ChatOpenAI', 'tags': ['seq:step:1'], 'run_id': 'b4f4d450-81f6-430a-bc97-ec506af5eb0d', 'metadata': {'thread_id': '2', 'langgraph_step': 16, 'langgraph_node': 'tool_calling_llm', 'langgraph_triggers': ('branch:to:tool_calling_llm',), 'langgraph_path': ('__pregel_pull', 'tool_calling_llm'), 'langgraph_checkpoint_ns': 'tool_calling_llm:c08445e0-1177-71bc-ef67-094a44e0cc3c', 'checkpoint_ns': 'tool_calling_llm:c08445e0-1177-71bc-ef67-094a44e0cc3c', 'ls_provider': 'openai', 'ls_model_name': 'gpt-4o-mini', 'ls_model_type': 'chat', 'ls_temperature': 0.0}, 'parent_ids': ['e4d03623-b90c-4b6e-91a9-6bfb43cc0cd3', 'adeaf768-bbac-4196-b200-a724a94b23a9']}\n",
      "{'event': 'on_chat_model_stream', 'data': {'chunk': AIMessageChunk(content='', additional_kwargs={}, response_metadata={}, id='run--b4f4d450-81f6-430a-bc97-ec506af5eb0d')}, 'run_id': 'b4f4d450-81f6-430a-bc97-ec506af5eb0d', 'name': 'ChatOpenAI', 'tags': ['seq:step:1'], 'metadata': {'thread_id': '2', 'langgraph_step': 16, 'langgraph_node': 'tool_calling_llm', 'langgraph_triggers': ('branch:to:tool_calling_llm',), 'langgraph_path': ('__pregel_pull', 'tool_calling_llm'), 'langgraph_checkpoint_ns': 'tool_calling_llm:c08445e0-1177-71bc-ef67-094a44e0cc3c', 'checkpoint_ns': 'tool_calling_llm:c08445e0-1177-71bc-ef67-094a44e0cc3c', 'ls_provider': 'openai', 'ls_model_name': 'gpt-4o-mini', 'ls_model_type': 'chat', 'ls_temperature': 0.0}, 'parent_ids': ['e4d03623-b90c-4b6e-91a9-6bfb43cc0cd3', 'adeaf768-bbac-4196-b200-a724a94b23a9']}\n",
      "{'event': 'on_chat_model_stream', 'data': {'chunk': AIMessageChunk(content='Hi', additional_kwargs={}, response_metadata={}, id='run--b4f4d450-81f6-430a-bc97-ec506af5eb0d')}, 'run_id': 'b4f4d450-81f6-430a-bc97-ec506af5eb0d', 'name': 'ChatOpenAI', 'tags': ['seq:step:1'], 'metadata': {'thread_id': '2', 'langgraph_step': 16, 'langgraph_node': 'tool_calling_llm', 'langgraph_triggers': ('branch:to:tool_calling_llm',), 'langgraph_path': ('__pregel_pull', 'tool_calling_llm'), 'langgraph_checkpoint_ns': 'tool_calling_llm:c08445e0-1177-71bc-ef67-094a44e0cc3c', 'checkpoint_ns': 'tool_calling_llm:c08445e0-1177-71bc-ef67-094a44e0cc3c', 'ls_provider': 'openai', 'ls_model_name': 'gpt-4o-mini', 'ls_model_type': 'chat', 'ls_temperature': 0.0}, 'parent_ids': ['e4d03623-b90c-4b6e-91a9-6bfb43cc0cd3', 'adeaf768-bbac-4196-b200-a724a94b23a9']}\n",
      "{'event': 'on_chat_model_stream', 'data': {'chunk': AIMessageChunk(content=' Jee', additional_kwargs={}, response_metadata={}, id='run--b4f4d450-81f6-430a-bc97-ec506af5eb0d')}, 'run_id': 'b4f4d450-81f6-430a-bc97-ec506af5eb0d', 'name': 'ChatOpenAI', 'tags': ['seq:step:1'], 'metadata': {'thread_id': '2', 'langgraph_step': 16, 'langgraph_node': 'tool_calling_llm', 'langgraph_triggers': ('branch:to:tool_calling_llm',), 'langgraph_path': ('__pregel_pull', 'tool_calling_llm'), 'langgraph_checkpoint_ns': 'tool_calling_llm:c08445e0-1177-71bc-ef67-094a44e0cc3c', 'checkpoint_ns': 'tool_calling_llm:c08445e0-1177-71bc-ef67-094a44e0cc3c', 'ls_provider': 'openai', 'ls_model_name': 'gpt-4o-mini', 'ls_model_type': 'chat', 'ls_temperature': 0.0}, 'parent_ids': ['e4d03623-b90c-4b6e-91a9-6bfb43cc0cd3', 'adeaf768-bbac-4196-b200-a724a94b23a9']}\n",
      "{'event': 'on_chat_model_stream', 'data': {'chunk': AIMessageChunk(content='van', additional_kwargs={}, response_metadata={}, id='run--b4f4d450-81f6-430a-bc97-ec506af5eb0d')}, 'run_id': 'b4f4d450-81f6-430a-bc97-ec506af5eb0d', 'name': 'ChatOpenAI', 'tags': ['seq:step:1'], 'metadata': {'thread_id': '2', 'langgraph_step': 16, 'langgraph_node': 'tool_calling_llm', 'langgraph_triggers': ('branch:to:tool_calling_llm',), 'langgraph_path': ('__pregel_pull', 'tool_calling_llm'), 'langgraph_checkpoint_ns': 'tool_calling_llm:c08445e0-1177-71bc-ef67-094a44e0cc3c', 'checkpoint_ns': 'tool_calling_llm:c08445e0-1177-71bc-ef67-094a44e0cc3c', 'ls_provider': 'openai', 'ls_model_name': 'gpt-4o-mini', 'ls_model_type': 'chat', 'ls_temperature': 0.0}, 'parent_ids': ['e4d03623-b90c-4b6e-91a9-6bfb43cc0cd3', 'adeaf768-bbac-4196-b200-a724a94b23a9']}\n",
      "{'event': 'on_chat_model_stream', 'data': {'chunk': AIMessageChunk(content='!', additional_kwargs={}, response_metadata={}, id='run--b4f4d450-81f6-430a-bc97-ec506af5eb0d')}, 'run_id': 'b4f4d450-81f6-430a-bc97-ec506af5eb0d', 'name': 'ChatOpenAI', 'tags': ['seq:step:1'], 'metadata': {'thread_id': '2', 'langgraph_step': 16, 'langgraph_node': 'tool_calling_llm', 'langgraph_triggers': ('branch:to:tool_calling_llm',), 'langgraph_path': ('__pregel_pull', 'tool_calling_llm'), 'langgraph_checkpoint_ns': 'tool_calling_llm:c08445e0-1177-71bc-ef67-094a44e0cc3c', 'checkpoint_ns': 'tool_calling_llm:c08445e0-1177-71bc-ef67-094a44e0cc3c', 'ls_provider': 'openai', 'ls_model_name': 'gpt-4o-mini', 'ls_model_type': 'chat', 'ls_temperature': 0.0}, 'parent_ids': ['e4d03623-b90c-4b6e-91a9-6bfb43cc0cd3', 'adeaf768-bbac-4196-b200-a724a94b23a9']}\n",
      "{'event': 'on_chat_model_stream', 'data': {'chunk': AIMessageChunk(content=\" It's\", additional_kwargs={}, response_metadata={}, id='run--b4f4d450-81f6-430a-bc97-ec506af5eb0d')}, 'run_id': 'b4f4d450-81f6-430a-bc97-ec506af5eb0d', 'name': 'ChatOpenAI', 'tags': ['seq:step:1'], 'metadata': {'thread_id': '2', 'langgraph_step': 16, 'langgraph_node': 'tool_calling_llm', 'langgraph_triggers': ('branch:to:tool_calling_llm',), 'langgraph_path': ('__pregel_pull', 'tool_calling_llm'), 'langgraph_checkpoint_ns': 'tool_calling_llm:c08445e0-1177-71bc-ef67-094a44e0cc3c', 'checkpoint_ns': 'tool_calling_llm:c08445e0-1177-71bc-ef67-094a44e0cc3c', 'ls_provider': 'openai', 'ls_model_name': 'gpt-4o-mini', 'ls_model_type': 'chat', 'ls_temperature': 0.0}, 'parent_ids': ['e4d03623-b90c-4b6e-91a9-6bfb43cc0cd3', 'adeaf768-bbac-4196-b200-a724a94b23a9']}\n",
      "{'event': 'on_chat_model_stream', 'data': {'chunk': AIMessageChunk(content=' great', additional_kwargs={}, response_metadata={}, id='run--b4f4d450-81f6-430a-bc97-ec506af5eb0d')}, 'run_id': 'b4f4d450-81f6-430a-bc97-ec506af5eb0d', 'name': 'ChatOpenAI', 'tags': ['seq:step:1'], 'metadata': {'thread_id': '2', 'langgraph_step': 16, 'langgraph_node': 'tool_calling_llm', 'langgraph_triggers': ('branch:to:tool_calling_llm',), 'langgraph_path': ('__pregel_pull', 'tool_calling_llm'), 'langgraph_checkpoint_ns': 'tool_calling_llm:c08445e0-1177-71bc-ef67-094a44e0cc3c', 'checkpoint_ns': 'tool_calling_llm:c08445e0-1177-71bc-ef67-094a44e0cc3c', 'ls_provider': 'openai', 'ls_model_name': 'gpt-4o-mini', 'ls_model_type': 'chat', 'ls_temperature': 0.0}, 'parent_ids': ['e4d03623-b90c-4b6e-91a9-6bfb43cc0cd3', 'adeaf768-bbac-4196-b200-a724a94b23a9']}\n",
      "{'event': 'on_chat_model_stream', 'data': {'chunk': AIMessageChunk(content=' to', additional_kwargs={}, response_metadata={}, id='run--b4f4d450-81f6-430a-bc97-ec506af5eb0d')}, 'run_id': 'b4f4d450-81f6-430a-bc97-ec506af5eb0d', 'name': 'ChatOpenAI', 'tags': ['seq:step:1'], 'metadata': {'thread_id': '2', 'langgraph_step': 16, 'langgraph_node': 'tool_calling_llm', 'langgraph_triggers': ('branch:to:tool_calling_llm',), 'langgraph_path': ('__pregel_pull', 'tool_calling_llm'), 'langgraph_checkpoint_ns': 'tool_calling_llm:c08445e0-1177-71bc-ef67-094a44e0cc3c', 'checkpoint_ns': 'tool_calling_llm:c08445e0-1177-71bc-ef67-094a44e0cc3c', 'ls_provider': 'openai', 'ls_model_name': 'gpt-4o-mini', 'ls_model_type': 'chat', 'ls_temperature': 0.0}, 'parent_ids': ['e4d03623-b90c-4b6e-91a9-6bfb43cc0cd3', 'adeaf768-bbac-4196-b200-a724a94b23a9']}\n",
      "{'event': 'on_chat_model_stream', 'data': {'chunk': AIMessageChunk(content=' meet', additional_kwargs={}, response_metadata={}, id='run--b4f4d450-81f6-430a-bc97-ec506af5eb0d')}, 'run_id': 'b4f4d450-81f6-430a-bc97-ec506af5eb0d', 'name': 'ChatOpenAI', 'tags': ['seq:step:1'], 'metadata': {'thread_id': '2', 'langgraph_step': 16, 'langgraph_node': 'tool_calling_llm', 'langgraph_triggers': ('branch:to:tool_calling_llm',), 'langgraph_path': ('__pregel_pull', 'tool_calling_llm'), 'langgraph_checkpoint_ns': 'tool_calling_llm:c08445e0-1177-71bc-ef67-094a44e0cc3c', 'checkpoint_ns': 'tool_calling_llm:c08445e0-1177-71bc-ef67-094a44e0cc3c', 'ls_provider': 'openai', 'ls_model_name': 'gpt-4o-mini', 'ls_model_type': 'chat', 'ls_temperature': 0.0}, 'parent_ids': ['e4d03623-b90c-4b6e-91a9-6bfb43cc0cd3', 'adeaf768-bbac-4196-b200-a724a94b23a9']}\n",
      "{'event': 'on_chat_model_stream', 'data': {'chunk': AIMessageChunk(content=' you', additional_kwargs={}, response_metadata={}, id='run--b4f4d450-81f6-430a-bc97-ec506af5eb0d')}, 'run_id': 'b4f4d450-81f6-430a-bc97-ec506af5eb0d', 'name': 'ChatOpenAI', 'tags': ['seq:step:1'], 'metadata': {'thread_id': '2', 'langgraph_step': 16, 'langgraph_node': 'tool_calling_llm', 'langgraph_triggers': ('branch:to:tool_calling_llm',), 'langgraph_path': ('__pregel_pull', 'tool_calling_llm'), 'langgraph_checkpoint_ns': 'tool_calling_llm:c08445e0-1177-71bc-ef67-094a44e0cc3c', 'checkpoint_ns': 'tool_calling_llm:c08445e0-1177-71bc-ef67-094a44e0cc3c', 'ls_provider': 'openai', 'ls_model_name': 'gpt-4o-mini', 'ls_model_type': 'chat', 'ls_temperature': 0.0}, 'parent_ids': ['e4d03623-b90c-4b6e-91a9-6bfb43cc0cd3', 'adeaf768-bbac-4196-b200-a724a94b23a9']}\n",
      "{'event': 'on_chat_model_stream', 'data': {'chunk': AIMessageChunk(content='!', additional_kwargs={}, response_metadata={}, id='run--b4f4d450-81f6-430a-bc97-ec506af5eb0d')}, 'run_id': 'b4f4d450-81f6-430a-bc97-ec506af5eb0d', 'name': 'ChatOpenAI', 'tags': ['seq:step:1'], 'metadata': {'thread_id': '2', 'langgraph_step': 16, 'langgraph_node': 'tool_calling_llm', 'langgraph_triggers': ('branch:to:tool_calling_llm',), 'langgraph_path': ('__pregel_pull', 'tool_calling_llm'), 'langgraph_checkpoint_ns': 'tool_calling_llm:c08445e0-1177-71bc-ef67-094a44e0cc3c', 'checkpoint_ns': 'tool_calling_llm:c08445e0-1177-71bc-ef67-094a44e0cc3c', 'ls_provider': 'openai', 'ls_model_name': 'gpt-4o-mini', 'ls_model_type': 'chat', 'ls_temperature': 0.0}, 'parent_ids': ['e4d03623-b90c-4b6e-91a9-6bfb43cc0cd3', 'adeaf768-bbac-4196-b200-a724a94b23a9']}\n",
      "{'event': 'on_chat_model_stream', 'data': {'chunk': AIMessageChunk(content=' Cricket', additional_kwargs={}, response_metadata={}, id='run--b4f4d450-81f6-430a-bc97-ec506af5eb0d')}, 'run_id': 'b4f4d450-81f6-430a-bc97-ec506af5eb0d', 'name': 'ChatOpenAI', 'tags': ['seq:step:1'], 'metadata': {'thread_id': '2', 'langgraph_step': 16, 'langgraph_node': 'tool_calling_llm', 'langgraph_triggers': ('branch:to:tool_calling_llm',), 'langgraph_path': ('__pregel_pull', 'tool_calling_llm'), 'langgraph_checkpoint_ns': 'tool_calling_llm:c08445e0-1177-71bc-ef67-094a44e0cc3c', 'checkpoint_ns': 'tool_calling_llm:c08445e0-1177-71bc-ef67-094a44e0cc3c', 'ls_provider': 'openai', 'ls_model_name': 'gpt-4o-mini', 'ls_model_type': 'chat', 'ls_temperature': 0.0}, 'parent_ids': ['e4d03623-b90c-4b6e-91a9-6bfb43cc0cd3', 'adeaf768-bbac-4196-b200-a724a94b23a9']}\n",
      "{'event': 'on_chat_model_stream', 'data': {'chunk': AIMessageChunk(content=' is', additional_kwargs={}, response_metadata={}, id='run--b4f4d450-81f6-430a-bc97-ec506af5eb0d')}, 'run_id': 'b4f4d450-81f6-430a-bc97-ec506af5eb0d', 'name': 'ChatOpenAI', 'tags': ['seq:step:1'], 'metadata': {'thread_id': '2', 'langgraph_step': 16, 'langgraph_node': 'tool_calling_llm', 'langgraph_triggers': ('branch:to:tool_calling_llm',), 'langgraph_path': ('__pregel_pull', 'tool_calling_llm'), 'langgraph_checkpoint_ns': 'tool_calling_llm:c08445e0-1177-71bc-ef67-094a44e0cc3c', 'checkpoint_ns': 'tool_calling_llm:c08445e0-1177-71bc-ef67-094a44e0cc3c', 'ls_provider': 'openai', 'ls_model_name': 'gpt-4o-mini', 'ls_model_type': 'chat', 'ls_temperature': 0.0}, 'parent_ids': ['e4d03623-b90c-4b6e-91a9-6bfb43cc0cd3', 'adeaf768-bbac-4196-b200-a724a94b23a9']}\n",
      "{'event': 'on_chat_model_stream', 'data': {'chunk': AIMessageChunk(content=' a', additional_kwargs={}, response_metadata={}, id='run--b4f4d450-81f6-430a-bc97-ec506af5eb0d')}, 'run_id': 'b4f4d450-81f6-430a-bc97-ec506af5eb0d', 'name': 'ChatOpenAI', 'tags': ['seq:step:1'], 'metadata': {'thread_id': '2', 'langgraph_step': 16, 'langgraph_node': 'tool_calling_llm', 'langgraph_triggers': ('branch:to:tool_calling_llm',), 'langgraph_path': ('__pregel_pull', 'tool_calling_llm'), 'langgraph_checkpoint_ns': 'tool_calling_llm:c08445e0-1177-71bc-ef67-094a44e0cc3c', 'checkpoint_ns': 'tool_calling_llm:c08445e0-1177-71bc-ef67-094a44e0cc3c', 'ls_provider': 'openai', 'ls_model_name': 'gpt-4o-mini', 'ls_model_type': 'chat', 'ls_temperature': 0.0}, 'parent_ids': ['e4d03623-b90c-4b6e-91a9-6bfb43cc0cd3', 'adeaf768-bbac-4196-b200-a724a94b23a9']}\n",
      "{'event': 'on_chat_model_stream', 'data': {'chunk': AIMessageChunk(content=' fantastic', additional_kwargs={}, response_metadata={}, id='run--b4f4d450-81f6-430a-bc97-ec506af5eb0d')}, 'run_id': 'b4f4d450-81f6-430a-bc97-ec506af5eb0d', 'name': 'ChatOpenAI', 'tags': ['seq:step:1'], 'metadata': {'thread_id': '2', 'langgraph_step': 16, 'langgraph_node': 'tool_calling_llm', 'langgraph_triggers': ('branch:to:tool_calling_llm',), 'langgraph_path': ('__pregel_pull', 'tool_calling_llm'), 'langgraph_checkpoint_ns': 'tool_calling_llm:c08445e0-1177-71bc-ef67-094a44e0cc3c', 'checkpoint_ns': 'tool_calling_llm:c08445e0-1177-71bc-ef67-094a44e0cc3c', 'ls_provider': 'openai', 'ls_model_name': 'gpt-4o-mini', 'ls_model_type': 'chat', 'ls_temperature': 0.0}, 'parent_ids': ['e4d03623-b90c-4b6e-91a9-6bfb43cc0cd3', 'adeaf768-bbac-4196-b200-a724a94b23a9']}\n",
      "{'event': 'on_chat_model_stream', 'data': {'chunk': AIMessageChunk(content=' sport', additional_kwargs={}, response_metadata={}, id='run--b4f4d450-81f6-430a-bc97-ec506af5eb0d')}, 'run_id': 'b4f4d450-81f6-430a-bc97-ec506af5eb0d', 'name': 'ChatOpenAI', 'tags': ['seq:step:1'], 'metadata': {'thread_id': '2', 'langgraph_step': 16, 'langgraph_node': 'tool_calling_llm', 'langgraph_triggers': ('branch:to:tool_calling_llm',), 'langgraph_path': ('__pregel_pull', 'tool_calling_llm'), 'langgraph_checkpoint_ns': 'tool_calling_llm:c08445e0-1177-71bc-ef67-094a44e0cc3c', 'checkpoint_ns': 'tool_calling_llm:c08445e0-1177-71bc-ef67-094a44e0cc3c', 'ls_provider': 'openai', 'ls_model_name': 'gpt-4o-mini', 'ls_model_type': 'chat', 'ls_temperature': 0.0}, 'parent_ids': ['e4d03623-b90c-4b6e-91a9-6bfb43cc0cd3', 'adeaf768-bbac-4196-b200-a724a94b23a9']}\n",
      "{'event': 'on_chat_model_stream', 'data': {'chunk': AIMessageChunk(content=' with', additional_kwargs={}, response_metadata={}, id='run--b4f4d450-81f6-430a-bc97-ec506af5eb0d')}, 'run_id': 'b4f4d450-81f6-430a-bc97-ec506af5eb0d', 'name': 'ChatOpenAI', 'tags': ['seq:step:1'], 'metadata': {'thread_id': '2', 'langgraph_step': 16, 'langgraph_node': 'tool_calling_llm', 'langgraph_triggers': ('branch:to:tool_calling_llm',), 'langgraph_path': ('__pregel_pull', 'tool_calling_llm'), 'langgraph_checkpoint_ns': 'tool_calling_llm:c08445e0-1177-71bc-ef67-094a44e0cc3c', 'checkpoint_ns': 'tool_calling_llm:c08445e0-1177-71bc-ef67-094a44e0cc3c', 'ls_provider': 'openai', 'ls_model_name': 'gpt-4o-mini', 'ls_model_type': 'chat', 'ls_temperature': 0.0}, 'parent_ids': ['e4d03623-b90c-4b6e-91a9-6bfb43cc0cd3', 'adeaf768-bbac-4196-b200-a724a94b23a9']}\n",
      "{'event': 'on_chat_model_stream', 'data': {'chunk': AIMessageChunk(content=' a', additional_kwargs={}, response_metadata={}, id='run--b4f4d450-81f6-430a-bc97-ec506af5eb0d')}, 'run_id': 'b4f4d450-81f6-430a-bc97-ec506af5eb0d', 'name': 'ChatOpenAI', 'tags': ['seq:step:1'], 'metadata': {'thread_id': '2', 'langgraph_step': 16, 'langgraph_node': 'tool_calling_llm', 'langgraph_triggers': ('branch:to:tool_calling_llm',), 'langgraph_path': ('__pregel_pull', 'tool_calling_llm'), 'langgraph_checkpoint_ns': 'tool_calling_llm:c08445e0-1177-71bc-ef67-094a44e0cc3c', 'checkpoint_ns': 'tool_calling_llm:c08445e0-1177-71bc-ef67-094a44e0cc3c', 'ls_provider': 'openai', 'ls_model_name': 'gpt-4o-mini', 'ls_model_type': 'chat', 'ls_temperature': 0.0}, 'parent_ids': ['e4d03623-b90c-4b6e-91a9-6bfb43cc0cd3', 'adeaf768-bbac-4196-b200-a724a94b23a9']}\n",
      "{'event': 'on_chat_model_stream', 'data': {'chunk': AIMessageChunk(content=' rich', additional_kwargs={}, response_metadata={}, id='run--b4f4d450-81f6-430a-bc97-ec506af5eb0d')}, 'run_id': 'b4f4d450-81f6-430a-bc97-ec506af5eb0d', 'name': 'ChatOpenAI', 'tags': ['seq:step:1'], 'metadata': {'thread_id': '2', 'langgraph_step': 16, 'langgraph_node': 'tool_calling_llm', 'langgraph_triggers': ('branch:to:tool_calling_llm',), 'langgraph_path': ('__pregel_pull', 'tool_calling_llm'), 'langgraph_checkpoint_ns': 'tool_calling_llm:c08445e0-1177-71bc-ef67-094a44e0cc3c', 'checkpoint_ns': 'tool_calling_llm:c08445e0-1177-71bc-ef67-094a44e0cc3c', 'ls_provider': 'openai', 'ls_model_name': 'gpt-4o-mini', 'ls_model_type': 'chat', 'ls_temperature': 0.0}, 'parent_ids': ['e4d03623-b90c-4b6e-91a9-6bfb43cc0cd3', 'adeaf768-bbac-4196-b200-a724a94b23a9']}\n",
      "{'event': 'on_chat_model_stream', 'data': {'chunk': AIMessageChunk(content=' history', additional_kwargs={}, response_metadata={}, id='run--b4f4d450-81f6-430a-bc97-ec506af5eb0d')}, 'run_id': 'b4f4d450-81f6-430a-bc97-ec506af5eb0d', 'name': 'ChatOpenAI', 'tags': ['seq:step:1'], 'metadata': {'thread_id': '2', 'langgraph_step': 16, 'langgraph_node': 'tool_calling_llm', 'langgraph_triggers': ('branch:to:tool_calling_llm',), 'langgraph_path': ('__pregel_pull', 'tool_calling_llm'), 'langgraph_checkpoint_ns': 'tool_calling_llm:c08445e0-1177-71bc-ef67-094a44e0cc3c', 'checkpoint_ns': 'tool_calling_llm:c08445e0-1177-71bc-ef67-094a44e0cc3c', 'ls_provider': 'openai', 'ls_model_name': 'gpt-4o-mini', 'ls_model_type': 'chat', 'ls_temperature': 0.0}, 'parent_ids': ['e4d03623-b90c-4b6e-91a9-6bfb43cc0cd3', 'adeaf768-bbac-4196-b200-a724a94b23a9']}\n",
      "{'event': 'on_chat_model_stream', 'data': {'chunk': AIMessageChunk(content='.', additional_kwargs={}, response_metadata={}, id='run--b4f4d450-81f6-430a-bc97-ec506af5eb0d')}, 'run_id': 'b4f4d450-81f6-430a-bc97-ec506af5eb0d', 'name': 'ChatOpenAI', 'tags': ['seq:step:1'], 'metadata': {'thread_id': '2', 'langgraph_step': 16, 'langgraph_node': 'tool_calling_llm', 'langgraph_triggers': ('branch:to:tool_calling_llm',), 'langgraph_path': ('__pregel_pull', 'tool_calling_llm'), 'langgraph_checkpoint_ns': 'tool_calling_llm:c08445e0-1177-71bc-ef67-094a44e0cc3c', 'checkpoint_ns': 'tool_calling_llm:c08445e0-1177-71bc-ef67-094a44e0cc3c', 'ls_provider': 'openai', 'ls_model_name': 'gpt-4o-mini', 'ls_model_type': 'chat', 'ls_temperature': 0.0}, 'parent_ids': ['e4d03623-b90c-4b6e-91a9-6bfb43cc0cd3', 'adeaf768-bbac-4196-b200-a724a94b23a9']}\n",
      "{'event': 'on_chat_model_stream', 'data': {'chunk': AIMessageChunk(content=' How', additional_kwargs={}, response_metadata={}, id='run--b4f4d450-81f6-430a-bc97-ec506af5eb0d')}, 'run_id': 'b4f4d450-81f6-430a-bc97-ec506af5eb0d', 'name': 'ChatOpenAI', 'tags': ['seq:step:1'], 'metadata': {'thread_id': '2', 'langgraph_step': 16, 'langgraph_node': 'tool_calling_llm', 'langgraph_triggers': ('branch:to:tool_calling_llm',), 'langgraph_path': ('__pregel_pull', 'tool_calling_llm'), 'langgraph_checkpoint_ns': 'tool_calling_llm:c08445e0-1177-71bc-ef67-094a44e0cc3c', 'checkpoint_ns': 'tool_calling_llm:c08445e0-1177-71bc-ef67-094a44e0cc3c', 'ls_provider': 'openai', 'ls_model_name': 'gpt-4o-mini', 'ls_model_type': 'chat', 'ls_temperature': 0.0}, 'parent_ids': ['e4d03623-b90c-4b6e-91a9-6bfb43cc0cd3', 'adeaf768-bbac-4196-b200-a724a94b23a9']}\n",
      "{'event': 'on_chat_model_stream', 'data': {'chunk': AIMessageChunk(content=' long', additional_kwargs={}, response_metadata={}, id='run--b4f4d450-81f6-430a-bc97-ec506af5eb0d')}, 'run_id': 'b4f4d450-81f6-430a-bc97-ec506af5eb0d', 'name': 'ChatOpenAI', 'tags': ['seq:step:1'], 'metadata': {'thread_id': '2', 'langgraph_step': 16, 'langgraph_node': 'tool_calling_llm', 'langgraph_triggers': ('branch:to:tool_calling_llm',), 'langgraph_path': ('__pregel_pull', 'tool_calling_llm'), 'langgraph_checkpoint_ns': 'tool_calling_llm:c08445e0-1177-71bc-ef67-094a44e0cc3c', 'checkpoint_ns': 'tool_calling_llm:c08445e0-1177-71bc-ef67-094a44e0cc3c', 'ls_provider': 'openai', 'ls_model_name': 'gpt-4o-mini', 'ls_model_type': 'chat', 'ls_temperature': 0.0}, 'parent_ids': ['e4d03623-b90c-4b6e-91a9-6bfb43cc0cd3', 'adeaf768-bbac-4196-b200-a724a94b23a9']}\n",
      "{'event': 'on_chat_model_stream', 'data': {'chunk': AIMessageChunk(content=' have', additional_kwargs={}, response_metadata={}, id='run--b4f4d450-81f6-430a-bc97-ec506af5eb0d')}, 'run_id': 'b4f4d450-81f6-430a-bc97-ec506af5eb0d', 'name': 'ChatOpenAI', 'tags': ['seq:step:1'], 'metadata': {'thread_id': '2', 'langgraph_step': 16, 'langgraph_node': 'tool_calling_llm', 'langgraph_triggers': ('branch:to:tool_calling_llm',), 'langgraph_path': ('__pregel_pull', 'tool_calling_llm'), 'langgraph_checkpoint_ns': 'tool_calling_llm:c08445e0-1177-71bc-ef67-094a44e0cc3c', 'checkpoint_ns': 'tool_calling_llm:c08445e0-1177-71bc-ef67-094a44e0cc3c', 'ls_provider': 'openai', 'ls_model_name': 'gpt-4o-mini', 'ls_model_type': 'chat', 'ls_temperature': 0.0}, 'parent_ids': ['e4d03623-b90c-4b6e-91a9-6bfb43cc0cd3', 'adeaf768-bbac-4196-b200-a724a94b23a9']}\n",
      "{'event': 'on_chat_model_stream', 'data': {'chunk': AIMessageChunk(content=' you', additional_kwargs={}, response_metadata={}, id='run--b4f4d450-81f6-430a-bc97-ec506af5eb0d')}, 'run_id': 'b4f4d450-81f6-430a-bc97-ec506af5eb0d', 'name': 'ChatOpenAI', 'tags': ['seq:step:1'], 'metadata': {'thread_id': '2', 'langgraph_step': 16, 'langgraph_node': 'tool_calling_llm', 'langgraph_triggers': ('branch:to:tool_calling_llm',), 'langgraph_path': ('__pregel_pull', 'tool_calling_llm'), 'langgraph_checkpoint_ns': 'tool_calling_llm:c08445e0-1177-71bc-ef67-094a44e0cc3c', 'checkpoint_ns': 'tool_calling_llm:c08445e0-1177-71bc-ef67-094a44e0cc3c', 'ls_provider': 'openai', 'ls_model_name': 'gpt-4o-mini', 'ls_model_type': 'chat', 'ls_temperature': 0.0}, 'parent_ids': ['e4d03623-b90c-4b6e-91a9-6bfb43cc0cd3', 'adeaf768-bbac-4196-b200-a724a94b23a9']}\n",
      "{'event': 'on_chat_model_stream', 'data': {'chunk': AIMessageChunk(content=' been', additional_kwargs={}, response_metadata={}, id='run--b4f4d450-81f6-430a-bc97-ec506af5eb0d')}, 'run_id': 'b4f4d450-81f6-430a-bc97-ec506af5eb0d', 'name': 'ChatOpenAI', 'tags': ['seq:step:1'], 'metadata': {'thread_id': '2', 'langgraph_step': 16, 'langgraph_node': 'tool_calling_llm', 'langgraph_triggers': ('branch:to:tool_calling_llm',), 'langgraph_path': ('__pregel_pull', 'tool_calling_llm'), 'langgraph_checkpoint_ns': 'tool_calling_llm:c08445e0-1177-71bc-ef67-094a44e0cc3c', 'checkpoint_ns': 'tool_calling_llm:c08445e0-1177-71bc-ef67-094a44e0cc3c', 'ls_provider': 'openai', 'ls_model_name': 'gpt-4o-mini', 'ls_model_type': 'chat', 'ls_temperature': 0.0}, 'parent_ids': ['e4d03623-b90c-4b6e-91a9-6bfb43cc0cd3', 'adeaf768-bbac-4196-b200-a724a94b23a9']}\n",
      "{'event': 'on_chat_model_stream', 'data': {'chunk': AIMessageChunk(content=' playing', additional_kwargs={}, response_metadata={}, id='run--b4f4d450-81f6-430a-bc97-ec506af5eb0d')}, 'run_id': 'b4f4d450-81f6-430a-bc97-ec506af5eb0d', 'name': 'ChatOpenAI', 'tags': ['seq:step:1'], 'metadata': {'thread_id': '2', 'langgraph_step': 16, 'langgraph_node': 'tool_calling_llm', 'langgraph_triggers': ('branch:to:tool_calling_llm',), 'langgraph_path': ('__pregel_pull', 'tool_calling_llm'), 'langgraph_checkpoint_ns': 'tool_calling_llm:c08445e0-1177-71bc-ef67-094a44e0cc3c', 'checkpoint_ns': 'tool_calling_llm:c08445e0-1177-71bc-ef67-094a44e0cc3c', 'ls_provider': 'openai', 'ls_model_name': 'gpt-4o-mini', 'ls_model_type': 'chat', 'ls_temperature': 0.0}, 'parent_ids': ['e4d03623-b90c-4b6e-91a9-6bfb43cc0cd3', 'adeaf768-bbac-4196-b200-a724a94b23a9']}\n",
      "{'event': 'on_chat_model_stream', 'data': {'chunk': AIMessageChunk(content=' cricket', additional_kwargs={}, response_metadata={}, id='run--b4f4d450-81f6-430a-bc97-ec506af5eb0d')}, 'run_id': 'b4f4d450-81f6-430a-bc97-ec506af5eb0d', 'name': 'ChatOpenAI', 'tags': ['seq:step:1'], 'metadata': {'thread_id': '2', 'langgraph_step': 16, 'langgraph_node': 'tool_calling_llm', 'langgraph_triggers': ('branch:to:tool_calling_llm',), 'langgraph_path': ('__pregel_pull', 'tool_calling_llm'), 'langgraph_checkpoint_ns': 'tool_calling_llm:c08445e0-1177-71bc-ef67-094a44e0cc3c', 'checkpoint_ns': 'tool_calling_llm:c08445e0-1177-71bc-ef67-094a44e0cc3c', 'ls_provider': 'openai', 'ls_model_name': 'gpt-4o-mini', 'ls_model_type': 'chat', 'ls_temperature': 0.0}, 'parent_ids': ['e4d03623-b90c-4b6e-91a9-6bfb43cc0cd3', 'adeaf768-bbac-4196-b200-a724a94b23a9']}\n",
      "{'event': 'on_chat_model_stream', 'data': {'chunk': AIMessageChunk(content=',', additional_kwargs={}, response_metadata={}, id='run--b4f4d450-81f6-430a-bc97-ec506af5eb0d')}, 'run_id': 'b4f4d450-81f6-430a-bc97-ec506af5eb0d', 'name': 'ChatOpenAI', 'tags': ['seq:step:1'], 'metadata': {'thread_id': '2', 'langgraph_step': 16, 'langgraph_node': 'tool_calling_llm', 'langgraph_triggers': ('branch:to:tool_calling_llm',), 'langgraph_path': ('__pregel_pull', 'tool_calling_llm'), 'langgraph_checkpoint_ns': 'tool_calling_llm:c08445e0-1177-71bc-ef67-094a44e0cc3c', 'checkpoint_ns': 'tool_calling_llm:c08445e0-1177-71bc-ef67-094a44e0cc3c', 'ls_provider': 'openai', 'ls_model_name': 'gpt-4o-mini', 'ls_model_type': 'chat', 'ls_temperature': 0.0}, 'parent_ids': ['e4d03623-b90c-4b6e-91a9-6bfb43cc0cd3', 'adeaf768-bbac-4196-b200-a724a94b23a9']}\n",
      "{'event': 'on_chat_model_stream', 'data': {'chunk': AIMessageChunk(content=' and', additional_kwargs={}, response_metadata={}, id='run--b4f4d450-81f6-430a-bc97-ec506af5eb0d')}, 'run_id': 'b4f4d450-81f6-430a-bc97-ec506af5eb0d', 'name': 'ChatOpenAI', 'tags': ['seq:step:1'], 'metadata': {'thread_id': '2', 'langgraph_step': 16, 'langgraph_node': 'tool_calling_llm', 'langgraph_triggers': ('branch:to:tool_calling_llm',), 'langgraph_path': ('__pregel_pull', 'tool_calling_llm'), 'langgraph_checkpoint_ns': 'tool_calling_llm:c08445e0-1177-71bc-ef67-094a44e0cc3c', 'checkpoint_ns': 'tool_calling_llm:c08445e0-1177-71bc-ef67-094a44e0cc3c', 'ls_provider': 'openai', 'ls_model_name': 'gpt-4o-mini', 'ls_model_type': 'chat', 'ls_temperature': 0.0}, 'parent_ids': ['e4d03623-b90c-4b6e-91a9-6bfb43cc0cd3', 'adeaf768-bbac-4196-b200-a724a94b23a9']}\n",
      "{'event': 'on_chat_model_stream', 'data': {'chunk': AIMessageChunk(content=' do', additional_kwargs={}, response_metadata={}, id='run--b4f4d450-81f6-430a-bc97-ec506af5eb0d')}, 'run_id': 'b4f4d450-81f6-430a-bc97-ec506af5eb0d', 'name': 'ChatOpenAI', 'tags': ['seq:step:1'], 'metadata': {'thread_id': '2', 'langgraph_step': 16, 'langgraph_node': 'tool_calling_llm', 'langgraph_triggers': ('branch:to:tool_calling_llm',), 'langgraph_path': ('__pregel_pull', 'tool_calling_llm'), 'langgraph_checkpoint_ns': 'tool_calling_llm:c08445e0-1177-71bc-ef67-094a44e0cc3c', 'checkpoint_ns': 'tool_calling_llm:c08445e0-1177-71bc-ef67-094a44e0cc3c', 'ls_provider': 'openai', 'ls_model_name': 'gpt-4o-mini', 'ls_model_type': 'chat', 'ls_temperature': 0.0}, 'parent_ids': ['e4d03623-b90c-4b6e-91a9-6bfb43cc0cd3', 'adeaf768-bbac-4196-b200-a724a94b23a9']}\n",
      "{'event': 'on_chat_model_stream', 'data': {'chunk': AIMessageChunk(content=' you', additional_kwargs={}, response_metadata={}, id='run--b4f4d450-81f6-430a-bc97-ec506af5eb0d')}, 'run_id': 'b4f4d450-81f6-430a-bc97-ec506af5eb0d', 'name': 'ChatOpenAI', 'tags': ['seq:step:1'], 'metadata': {'thread_id': '2', 'langgraph_step': 16, 'langgraph_node': 'tool_calling_llm', 'langgraph_triggers': ('branch:to:tool_calling_llm',), 'langgraph_path': ('__pregel_pull', 'tool_calling_llm'), 'langgraph_checkpoint_ns': 'tool_calling_llm:c08445e0-1177-71bc-ef67-094a44e0cc3c', 'checkpoint_ns': 'tool_calling_llm:c08445e0-1177-71bc-ef67-094a44e0cc3c', 'ls_provider': 'openai', 'ls_model_name': 'gpt-4o-mini', 'ls_model_type': 'chat', 'ls_temperature': 0.0}, 'parent_ids': ['e4d03623-b90c-4b6e-91a9-6bfb43cc0cd3', 'adeaf768-bbac-4196-b200-a724a94b23a9']}\n",
      "{'event': 'on_chat_model_stream', 'data': {'chunk': AIMessageChunk(content=' have', additional_kwargs={}, response_metadata={}, id='run--b4f4d450-81f6-430a-bc97-ec506af5eb0d')}, 'run_id': 'b4f4d450-81f6-430a-bc97-ec506af5eb0d', 'name': 'ChatOpenAI', 'tags': ['seq:step:1'], 'metadata': {'thread_id': '2', 'langgraph_step': 16, 'langgraph_node': 'tool_calling_llm', 'langgraph_triggers': ('branch:to:tool_calling_llm',), 'langgraph_path': ('__pregel_pull', 'tool_calling_llm'), 'langgraph_checkpoint_ns': 'tool_calling_llm:c08445e0-1177-71bc-ef67-094a44e0cc3c', 'checkpoint_ns': 'tool_calling_llm:c08445e0-1177-71bc-ef67-094a44e0cc3c', 'ls_provider': 'openai', 'ls_model_name': 'gpt-4o-mini', 'ls_model_type': 'chat', 'ls_temperature': 0.0}, 'parent_ids': ['e4d03623-b90c-4b6e-91a9-6bfb43cc0cd3', 'adeaf768-bbac-4196-b200-a724a94b23a9']}\n",
      "{'event': 'on_chat_model_stream', 'data': {'chunk': AIMessageChunk(content=' a', additional_kwargs={}, response_metadata={}, id='run--b4f4d450-81f6-430a-bc97-ec506af5eb0d')}, 'run_id': 'b4f4d450-81f6-430a-bc97-ec506af5eb0d', 'name': 'ChatOpenAI', 'tags': ['seq:step:1'], 'metadata': {'thread_id': '2', 'langgraph_step': 16, 'langgraph_node': 'tool_calling_llm', 'langgraph_triggers': ('branch:to:tool_calling_llm',), 'langgraph_path': ('__pregel_pull', 'tool_calling_llm'), 'langgraph_checkpoint_ns': 'tool_calling_llm:c08445e0-1177-71bc-ef67-094a44e0cc3c', 'checkpoint_ns': 'tool_calling_llm:c08445e0-1177-71bc-ef67-094a44e0cc3c', 'ls_provider': 'openai', 'ls_model_name': 'gpt-4o-mini', 'ls_model_type': 'chat', 'ls_temperature': 0.0}, 'parent_ids': ['e4d03623-b90c-4b6e-91a9-6bfb43cc0cd3', 'adeaf768-bbac-4196-b200-a724a94b23a9']}\n",
      "{'event': 'on_chat_model_stream', 'data': {'chunk': AIMessageChunk(content=' favorite', additional_kwargs={}, response_metadata={}, id='run--b4f4d450-81f6-430a-bc97-ec506af5eb0d')}, 'run_id': 'b4f4d450-81f6-430a-bc97-ec506af5eb0d', 'name': 'ChatOpenAI', 'tags': ['seq:step:1'], 'metadata': {'thread_id': '2', 'langgraph_step': 16, 'langgraph_node': 'tool_calling_llm', 'langgraph_triggers': ('branch:to:tool_calling_llm',), 'langgraph_path': ('__pregel_pull', 'tool_calling_llm'), 'langgraph_checkpoint_ns': 'tool_calling_llm:c08445e0-1177-71bc-ef67-094a44e0cc3c', 'checkpoint_ns': 'tool_calling_llm:c08445e0-1177-71bc-ef67-094a44e0cc3c', 'ls_provider': 'openai', 'ls_model_name': 'gpt-4o-mini', 'ls_model_type': 'chat', 'ls_temperature': 0.0}, 'parent_ids': ['e4d03623-b90c-4b6e-91a9-6bfb43cc0cd3', 'adeaf768-bbac-4196-b200-a724a94b23a9']}\n",
      "{'event': 'on_chat_model_stream', 'data': {'chunk': AIMessageChunk(content=' team', additional_kwargs={}, response_metadata={}, id='run--b4f4d450-81f6-430a-bc97-ec506af5eb0d')}, 'run_id': 'b4f4d450-81f6-430a-bc97-ec506af5eb0d', 'name': 'ChatOpenAI', 'tags': ['seq:step:1'], 'metadata': {'thread_id': '2', 'langgraph_step': 16, 'langgraph_node': 'tool_calling_llm', 'langgraph_triggers': ('branch:to:tool_calling_llm',), 'langgraph_path': ('__pregel_pull', 'tool_calling_llm'), 'langgraph_checkpoint_ns': 'tool_calling_llm:c08445e0-1177-71bc-ef67-094a44e0cc3c', 'checkpoint_ns': 'tool_calling_llm:c08445e0-1177-71bc-ef67-094a44e0cc3c', 'ls_provider': 'openai', 'ls_model_name': 'gpt-4o-mini', 'ls_model_type': 'chat', 'ls_temperature': 0.0}, 'parent_ids': ['e4d03623-b90c-4b6e-91a9-6bfb43cc0cd3', 'adeaf768-bbac-4196-b200-a724a94b23a9']}\n",
      "{'event': 'on_chat_model_stream', 'data': {'chunk': AIMessageChunk(content=' or', additional_kwargs={}, response_metadata={}, id='run--b4f4d450-81f6-430a-bc97-ec506af5eb0d')}, 'run_id': 'b4f4d450-81f6-430a-bc97-ec506af5eb0d', 'name': 'ChatOpenAI', 'tags': ['seq:step:1'], 'metadata': {'thread_id': '2', 'langgraph_step': 16, 'langgraph_node': 'tool_calling_llm', 'langgraph_triggers': ('branch:to:tool_calling_llm',), 'langgraph_path': ('__pregel_pull', 'tool_calling_llm'), 'langgraph_checkpoint_ns': 'tool_calling_llm:c08445e0-1177-71bc-ef67-094a44e0cc3c', 'checkpoint_ns': 'tool_calling_llm:c08445e0-1177-71bc-ef67-094a44e0cc3c', 'ls_provider': 'openai', 'ls_model_name': 'gpt-4o-mini', 'ls_model_type': 'chat', 'ls_temperature': 0.0}, 'parent_ids': ['e4d03623-b90c-4b6e-91a9-6bfb43cc0cd3', 'adeaf768-bbac-4196-b200-a724a94b23a9']}\n",
      "{'event': 'on_chat_model_stream', 'data': {'chunk': AIMessageChunk(content=' player', additional_kwargs={}, response_metadata={}, id='run--b4f4d450-81f6-430a-bc97-ec506af5eb0d')}, 'run_id': 'b4f4d450-81f6-430a-bc97-ec506af5eb0d', 'name': 'ChatOpenAI', 'tags': ['seq:step:1'], 'metadata': {'thread_id': '2', 'langgraph_step': 16, 'langgraph_node': 'tool_calling_llm', 'langgraph_triggers': ('branch:to:tool_calling_llm',), 'langgraph_path': ('__pregel_pull', 'tool_calling_llm'), 'langgraph_checkpoint_ns': 'tool_calling_llm:c08445e0-1177-71bc-ef67-094a44e0cc3c', 'checkpoint_ns': 'tool_calling_llm:c08445e0-1177-71bc-ef67-094a44e0cc3c', 'ls_provider': 'openai', 'ls_model_name': 'gpt-4o-mini', 'ls_model_type': 'chat', 'ls_temperature': 0.0}, 'parent_ids': ['e4d03623-b90c-4b6e-91a9-6bfb43cc0cd3', 'adeaf768-bbac-4196-b200-a724a94b23a9']}\n",
      "{'event': 'on_chat_model_stream', 'data': {'chunk': AIMessageChunk(content='?', additional_kwargs={}, response_metadata={}, id='run--b4f4d450-81f6-430a-bc97-ec506af5eb0d')}, 'run_id': 'b4f4d450-81f6-430a-bc97-ec506af5eb0d', 'name': 'ChatOpenAI', 'tags': ['seq:step:1'], 'metadata': {'thread_id': '2', 'langgraph_step': 16, 'langgraph_node': 'tool_calling_llm', 'langgraph_triggers': ('branch:to:tool_calling_llm',), 'langgraph_path': ('__pregel_pull', 'tool_calling_llm'), 'langgraph_checkpoint_ns': 'tool_calling_llm:c08445e0-1177-71bc-ef67-094a44e0cc3c', 'checkpoint_ns': 'tool_calling_llm:c08445e0-1177-71bc-ef67-094a44e0cc3c', 'ls_provider': 'openai', 'ls_model_name': 'gpt-4o-mini', 'ls_model_type': 'chat', 'ls_temperature': 0.0}, 'parent_ids': ['e4d03623-b90c-4b6e-91a9-6bfb43cc0cd3', 'adeaf768-bbac-4196-b200-a724a94b23a9']}\n",
      "{'event': 'on_chat_model_stream', 'data': {'chunk': AIMessageChunk(content='', additional_kwargs={}, response_metadata={'finish_reason': 'stop', 'model_name': 'gpt-4o-mini-2024-07-18', 'system_fingerprint': 'fp_560af6e559', 'service_tier': 'default'}, id='run--b4f4d450-81f6-430a-bc97-ec506af5eb0d')}, 'run_id': 'b4f4d450-81f6-430a-bc97-ec506af5eb0d', 'name': 'ChatOpenAI', 'tags': ['seq:step:1'], 'metadata': {'thread_id': '2', 'langgraph_step': 16, 'langgraph_node': 'tool_calling_llm', 'langgraph_triggers': ('branch:to:tool_calling_llm',), 'langgraph_path': ('__pregel_pull', 'tool_calling_llm'), 'langgraph_checkpoint_ns': 'tool_calling_llm:c08445e0-1177-71bc-ef67-094a44e0cc3c', 'checkpoint_ns': 'tool_calling_llm:c08445e0-1177-71bc-ef67-094a44e0cc3c', 'ls_provider': 'openai', 'ls_model_name': 'gpt-4o-mini', 'ls_model_type': 'chat', 'ls_temperature': 0.0}, 'parent_ids': ['e4d03623-b90c-4b6e-91a9-6bfb43cc0cd3', 'adeaf768-bbac-4196-b200-a724a94b23a9']}\n",
      "{'event': 'on_chat_model_end', 'data': {'output': AIMessage(content=\"Hi Jeevan! It's great to meet you! Cricket is a fantastic sport with a rich history. How long have you been playing cricket, and do you have a favorite team or player?\", additional_kwargs={}, response_metadata={'finish_reason': 'stop', 'model_name': 'gpt-4o-mini-2024-07-18', 'system_fingerprint': 'fp_560af6e559', 'service_tier': 'default'}, id='run--b4f4d450-81f6-430a-bc97-ec506af5eb0d'), 'input': {'messages': [[HumanMessage(content='Hi, My name is Jeevan and I play Basketball', additional_kwargs={}, response_metadata={}, id='5eb253b0-c39f-4cd8-983c-932b066132cd'), AIMessage(content=\"Hi Jeevan! That's great to hear! Basketball is an exciting sport. Do you play for fun, or are you part of a team?\", additional_kwargs={'refusal': None}, response_metadata={'token_usage': {'completion_tokens': 30, 'prompt_tokens': 359, 'total_tokens': 389, 'completion_tokens_details': {'accepted_prediction_tokens': 0, 'audio_tokens': 0, 'reasoning_tokens': 0, 'rejected_prediction_tokens': 0}, 'prompt_tokens_details': {'audio_tokens': 0, 'cached_tokens': 0}}, 'model_name': 'gpt-4o-mini-2024-07-18', 'system_fingerprint': 'fp_560af6e559', 'id': 'chatcmpl-CNOv3LzeOHvWR0phmw8lWCHPagJEe', 'service_tier': 'default', 'finish_reason': 'stop', 'logprobs': None}, id='run--8e9ce3bd-62cd-4f8c-84eb-f23b2c251f17-0', usage_metadata={'input_tokens': 359, 'output_tokens': 30, 'total_tokens': 389, 'input_token_details': {'audio': 0, 'cache_read': 0}, 'output_token_details': {'audio': 0, 'reasoning': 0}}), HumanMessage(content='Hi, My name is Jeevan and I play Basketball', additional_kwargs={}, response_metadata={}, id='95f7a016-1368-45f8-bc5a-5771ced33b51'), AIMessage(content=\"Hi Jeevan! It's nice to meet you. Basketball is a fantastic sport! How long have you been playing? Do you have a favorite team or player?\", additional_kwargs={'refusal': None}, response_metadata={'token_usage': {'completion_tokens': 33, 'prompt_tokens': 407, 'total_tokens': 440, 'completion_tokens_details': {'accepted_prediction_tokens': 0, 'audio_tokens': 0, 'reasoning_tokens': 0, 'rejected_prediction_tokens': 0}, 'prompt_tokens_details': {'audio_tokens': 0, 'cached_tokens': 0}}, 'model_name': 'gpt-4o-mini-2024-07-18', 'system_fingerprint': 'fp_560af6e559', 'id': 'chatcmpl-CNOvK49AbsIzWYvQE6I0O7pChSxCO', 'service_tier': 'default', 'finish_reason': 'stop', 'logprobs': None}, id='run--595751b6-c519-44f3-829a-59c4f9247bfb-0', usage_metadata={'input_tokens': 407, 'output_tokens': 33, 'total_tokens': 440, 'input_token_details': {'audio': 0, 'cache_read': 0}, 'output_token_details': {'audio': 0, 'reasoning': 0}}), HumanMessage(content='Hi, My name is Jeevan and I play Basketball', additional_kwargs={}, response_metadata={}, id='9dfffe37-bd83-4943-b3c4-15c4dd75a323'), AIMessage(content=\"Hi Jeevan! It's great to meet you! Basketball is an awesome sport. How long have you been playing, and do you have a favorite team or player?\", additional_kwargs={'refusal': None}, response_metadata={'token_usage': {'completion_tokens': 34, 'prompt_tokens': 458, 'total_tokens': 492, 'completion_tokens_details': {'accepted_prediction_tokens': 0, 'audio_tokens': 0, 'reasoning_tokens': 0, 'rejected_prediction_tokens': 0}, 'prompt_tokens_details': {'audio_tokens': 0, 'cached_tokens': 0}}, 'model_name': 'gpt-4o-mini-2024-07-18', 'system_fingerprint': 'fp_560af6e559', 'id': 'chatcmpl-CNOvcyFgY0mEQlQtqWqGMdSGeKphJ', 'service_tier': 'default', 'finish_reason': 'stop', 'logprobs': None}, id='run--ed34da98-a18a-480d-bf1b-e408c0caa501-0', usage_metadata={'input_tokens': 458, 'output_tokens': 34, 'total_tokens': 492, 'input_token_details': {'audio': 0, 'cache_read': 0}, 'output_token_details': {'audio': 0, 'reasoning': 0}}), HumanMessage(content='Hi, My name is Jeevan and I play Basketball', additional_kwargs={}, response_metadata={}, id='23c564ad-8cea-4830-b494-2251898e88e7'), AIMessage(content=\"Hi Jeevan! It's nice to meet you! Basketball is a fun and dynamic sport. How long have you been playing, and do you have a favorite position or player?\", additional_kwargs={'refusal': None}, response_metadata={'token_usage': {'completion_tokens': 36, 'prompt_tokens': 510, 'total_tokens': 546, 'completion_tokens_details': {'accepted_prediction_tokens': 0, 'audio_tokens': 0, 'reasoning_tokens': 0, 'rejected_prediction_tokens': 0}, 'prompt_tokens_details': {'audio_tokens': 0, 'cached_tokens': 0}}, 'model_name': 'gpt-4o-mini-2024-07-18', 'system_fingerprint': 'fp_560af6e559', 'id': 'chatcmpl-CNOwHDGnQwL0a084ak6hmpniIJ3BS', 'service_tier': 'default', 'finish_reason': 'stop', 'logprobs': None}, id='run--df282199-5377-4af2-b40b-979cfcd0437b-0', usage_metadata={'input_tokens': 510, 'output_tokens': 36, 'total_tokens': 546, 'input_token_details': {'audio': 0, 'cache_read': 0}, 'output_token_details': {'audio': 0, 'reasoning': 0}}), HumanMessage(content='Hi, I also like cooking', additional_kwargs={}, response_metadata={}, id='814ab4d3-77ff-46ed-a5c6-050e50a4da2f'), AIMessage(content=\"That's awesome, Jeevan! Cooking is a great skill to have. What type of cuisine do you enjoy cooking the most? Do you have a favorite dish that you like to make?\", additional_kwargs={'refusal': None}, response_metadata={'token_usage': {'completion_tokens': 38, 'prompt_tokens': 559, 'total_tokens': 597, 'completion_tokens_details': {'accepted_prediction_tokens': 0, 'audio_tokens': 0, 'reasoning_tokens': 0, 'rejected_prediction_tokens': 0}, 'prompt_tokens_details': {'audio_tokens': 0, 'cached_tokens': 0}}, 'model_name': 'gpt-4o-mini-2024-07-18', 'system_fingerprint': 'fp_560af6e559', 'id': 'chatcmpl-CNOwqlsOoLZInGKjZBqM1Lr9la2D9', 'service_tier': 'default', 'finish_reason': 'stop', 'logprobs': None}, id='run--b27285eb-965e-4e58-95cb-5678a03fed06-0', usage_metadata={'input_tokens': 559, 'output_tokens': 38, 'total_tokens': 597, 'input_token_details': {'audio': 0, 'cache_read': 0}, 'output_token_details': {'audio': 0, 'reasoning': 0}}), HumanMessage(content='Hi my name is jeevanand i like to play cricket', additional_kwargs={}, response_metadata={}, id='7aad2304-ff09-47a9-823e-a05c573ac23d')]]}}, 'run_id': 'b4f4d450-81f6-430a-bc97-ec506af5eb0d', 'name': 'ChatOpenAI', 'tags': ['seq:step:1'], 'metadata': {'thread_id': '2', 'langgraph_step': 16, 'langgraph_node': 'tool_calling_llm', 'langgraph_triggers': ('branch:to:tool_calling_llm',), 'langgraph_path': ('__pregel_pull', 'tool_calling_llm'), 'langgraph_checkpoint_ns': 'tool_calling_llm:c08445e0-1177-71bc-ef67-094a44e0cc3c', 'checkpoint_ns': 'tool_calling_llm:c08445e0-1177-71bc-ef67-094a44e0cc3c', 'ls_provider': 'openai', 'ls_model_name': 'gpt-4o-mini', 'ls_model_type': 'chat', 'ls_temperature': 0.0, 'LANGSMITH_ENDPOINT': 'https://api.smith.langchain.com', 'LANGSMITH_PROJECT': 'pr-ordinary-rainy-36', 'LANGSMITH_TRACING': 'true', 'revision_id': '5a2b564-dirty'}, 'parent_ids': ['e4d03623-b90c-4b6e-91a9-6bfb43cc0cd3', 'adeaf768-bbac-4196-b200-a724a94b23a9']}\n",
      "{'event': 'on_chain_start', 'data': {'input': {'messages': [HumanMessage(content='Hi, My name is Jeevan and I play Basketball', additional_kwargs={}, response_metadata={}, id='5eb253b0-c39f-4cd8-983c-932b066132cd'), AIMessage(content=\"Hi Jeevan! That's great to hear! Basketball is an exciting sport. Do you play for fun, or are you part of a team?\", additional_kwargs={'refusal': None}, response_metadata={'token_usage': {'completion_tokens': 30, 'prompt_tokens': 359, 'total_tokens': 389, 'completion_tokens_details': {'accepted_prediction_tokens': 0, 'audio_tokens': 0, 'reasoning_tokens': 0, 'rejected_prediction_tokens': 0}, 'prompt_tokens_details': {'audio_tokens': 0, 'cached_tokens': 0}}, 'model_name': 'gpt-4o-mini-2024-07-18', 'system_fingerprint': 'fp_560af6e559', 'id': 'chatcmpl-CNOv3LzeOHvWR0phmw8lWCHPagJEe', 'service_tier': 'default', 'finish_reason': 'stop', 'logprobs': None}, id='run--8e9ce3bd-62cd-4f8c-84eb-f23b2c251f17-0', usage_metadata={'input_tokens': 359, 'output_tokens': 30, 'total_tokens': 389, 'input_token_details': {'audio': 0, 'cache_read': 0}, 'output_token_details': {'audio': 0, 'reasoning': 0}}), HumanMessage(content='Hi, My name is Jeevan and I play Basketball', additional_kwargs={}, response_metadata={}, id='95f7a016-1368-45f8-bc5a-5771ced33b51'), AIMessage(content=\"Hi Jeevan! It's nice to meet you. Basketball is a fantastic sport! How long have you been playing? Do you have a favorite team or player?\", additional_kwargs={'refusal': None}, response_metadata={'token_usage': {'completion_tokens': 33, 'prompt_tokens': 407, 'total_tokens': 440, 'completion_tokens_details': {'accepted_prediction_tokens': 0, 'audio_tokens': 0, 'reasoning_tokens': 0, 'rejected_prediction_tokens': 0}, 'prompt_tokens_details': {'audio_tokens': 0, 'cached_tokens': 0}}, 'model_name': 'gpt-4o-mini-2024-07-18', 'system_fingerprint': 'fp_560af6e559', 'id': 'chatcmpl-CNOvK49AbsIzWYvQE6I0O7pChSxCO', 'service_tier': 'default', 'finish_reason': 'stop', 'logprobs': None}, id='run--595751b6-c519-44f3-829a-59c4f9247bfb-0', usage_metadata={'input_tokens': 407, 'output_tokens': 33, 'total_tokens': 440, 'input_token_details': {'audio': 0, 'cache_read': 0}, 'output_token_details': {'audio': 0, 'reasoning': 0}}), HumanMessage(content='Hi, My name is Jeevan and I play Basketball', additional_kwargs={}, response_metadata={}, id='9dfffe37-bd83-4943-b3c4-15c4dd75a323'), AIMessage(content=\"Hi Jeevan! It's great to meet you! Basketball is an awesome sport. How long have you been playing, and do you have a favorite team or player?\", additional_kwargs={'refusal': None}, response_metadata={'token_usage': {'completion_tokens': 34, 'prompt_tokens': 458, 'total_tokens': 492, 'completion_tokens_details': {'accepted_prediction_tokens': 0, 'audio_tokens': 0, 'reasoning_tokens': 0, 'rejected_prediction_tokens': 0}, 'prompt_tokens_details': {'audio_tokens': 0, 'cached_tokens': 0}}, 'model_name': 'gpt-4o-mini-2024-07-18', 'system_fingerprint': 'fp_560af6e559', 'id': 'chatcmpl-CNOvcyFgY0mEQlQtqWqGMdSGeKphJ', 'service_tier': 'default', 'finish_reason': 'stop', 'logprobs': None}, id='run--ed34da98-a18a-480d-bf1b-e408c0caa501-0', usage_metadata={'input_tokens': 458, 'output_tokens': 34, 'total_tokens': 492, 'input_token_details': {'audio': 0, 'cache_read': 0}, 'output_token_details': {'audio': 0, 'reasoning': 0}}), HumanMessage(content='Hi, My name is Jeevan and I play Basketball', additional_kwargs={}, response_metadata={}, id='23c564ad-8cea-4830-b494-2251898e88e7'), AIMessage(content=\"Hi Jeevan! It's nice to meet you! Basketball is a fun and dynamic sport. How long have you been playing, and do you have a favorite position or player?\", additional_kwargs={'refusal': None}, response_metadata={'token_usage': {'completion_tokens': 36, 'prompt_tokens': 510, 'total_tokens': 546, 'completion_tokens_details': {'accepted_prediction_tokens': 0, 'audio_tokens': 0, 'reasoning_tokens': 0, 'rejected_prediction_tokens': 0}, 'prompt_tokens_details': {'audio_tokens': 0, 'cached_tokens': 0}}, 'model_name': 'gpt-4o-mini-2024-07-18', 'system_fingerprint': 'fp_560af6e559', 'id': 'chatcmpl-CNOwHDGnQwL0a084ak6hmpniIJ3BS', 'service_tier': 'default', 'finish_reason': 'stop', 'logprobs': None}, id='run--df282199-5377-4af2-b40b-979cfcd0437b-0', usage_metadata={'input_tokens': 510, 'output_tokens': 36, 'total_tokens': 546, 'input_token_details': {'audio': 0, 'cache_read': 0}, 'output_token_details': {'audio': 0, 'reasoning': 0}}), HumanMessage(content='Hi, I also like cooking', additional_kwargs={}, response_metadata={}, id='814ab4d3-77ff-46ed-a5c6-050e50a4da2f'), AIMessage(content=\"That's awesome, Jeevan! Cooking is a great skill to have. What type of cuisine do you enjoy cooking the most? Do you have a favorite dish that you like to make?\", additional_kwargs={'refusal': None}, response_metadata={'token_usage': {'completion_tokens': 38, 'prompt_tokens': 559, 'total_tokens': 597, 'completion_tokens_details': {'accepted_prediction_tokens': 0, 'audio_tokens': 0, 'reasoning_tokens': 0, 'rejected_prediction_tokens': 0}, 'prompt_tokens_details': {'audio_tokens': 0, 'cached_tokens': 0}}, 'model_name': 'gpt-4o-mini-2024-07-18', 'system_fingerprint': 'fp_560af6e559', 'id': 'chatcmpl-CNOwqlsOoLZInGKjZBqM1Lr9la2D9', 'service_tier': 'default', 'finish_reason': 'stop', 'logprobs': None}, id='run--b27285eb-965e-4e58-95cb-5678a03fed06-0', usage_metadata={'input_tokens': 559, 'output_tokens': 38, 'total_tokens': 597, 'input_token_details': {'audio': 0, 'cache_read': 0}, 'output_token_details': {'audio': 0, 'reasoning': 0}}), HumanMessage(content='Hi my name is jeevanand i like to play cricket', additional_kwargs={}, response_metadata={}, id='7aad2304-ff09-47a9-823e-a05c573ac23d'), AIMessage(content=\"Hi Jeevan! It's great to meet you! Cricket is a fantastic sport with a rich history. How long have you been playing cricket, and do you have a favorite team or player?\", additional_kwargs={}, response_metadata={'finish_reason': 'stop', 'model_name': 'gpt-4o-mini-2024-07-18', 'system_fingerprint': 'fp_560af6e559', 'service_tier': 'default'}, id='run--b4f4d450-81f6-430a-bc97-ec506af5eb0d')]}}, 'name': 'tools_condition', 'tags': ['seq:step:3'], 'run_id': '1df9b993-a4fd-4085-88a6-7f3ad2c96adf', 'metadata': {'thread_id': '2', 'langgraph_step': 16, 'langgraph_node': 'tool_calling_llm', 'langgraph_triggers': ('branch:to:tool_calling_llm',), 'langgraph_path': ('__pregel_pull', 'tool_calling_llm'), 'langgraph_checkpoint_ns': 'tool_calling_llm:c08445e0-1177-71bc-ef67-094a44e0cc3c'}, 'parent_ids': ['e4d03623-b90c-4b6e-91a9-6bfb43cc0cd3', 'adeaf768-bbac-4196-b200-a724a94b23a9']}\n",
      "{'event': 'on_chain_end', 'data': {'output': '__end__', 'input': {'messages': [HumanMessage(content='Hi, My name is Jeevan and I play Basketball', additional_kwargs={}, response_metadata={}, id='5eb253b0-c39f-4cd8-983c-932b066132cd'), AIMessage(content=\"Hi Jeevan! That's great to hear! Basketball is an exciting sport. Do you play for fun, or are you part of a team?\", additional_kwargs={'refusal': None}, response_metadata={'token_usage': {'completion_tokens': 30, 'prompt_tokens': 359, 'total_tokens': 389, 'completion_tokens_details': {'accepted_prediction_tokens': 0, 'audio_tokens': 0, 'reasoning_tokens': 0, 'rejected_prediction_tokens': 0}, 'prompt_tokens_details': {'audio_tokens': 0, 'cached_tokens': 0}}, 'model_name': 'gpt-4o-mini-2024-07-18', 'system_fingerprint': 'fp_560af6e559', 'id': 'chatcmpl-CNOv3LzeOHvWR0phmw8lWCHPagJEe', 'service_tier': 'default', 'finish_reason': 'stop', 'logprobs': None}, id='run--8e9ce3bd-62cd-4f8c-84eb-f23b2c251f17-0', usage_metadata={'input_tokens': 359, 'output_tokens': 30, 'total_tokens': 389, 'input_token_details': {'audio': 0, 'cache_read': 0}, 'output_token_details': {'audio': 0, 'reasoning': 0}}), HumanMessage(content='Hi, My name is Jeevan and I play Basketball', additional_kwargs={}, response_metadata={}, id='95f7a016-1368-45f8-bc5a-5771ced33b51'), AIMessage(content=\"Hi Jeevan! It's nice to meet you. Basketball is a fantastic sport! How long have you been playing? Do you have a favorite team or player?\", additional_kwargs={'refusal': None}, response_metadata={'token_usage': {'completion_tokens': 33, 'prompt_tokens': 407, 'total_tokens': 440, 'completion_tokens_details': {'accepted_prediction_tokens': 0, 'audio_tokens': 0, 'reasoning_tokens': 0, 'rejected_prediction_tokens': 0}, 'prompt_tokens_details': {'audio_tokens': 0, 'cached_tokens': 0}}, 'model_name': 'gpt-4o-mini-2024-07-18', 'system_fingerprint': 'fp_560af6e559', 'id': 'chatcmpl-CNOvK49AbsIzWYvQE6I0O7pChSxCO', 'service_tier': 'default', 'finish_reason': 'stop', 'logprobs': None}, id='run--595751b6-c519-44f3-829a-59c4f9247bfb-0', usage_metadata={'input_tokens': 407, 'output_tokens': 33, 'total_tokens': 440, 'input_token_details': {'audio': 0, 'cache_read': 0}, 'output_token_details': {'audio': 0, 'reasoning': 0}}), HumanMessage(content='Hi, My name is Jeevan and I play Basketball', additional_kwargs={}, response_metadata={}, id='9dfffe37-bd83-4943-b3c4-15c4dd75a323'), AIMessage(content=\"Hi Jeevan! It's great to meet you! Basketball is an awesome sport. How long have you been playing, and do you have a favorite team or player?\", additional_kwargs={'refusal': None}, response_metadata={'token_usage': {'completion_tokens': 34, 'prompt_tokens': 458, 'total_tokens': 492, 'completion_tokens_details': {'accepted_prediction_tokens': 0, 'audio_tokens': 0, 'reasoning_tokens': 0, 'rejected_prediction_tokens': 0}, 'prompt_tokens_details': {'audio_tokens': 0, 'cached_tokens': 0}}, 'model_name': 'gpt-4o-mini-2024-07-18', 'system_fingerprint': 'fp_560af6e559', 'id': 'chatcmpl-CNOvcyFgY0mEQlQtqWqGMdSGeKphJ', 'service_tier': 'default', 'finish_reason': 'stop', 'logprobs': None}, id='run--ed34da98-a18a-480d-bf1b-e408c0caa501-0', usage_metadata={'input_tokens': 458, 'output_tokens': 34, 'total_tokens': 492, 'input_token_details': {'audio': 0, 'cache_read': 0}, 'output_token_details': {'audio': 0, 'reasoning': 0}}), HumanMessage(content='Hi, My name is Jeevan and I play Basketball', additional_kwargs={}, response_metadata={}, id='23c564ad-8cea-4830-b494-2251898e88e7'), AIMessage(content=\"Hi Jeevan! It's nice to meet you! Basketball is a fun and dynamic sport. How long have you been playing, and do you have a favorite position or player?\", additional_kwargs={'refusal': None}, response_metadata={'token_usage': {'completion_tokens': 36, 'prompt_tokens': 510, 'total_tokens': 546, 'completion_tokens_details': {'accepted_prediction_tokens': 0, 'audio_tokens': 0, 'reasoning_tokens': 0, 'rejected_prediction_tokens': 0}, 'prompt_tokens_details': {'audio_tokens': 0, 'cached_tokens': 0}}, 'model_name': 'gpt-4o-mini-2024-07-18', 'system_fingerprint': 'fp_560af6e559', 'id': 'chatcmpl-CNOwHDGnQwL0a084ak6hmpniIJ3BS', 'service_tier': 'default', 'finish_reason': 'stop', 'logprobs': None}, id='run--df282199-5377-4af2-b40b-979cfcd0437b-0', usage_metadata={'input_tokens': 510, 'output_tokens': 36, 'total_tokens': 546, 'input_token_details': {'audio': 0, 'cache_read': 0}, 'output_token_details': {'audio': 0, 'reasoning': 0}}), HumanMessage(content='Hi, I also like cooking', additional_kwargs={}, response_metadata={}, id='814ab4d3-77ff-46ed-a5c6-050e50a4da2f'), AIMessage(content=\"That's awesome, Jeevan! Cooking is a great skill to have. What type of cuisine do you enjoy cooking the most? Do you have a favorite dish that you like to make?\", additional_kwargs={'refusal': None}, response_metadata={'token_usage': {'completion_tokens': 38, 'prompt_tokens': 559, 'total_tokens': 597, 'completion_tokens_details': {'accepted_prediction_tokens': 0, 'audio_tokens': 0, 'reasoning_tokens': 0, 'rejected_prediction_tokens': 0}, 'prompt_tokens_details': {'audio_tokens': 0, 'cached_tokens': 0}}, 'model_name': 'gpt-4o-mini-2024-07-18', 'system_fingerprint': 'fp_560af6e559', 'id': 'chatcmpl-CNOwqlsOoLZInGKjZBqM1Lr9la2D9', 'service_tier': 'default', 'finish_reason': 'stop', 'logprobs': None}, id='run--b27285eb-965e-4e58-95cb-5678a03fed06-0', usage_metadata={'input_tokens': 559, 'output_tokens': 38, 'total_tokens': 597, 'input_token_details': {'audio': 0, 'cache_read': 0}, 'output_token_details': {'audio': 0, 'reasoning': 0}}), HumanMessage(content='Hi my name is jeevanand i like to play cricket', additional_kwargs={}, response_metadata={}, id='7aad2304-ff09-47a9-823e-a05c573ac23d'), AIMessage(content=\"Hi Jeevan! It's great to meet you! Cricket is a fantastic sport with a rich history. How long have you been playing cricket, and do you have a favorite team or player?\", additional_kwargs={}, response_metadata={'finish_reason': 'stop', 'model_name': 'gpt-4o-mini-2024-07-18', 'system_fingerprint': 'fp_560af6e559', 'service_tier': 'default'}, id='run--b4f4d450-81f6-430a-bc97-ec506af5eb0d')]}}, 'run_id': '1df9b993-a4fd-4085-88a6-7f3ad2c96adf', 'name': 'tools_condition', 'tags': ['seq:step:3'], 'metadata': {'thread_id': '2', 'langgraph_step': 16, 'langgraph_node': 'tool_calling_llm', 'langgraph_triggers': ('branch:to:tool_calling_llm',), 'langgraph_path': ('__pregel_pull', 'tool_calling_llm'), 'langgraph_checkpoint_ns': 'tool_calling_llm:c08445e0-1177-71bc-ef67-094a44e0cc3c', 'LANGSMITH_ENDPOINT': 'https://api.smith.langchain.com', 'LANGSMITH_PROJECT': 'pr-ordinary-rainy-36', 'LANGSMITH_TRACING': 'true', 'revision_id': '5a2b564-dirty'}, 'parent_ids': ['e4d03623-b90c-4b6e-91a9-6bfb43cc0cd3', 'adeaf768-bbac-4196-b200-a724a94b23a9']}\n",
      "{'event': 'on_chain_stream', 'run_id': 'adeaf768-bbac-4196-b200-a724a94b23a9', 'name': 'tool_calling_llm', 'tags': ['graph:step:16'], 'metadata': {'thread_id': '2', 'langgraph_step': 16, 'langgraph_node': 'tool_calling_llm', 'langgraph_triggers': ('branch:to:tool_calling_llm',), 'langgraph_path': ('__pregel_pull', 'tool_calling_llm'), 'langgraph_checkpoint_ns': 'tool_calling_llm:c08445e0-1177-71bc-ef67-094a44e0cc3c'}, 'data': {'chunk': {'messages': [AIMessage(content=\"Hi Jeevan! It's great to meet you! Cricket is a fantastic sport with a rich history. How long have you been playing cricket, and do you have a favorite team or player?\", additional_kwargs={}, response_metadata={'finish_reason': 'stop', 'model_name': 'gpt-4o-mini-2024-07-18', 'system_fingerprint': 'fp_560af6e559', 'service_tier': 'default'}, id='run--b4f4d450-81f6-430a-bc97-ec506af5eb0d')]}}, 'parent_ids': ['e4d03623-b90c-4b6e-91a9-6bfb43cc0cd3']}\n",
      "{'event': 'on_chain_end', 'data': {'output': {'messages': [AIMessage(content=\"Hi Jeevan! It's great to meet you! Cricket is a fantastic sport with a rich history. How long have you been playing cricket, and do you have a favorite team or player?\", additional_kwargs={}, response_metadata={'finish_reason': 'stop', 'model_name': 'gpt-4o-mini-2024-07-18', 'system_fingerprint': 'fp_560af6e559', 'service_tier': 'default'}, id='run--b4f4d450-81f6-430a-bc97-ec506af5eb0d')]}, 'input': {'messages': [HumanMessage(content='Hi, My name is Jeevan and I play Basketball', additional_kwargs={}, response_metadata={}, id='5eb253b0-c39f-4cd8-983c-932b066132cd'), AIMessage(content=\"Hi Jeevan! That's great to hear! Basketball is an exciting sport. Do you play for fun, or are you part of a team?\", additional_kwargs={'refusal': None}, response_metadata={'token_usage': {'completion_tokens': 30, 'prompt_tokens': 359, 'total_tokens': 389, 'completion_tokens_details': {'accepted_prediction_tokens': 0, 'audio_tokens': 0, 'reasoning_tokens': 0, 'rejected_prediction_tokens': 0}, 'prompt_tokens_details': {'audio_tokens': 0, 'cached_tokens': 0}}, 'model_name': 'gpt-4o-mini-2024-07-18', 'system_fingerprint': 'fp_560af6e559', 'id': 'chatcmpl-CNOv3LzeOHvWR0phmw8lWCHPagJEe', 'service_tier': 'default', 'finish_reason': 'stop', 'logprobs': None}, id='run--8e9ce3bd-62cd-4f8c-84eb-f23b2c251f17-0', usage_metadata={'input_tokens': 359, 'output_tokens': 30, 'total_tokens': 389, 'input_token_details': {'audio': 0, 'cache_read': 0}, 'output_token_details': {'audio': 0, 'reasoning': 0}}), HumanMessage(content='Hi, My name is Jeevan and I play Basketball', additional_kwargs={}, response_metadata={}, id='95f7a016-1368-45f8-bc5a-5771ced33b51'), AIMessage(content=\"Hi Jeevan! It's nice to meet you. Basketball is a fantastic sport! How long have you been playing? Do you have a favorite team or player?\", additional_kwargs={'refusal': None}, response_metadata={'token_usage': {'completion_tokens': 33, 'prompt_tokens': 407, 'total_tokens': 440, 'completion_tokens_details': {'accepted_prediction_tokens': 0, 'audio_tokens': 0, 'reasoning_tokens': 0, 'rejected_prediction_tokens': 0}, 'prompt_tokens_details': {'audio_tokens': 0, 'cached_tokens': 0}}, 'model_name': 'gpt-4o-mini-2024-07-18', 'system_fingerprint': 'fp_560af6e559', 'id': 'chatcmpl-CNOvK49AbsIzWYvQE6I0O7pChSxCO', 'service_tier': 'default', 'finish_reason': 'stop', 'logprobs': None}, id='run--595751b6-c519-44f3-829a-59c4f9247bfb-0', usage_metadata={'input_tokens': 407, 'output_tokens': 33, 'total_tokens': 440, 'input_token_details': {'audio': 0, 'cache_read': 0}, 'output_token_details': {'audio': 0, 'reasoning': 0}}), HumanMessage(content='Hi, My name is Jeevan and I play Basketball', additional_kwargs={}, response_metadata={}, id='9dfffe37-bd83-4943-b3c4-15c4dd75a323'), AIMessage(content=\"Hi Jeevan! It's great to meet you! Basketball is an awesome sport. How long have you been playing, and do you have a favorite team or player?\", additional_kwargs={'refusal': None}, response_metadata={'token_usage': {'completion_tokens': 34, 'prompt_tokens': 458, 'total_tokens': 492, 'completion_tokens_details': {'accepted_prediction_tokens': 0, 'audio_tokens': 0, 'reasoning_tokens': 0, 'rejected_prediction_tokens': 0}, 'prompt_tokens_details': {'audio_tokens': 0, 'cached_tokens': 0}}, 'model_name': 'gpt-4o-mini-2024-07-18', 'system_fingerprint': 'fp_560af6e559', 'id': 'chatcmpl-CNOvcyFgY0mEQlQtqWqGMdSGeKphJ', 'service_tier': 'default', 'finish_reason': 'stop', 'logprobs': None}, id='run--ed34da98-a18a-480d-bf1b-e408c0caa501-0', usage_metadata={'input_tokens': 458, 'output_tokens': 34, 'total_tokens': 492, 'input_token_details': {'audio': 0, 'cache_read': 0}, 'output_token_details': {'audio': 0, 'reasoning': 0}}), HumanMessage(content='Hi, My name is Jeevan and I play Basketball', additional_kwargs={}, response_metadata={}, id='23c564ad-8cea-4830-b494-2251898e88e7'), AIMessage(content=\"Hi Jeevan! It's nice to meet you! Basketball is a fun and dynamic sport. How long have you been playing, and do you have a favorite position or player?\", additional_kwargs={'refusal': None}, response_metadata={'token_usage': {'completion_tokens': 36, 'prompt_tokens': 510, 'total_tokens': 546, 'completion_tokens_details': {'accepted_prediction_tokens': 0, 'audio_tokens': 0, 'reasoning_tokens': 0, 'rejected_prediction_tokens': 0}, 'prompt_tokens_details': {'audio_tokens': 0, 'cached_tokens': 0}}, 'model_name': 'gpt-4o-mini-2024-07-18', 'system_fingerprint': 'fp_560af6e559', 'id': 'chatcmpl-CNOwHDGnQwL0a084ak6hmpniIJ3BS', 'service_tier': 'default', 'finish_reason': 'stop', 'logprobs': None}, id='run--df282199-5377-4af2-b40b-979cfcd0437b-0', usage_metadata={'input_tokens': 510, 'output_tokens': 36, 'total_tokens': 546, 'input_token_details': {'audio': 0, 'cache_read': 0}, 'output_token_details': {'audio': 0, 'reasoning': 0}}), HumanMessage(content='Hi, I also like cooking', additional_kwargs={}, response_metadata={}, id='814ab4d3-77ff-46ed-a5c6-050e50a4da2f'), AIMessage(content=\"That's awesome, Jeevan! Cooking is a great skill to have. What type of cuisine do you enjoy cooking the most? Do you have a favorite dish that you like to make?\", additional_kwargs={'refusal': None}, response_metadata={'token_usage': {'completion_tokens': 38, 'prompt_tokens': 559, 'total_tokens': 597, 'completion_tokens_details': {'accepted_prediction_tokens': 0, 'audio_tokens': 0, 'reasoning_tokens': 0, 'rejected_prediction_tokens': 0}, 'prompt_tokens_details': {'audio_tokens': 0, 'cached_tokens': 0}}, 'model_name': 'gpt-4o-mini-2024-07-18', 'system_fingerprint': 'fp_560af6e559', 'id': 'chatcmpl-CNOwqlsOoLZInGKjZBqM1Lr9la2D9', 'service_tier': 'default', 'finish_reason': 'stop', 'logprobs': None}, id='run--b27285eb-965e-4e58-95cb-5678a03fed06-0', usage_metadata={'input_tokens': 559, 'output_tokens': 38, 'total_tokens': 597, 'input_token_details': {'audio': 0, 'cache_read': 0}, 'output_token_details': {'audio': 0, 'reasoning': 0}}), HumanMessage(content='Hi my name is jeevanand i like to play cricket', additional_kwargs={}, response_metadata={}, id='7aad2304-ff09-47a9-823e-a05c573ac23d')]}}, 'run_id': 'adeaf768-bbac-4196-b200-a724a94b23a9', 'name': 'tool_calling_llm', 'tags': ['graph:step:16'], 'metadata': {'thread_id': '2', 'langgraph_step': 16, 'langgraph_node': 'tool_calling_llm', 'langgraph_triggers': ('branch:to:tool_calling_llm',), 'langgraph_path': ('__pregel_pull', 'tool_calling_llm'), 'langgraph_checkpoint_ns': 'tool_calling_llm:c08445e0-1177-71bc-ef67-094a44e0cc3c', 'LANGSMITH_ENDPOINT': 'https://api.smith.langchain.com', 'LANGSMITH_PROJECT': 'pr-ordinary-rainy-36', 'LANGSMITH_TRACING': 'true', 'revision_id': '5a2b564-dirty'}, 'parent_ids': ['e4d03623-b90c-4b6e-91a9-6bfb43cc0cd3']}\n",
      "{'event': 'on_chain_stream', 'run_id': 'e4d03623-b90c-4b6e-91a9-6bfb43cc0cd3', 'name': 'LangGraph', 'tags': [], 'metadata': {'thread_id': '2', 'LANGSMITH_ENDPOINT': 'https://api.smith.langchain.com', 'LANGSMITH_PROJECT': 'pr-ordinary-rainy-36', 'LANGSMITH_TRACING': 'true', 'revision_id': '5a2b564-dirty'}, 'data': {'chunk': {'tool_calling_llm': {'messages': [AIMessage(content=\"Hi Jeevan! It's great to meet you! Cricket is a fantastic sport with a rich history. How long have you been playing cricket, and do you have a favorite team or player?\", additional_kwargs={}, response_metadata={'finish_reason': 'stop', 'model_name': 'gpt-4o-mini-2024-07-18', 'system_fingerprint': 'fp_560af6e559', 'service_tier': 'default'}, id='run--b4f4d450-81f6-430a-bc97-ec506af5eb0d')]}}}, 'parent_ids': []}\n",
      "{'event': 'on_chain_end', 'data': {'output': {'messages': [HumanMessage(content='Hi, My name is Jeevan and I play Basketball', additional_kwargs={}, response_metadata={}, id='5eb253b0-c39f-4cd8-983c-932b066132cd'), AIMessage(content=\"Hi Jeevan! That's great to hear! Basketball is an exciting sport. Do you play for fun, or are you part of a team?\", additional_kwargs={'refusal': None}, response_metadata={'token_usage': {'completion_tokens': 30, 'prompt_tokens': 359, 'total_tokens': 389, 'completion_tokens_details': {'accepted_prediction_tokens': 0, 'audio_tokens': 0, 'reasoning_tokens': 0, 'rejected_prediction_tokens': 0}, 'prompt_tokens_details': {'audio_tokens': 0, 'cached_tokens': 0}}, 'model_name': 'gpt-4o-mini-2024-07-18', 'system_fingerprint': 'fp_560af6e559', 'id': 'chatcmpl-CNOv3LzeOHvWR0phmw8lWCHPagJEe', 'service_tier': 'default', 'finish_reason': 'stop', 'logprobs': None}, id='run--8e9ce3bd-62cd-4f8c-84eb-f23b2c251f17-0', usage_metadata={'input_tokens': 359, 'output_tokens': 30, 'total_tokens': 389, 'input_token_details': {'audio': 0, 'cache_read': 0}, 'output_token_details': {'audio': 0, 'reasoning': 0}}), HumanMessage(content='Hi, My name is Jeevan and I play Basketball', additional_kwargs={}, response_metadata={}, id='95f7a016-1368-45f8-bc5a-5771ced33b51'), AIMessage(content=\"Hi Jeevan! It's nice to meet you. Basketball is a fantastic sport! How long have you been playing? Do you have a favorite team or player?\", additional_kwargs={'refusal': None}, response_metadata={'token_usage': {'completion_tokens': 33, 'prompt_tokens': 407, 'total_tokens': 440, 'completion_tokens_details': {'accepted_prediction_tokens': 0, 'audio_tokens': 0, 'reasoning_tokens': 0, 'rejected_prediction_tokens': 0}, 'prompt_tokens_details': {'audio_tokens': 0, 'cached_tokens': 0}}, 'model_name': 'gpt-4o-mini-2024-07-18', 'system_fingerprint': 'fp_560af6e559', 'id': 'chatcmpl-CNOvK49AbsIzWYvQE6I0O7pChSxCO', 'service_tier': 'default', 'finish_reason': 'stop', 'logprobs': None}, id='run--595751b6-c519-44f3-829a-59c4f9247bfb-0', usage_metadata={'input_tokens': 407, 'output_tokens': 33, 'total_tokens': 440, 'input_token_details': {'audio': 0, 'cache_read': 0}, 'output_token_details': {'audio': 0, 'reasoning': 0}}), HumanMessage(content='Hi, My name is Jeevan and I play Basketball', additional_kwargs={}, response_metadata={}, id='9dfffe37-bd83-4943-b3c4-15c4dd75a323'), AIMessage(content=\"Hi Jeevan! It's great to meet you! Basketball is an awesome sport. How long have you been playing, and do you have a favorite team or player?\", additional_kwargs={'refusal': None}, response_metadata={'token_usage': {'completion_tokens': 34, 'prompt_tokens': 458, 'total_tokens': 492, 'completion_tokens_details': {'accepted_prediction_tokens': 0, 'audio_tokens': 0, 'reasoning_tokens': 0, 'rejected_prediction_tokens': 0}, 'prompt_tokens_details': {'audio_tokens': 0, 'cached_tokens': 0}}, 'model_name': 'gpt-4o-mini-2024-07-18', 'system_fingerprint': 'fp_560af6e559', 'id': 'chatcmpl-CNOvcyFgY0mEQlQtqWqGMdSGeKphJ', 'service_tier': 'default', 'finish_reason': 'stop', 'logprobs': None}, id='run--ed34da98-a18a-480d-bf1b-e408c0caa501-0', usage_metadata={'input_tokens': 458, 'output_tokens': 34, 'total_tokens': 492, 'input_token_details': {'audio': 0, 'cache_read': 0}, 'output_token_details': {'audio': 0, 'reasoning': 0}}), HumanMessage(content='Hi, My name is Jeevan and I play Basketball', additional_kwargs={}, response_metadata={}, id='23c564ad-8cea-4830-b494-2251898e88e7'), AIMessage(content=\"Hi Jeevan! It's nice to meet you! Basketball is a fun and dynamic sport. How long have you been playing, and do you have a favorite position or player?\", additional_kwargs={'refusal': None}, response_metadata={'token_usage': {'completion_tokens': 36, 'prompt_tokens': 510, 'total_tokens': 546, 'completion_tokens_details': {'accepted_prediction_tokens': 0, 'audio_tokens': 0, 'reasoning_tokens': 0, 'rejected_prediction_tokens': 0}, 'prompt_tokens_details': {'audio_tokens': 0, 'cached_tokens': 0}}, 'model_name': 'gpt-4o-mini-2024-07-18', 'system_fingerprint': 'fp_560af6e559', 'id': 'chatcmpl-CNOwHDGnQwL0a084ak6hmpniIJ3BS', 'service_tier': 'default', 'finish_reason': 'stop', 'logprobs': None}, id='run--df282199-5377-4af2-b40b-979cfcd0437b-0', usage_metadata={'input_tokens': 510, 'output_tokens': 36, 'total_tokens': 546, 'input_token_details': {'audio': 0, 'cache_read': 0}, 'output_token_details': {'audio': 0, 'reasoning': 0}}), HumanMessage(content='Hi, I also like cooking', additional_kwargs={}, response_metadata={}, id='814ab4d3-77ff-46ed-a5c6-050e50a4da2f'), AIMessage(content=\"That's awesome, Jeevan! Cooking is a great skill to have. What type of cuisine do you enjoy cooking the most? Do you have a favorite dish that you like to make?\", additional_kwargs={'refusal': None}, response_metadata={'token_usage': {'completion_tokens': 38, 'prompt_tokens': 559, 'total_tokens': 597, 'completion_tokens_details': {'accepted_prediction_tokens': 0, 'audio_tokens': 0, 'reasoning_tokens': 0, 'rejected_prediction_tokens': 0}, 'prompt_tokens_details': {'audio_tokens': 0, 'cached_tokens': 0}}, 'model_name': 'gpt-4o-mini-2024-07-18', 'system_fingerprint': 'fp_560af6e559', 'id': 'chatcmpl-CNOwqlsOoLZInGKjZBqM1Lr9la2D9', 'service_tier': 'default', 'finish_reason': 'stop', 'logprobs': None}, id='run--b27285eb-965e-4e58-95cb-5678a03fed06-0', usage_metadata={'input_tokens': 559, 'output_tokens': 38, 'total_tokens': 597, 'input_token_details': {'audio': 0, 'cache_read': 0}, 'output_token_details': {'audio': 0, 'reasoning': 0}}), HumanMessage(content='Hi my name is jeevanand i like to play cricket', additional_kwargs={}, response_metadata={}, id='7aad2304-ff09-47a9-823e-a05c573ac23d'), AIMessage(content=\"Hi Jeevan! It's great to meet you! Cricket is a fantastic sport with a rich history. How long have you been playing cricket, and do you have a favorite team or player?\", additional_kwargs={}, response_metadata={'finish_reason': 'stop', 'model_name': 'gpt-4o-mini-2024-07-18', 'system_fingerprint': 'fp_560af6e559', 'service_tier': 'default'}, id='run--b4f4d450-81f6-430a-bc97-ec506af5eb0d')]}}, 'run_id': 'e4d03623-b90c-4b6e-91a9-6bfb43cc0cd3', 'name': 'LangGraph', 'tags': [], 'metadata': {'thread_id': '2', 'LANGSMITH_ENDPOINT': 'https://api.smith.langchain.com', 'LANGSMITH_PROJECT': 'pr-ordinary-rainy-36', 'LANGSMITH_TRACING': 'true', 'revision_id': '5a2b564-dirty'}, 'parent_ids': []}\n"
     ]
    }
   ],
   "source": [
    "config: {\"configurable\": {\"thread_id\": 3}}\n",
    "\n",
    "async for event in graph_memory.astream_events({\"messages\":[\"Hi my name is jeevanand i like to play cricket\"]},config,version='v2'):\n",
    "    print(event)"
   ]
  },
  {
   "cell_type": "code",
   "execution_count": null,
   "id": "f55d7e55",
   "metadata": {},
   "outputs": [],
   "source": []
  }
 ],
 "metadata": {
  "kernelspec": {
   "display_name": ".venv",
   "language": "python",
   "name": "python3"
  },
  "language_info": {
   "codemirror_mode": {
    "name": "ipython",
    "version": 3
   },
   "file_extension": ".py",
   "mimetype": "text/x-python",
   "name": "python",
   "nbconvert_exporter": "python",
   "pygments_lexer": "ipython3",
   "version": "3.12.3"
  }
 },
 "nbformat": 4,
 "nbformat_minor": 5
}
