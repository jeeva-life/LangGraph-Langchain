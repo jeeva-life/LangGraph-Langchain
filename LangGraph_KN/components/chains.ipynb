{
 "cells": [
  {
   "cell_type": "markdown",
   "id": "98747b13",
   "metadata": {},
   "source": [
    "## Chain using LangGraph"
   ]
  },
  {
   "cell_type": "markdown",
   "id": "36e427bd",
   "metadata": {},
   "source": [
    "In this section we will see how we can build a simple chain using LangGraph that uses 4 important concepts"
   ]
  },
  {
   "cell_type": "markdown",
   "id": "0336e3aa",
   "metadata": {},
   "source": [
    "-> How to use \"chat messages\" as our graph state\n",
    "\n",
    "-> How to use \"chat models\" in graph nodes\n",
    "\n",
    "-> How to bind tools to our LLM in chat models\n",
    "\n",
    "-> How to execute the tools call in our graph nodes"
   ]
  },
  {
   "cell_type": "code",
   "execution_count": 1,
   "id": "b1b12e6d",
   "metadata": {},
   "outputs": [],
   "source": [
    "from dotenv import load_dotenv\n",
    "load_dotenv()\n",
    "\n",
    "import os\n",
    "\n",
    "os.environ[\"OPENAI_API_KEY\"] = os.getenv(\"OPENAI_API_KEY\")\n",
    "os.environ[\"GROQ_API_KEY\"] = os.getenv(\"GROQ_API_KEY\")"
   ]
  },
  {
   "cell_type": "markdown",
   "id": "ac5140b0",
   "metadata": {},
   "source": [
    "How to use chat messages as our Graph state"
   ]
  },
  {
   "cell_type": "markdown",
   "id": "e56a3300",
   "metadata": {},
   "source": [
    "Messages"
   ]
  },
  {
   "cell_type": "markdown",
   "id": "95d602db",
   "metadata": {},
   "source": [
    "we can use messages which can be used to capture different roles within a conversation. Langchain has various message types including HumanMessage, AIMessage, SystemMessage & ToolMessage. These repressent a messag from the user, from chat model, for the chat model to instruct behaviour, and from a tool call"
   ]
  },
  {
   "cell_type": "markdown",
   "id": "e9cc3a44",
   "metadata": {},
   "source": [
    "Every message has these important components:"
   ]
  },
  {
   "cell_type": "markdown",
   "id": "5be2215a",
   "metadata": {},
   "source": [
    "-> content - content of the message\n",
    "\n",
    "-> name - specify the name of the author\n",
    "\n",
    "-> response_metadata - optional, a disct of metadata(e.g; often populated by model provider for AIMessages)"
   ]
  },
  {
   "cell_type": "code",
   "execution_count": 2,
   "id": "6c7e87c6",
   "metadata": {},
   "outputs": [],
   "source": [
    "from langchain_core.messages import HumanMessage, AIMessage, SystemMessage, ToolMessage"
   ]
  },
  {
   "cell_type": "code",
   "execution_count": 3,
   "id": "475f5e37",
   "metadata": {},
   "outputs": [],
   "source": [
    "from pprint import pprint"
   ]
  },
  {
   "cell_type": "code",
   "execution_count": 6,
   "id": "4a158ba6",
   "metadata": {},
   "outputs": [
    {
     "name": "stdout",
     "output_type": "stream",
     "text": [
      "==================================\u001b[1m Ai Message \u001b[0m==================================\n",
      "\n",
      "Hello, how are you?\n",
      "None\n",
      "================================\u001b[1m Human Message \u001b[0m=================================\n",
      "\n",
      "I'm good, thank you!\n",
      "None\n",
      "==================================\u001b[1m Ai Message \u001b[0m==================================\n",
      "\n",
      "I'm also good, thank you!\n",
      "None\n",
      "================================\u001b[1m Human Message \u001b[0m=================================\n",
      "\n",
      "I want to know about the weather in Tokyo\n",
      "None\n"
     ]
    }
   ],
   "source": [
    "messages = [AIMessage(content=\"Hello, how are you?\"), \n",
    "            HumanMessage(content=\"I'm good, thank you!\"),\n",
    "            AIMessage(content=\"I'm also good, thank you!\")]\n",
    "\n",
    "messages.append(HumanMessage(content=\"I want to know about the weather in Tokyo\"))\n",
    "\n",
    "for m in messages:\n",
    "    print(m.pretty_print())\n",
    "\n",
    "\n",
    "\n"
   ]
  },
  {
   "cell_type": "markdown",
   "id": "c2497531",
   "metadata": {},
   "source": [
    "# Chat Models"
   ]
  },
  {
   "cell_type": "markdown",
   "id": "b727db86",
   "metadata": {},
   "source": [
    "we can use the sequence of messages as inpput with the chatmodels using LLM's & OPENAI"
   ]
  },
  {
   "cell_type": "code",
   "execution_count": 13,
   "id": "fa897df8",
   "metadata": {},
   "outputs": [
    {
     "data": {
      "text/plain": [
       "AIMessage(content='Sure! Currently, it is sunny in Tokyo with a temperature of around 23 degrees Celsius. The weather is expected to remain sunny throughout the day with a high of 27 degrees Celsius.', additional_kwargs={'refusal': None}, response_metadata={'token_usage': {'completion_tokens': 38, 'prompt_tokens': 49, 'total_tokens': 87, 'completion_tokens_details': {'accepted_prediction_tokens': 0, 'audio_tokens': 0, 'reasoning_tokens': 0, 'rejected_prediction_tokens': 0}, 'prompt_tokens_details': {'audio_tokens': 0, 'cached_tokens': 0}}, 'model_name': 'gpt-3.5-turbo-0125', 'system_fingerprint': None, 'id': 'chatcmpl-CNIcb9pHcgzHbpeptwzeX3A4YHxOI', 'service_tier': 'default', 'finish_reason': 'stop', 'logprobs': None}, id='run--e04669a2-db39-4a12-9e84-08c2ade8ceee-0', usage_metadata={'input_tokens': 49, 'output_tokens': 38, 'total_tokens': 87, 'input_token_details': {'audio': 0, 'cache_read': 0}, 'output_token_details': {'audio': 0, 'reasoning': 0}})"
      ]
     },
     "execution_count": 13,
     "metadata": {},
     "output_type": "execute_result"
    }
   ],
   "source": [
    "from langchain_groq import ChatGroq\n",
    "from langchain_openai import ChatOpenAI\n",
    "\n",
    "llm = ChatOpenAI(model_name=\"gpt-3.5-turbo\", \n",
    "api_key=os.getenv(\"OPENAI_API_KEY\"))\n",
    "\n",
    "llm.invoke(messages)"
   ]
  },
  {
   "cell_type": "code",
   "execution_count": 14,
   "id": "3512f338",
   "metadata": {},
   "outputs": [
    {
     "data": {
      "text/plain": [
       "{'token_usage': {'completion_tokens': 61,\n",
       "  'prompt_tokens': 49,\n",
       "  'total_tokens': 110,\n",
       "  'completion_tokens_details': {'accepted_prediction_tokens': 0,\n",
       "   'audio_tokens': 0,\n",
       "   'reasoning_tokens': 0,\n",
       "   'rejected_prediction_tokens': 0},\n",
       "  'prompt_tokens_details': {'audio_tokens': 0, 'cached_tokens': 0}},\n",
       " 'model_name': 'gpt-3.5-turbo-0125',\n",
       " 'system_fingerprint': None,\n",
       " 'id': 'chatcmpl-CNIeOJALWcIGeejxhuBu3OO2FJHvv',\n",
       " 'service_tier': 'default',\n",
       " 'finish_reason': 'stop',\n",
       " 'logprobs': None}"
      ]
     },
     "execution_count": 14,
     "metadata": {},
     "output_type": "execute_result"
    }
   ],
   "source": [
    "result = llm.invoke(messages)\n",
    "result.response_metadata"
   ]
  },
  {
   "cell_type": "code",
   "execution_count": null,
   "id": "f9576255",
   "metadata": {},
   "outputs": [],
   "source": []
  }
 ],
 "metadata": {
  "kernelspec": {
   "display_name": ".venv",
   "language": "python",
   "name": "python3"
  },
  "language_info": {
   "codemirror_mode": {
    "name": "ipython",
    "version": 3
   },
   "file_extension": ".py",
   "mimetype": "text/x-python",
   "name": "python",
   "nbconvert_exporter": "python",
   "pygments_lexer": "ipython3",
   "version": "3.12.3"
  }
 },
 "nbformat": 4,
 "nbformat_minor": 5
}
