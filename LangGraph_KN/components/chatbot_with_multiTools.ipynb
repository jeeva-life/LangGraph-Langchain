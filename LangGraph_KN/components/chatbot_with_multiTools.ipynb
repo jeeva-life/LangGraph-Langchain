{
 "cells": [
  {
   "cell_type": "markdown",
   "id": "309cc21f",
   "metadata": {},
   "source": [
    "## Building chatbot with multi tools using langgraph\n",
    "\n",
    "### Aim is to create a chatbot with tool cappabilities from ARXIV, wikipedia search & some custom functions"
   ]
  },
  {
   "cell_type": "code",
   "execution_count": 4,
   "id": "f8f78e7b",
   "metadata": {},
   "outputs": [],
   "source": [
    "from langchain_community.tools import ArxivQueryRun, WikipediaQueryRun\n",
    "from langchain_community.utilities import WikipediaAPIWrapper, ArxivAPIWrapper\n",
    "\n"
   ]
  },
  {
   "cell_type": "code",
   "execution_count": 5,
   "id": "fbb2546c",
   "metadata": {},
   "outputs": [
    {
     "name": "stdout",
     "output_type": "stream",
     "text": [
      "Published: 2025-04-03\n",
      "Title: A Review of Prototyping in XR: Linking Extended Reality to Digital Fabrication\n",
      "Authors: Bixun Chen, Shaun Macdonald, Moataz Attallah, Paul Chapman, Rami Ghannam\n",
      "Summary: Extended Reality (XR) has expanded the horizons of entertainment and social\n",
      "life and shows great potential in the manufacturing industry. Prototyping in XR\n",
      "can help designers make initial proposals and\n"
     ]
    }
   ],
   "source": [
    "api_wrapper_arxiv = ArxivAPIWrapper(top_k_results=2, doc_content_chars_max=400)\n",
    "arxiv = ArxivQueryRun(api_wrapper=api_wrapper_arxiv)\n",
    "\n",
    "print(arxiv.invoke(\"What is the latest research on LangChain?\"))"
   ]
  },
  {
   "cell_type": "code",
   "execution_count": 7,
   "id": "abbd906e",
   "metadata": {},
   "outputs": [
    {
     "name": "stdout",
     "output_type": "stream",
     "text": [
      "arxiv\n"
     ]
    }
   ],
   "source": [
    "print(arxiv.name)"
   ]
  },
  {
   "cell_type": "code",
   "execution_count": 8,
   "id": "a70ad0bf",
   "metadata": {},
   "outputs": [
    {
     "name": "stdout",
     "output_type": "stream",
     "text": [
      "Published: 2024-07-22\n",
      "Title: Attention Is All You Need But You Don't Need All Of It For Inference of Large Language Models\n",
      "Authors: Georgy Tyukin, Gbetondji J-S Dovonon, Jean Kaddour, Pasquale Minervini\n",
      "Summary: The inference demand for LLMs has skyrocketed in recent months, and serving\n",
      "models with low latencies remains challenging due to the quadratic input length\n",
      "complexity of the attention laye\n"
     ]
    }
   ],
   "source": [
    "print(arxiv.invoke(\"Attention is all you need\"))"
   ]
  },
  {
   "cell_type": "code",
   "execution_count": 10,
   "id": "6d2b4bf2",
   "metadata": {},
   "outputs": [
    {
     "name": "stdout",
     "output_type": "stream",
     "text": [
      "Page: Wednesday (TV series)\n",
      "Summary: Wednesday is an American supernatural mystery comedy television series based on the character Wednesday Addams by Charles Addams. Created by Alfred Gough and Miles Millar, it stars Jenna Ortega as the titular character, with Luis Guzmán and Catherine Zeta-Jones portraying her parents in the series. Four out of the eight episodes of the first season were directe\n"
     ]
    }
   ],
   "source": [
    "api_wrapper_wikipedia = WikipediaAPIWrapper(top_k_results=2, doc_content_chars_max=400)\n",
    "wikipedia = WikipediaQueryRun(api_wrapper=api_wrapper_wikipedia)\n",
    "\n",
    "print(wikipedia.invoke(\"What is the latest research on LangChain?\"))\n",
    "#print(wikipedia.name)\n",
    "\n",
    "\n"
   ]
  },
  {
   "cell_type": "code",
   "execution_count": 11,
   "id": "fe7a818d",
   "metadata": {},
   "outputs": [],
   "source": [
    "from dotenv import load_dotenv\n",
    "load_dotenv()\n",
    "import os\n",
    "\n",
    "os.environ[\"TAVILY_API_KEY\"] = os.getenv(\"TAVILY_API_KEY\")\n",
    "os.environ[\"OPENAI_API_KEY\"] = os.getenv(\"OPENAI_API_KEY\")\n"
   ]
  },
  {
   "cell_type": "code",
   "execution_count": null,
   "id": "e0becaaf",
   "metadata": {},
   "outputs": [
    {
     "name": "stderr",
     "output_type": "stream",
     "text": [
      "C:\\Users\\DELL\\AppData\\Local\\Temp\\ipykernel_13044\\580774280.py:3: LangChainDeprecationWarning: The class `TavilySearchResults` was deprecated in LangChain 0.3.25 and will be removed in 1.0. An updated version of the class exists in the :class:`~langchain-tavily package and should be used instead. To use it run `pip install -U :class:`~langchain-tavily` and import as `from :class:`~langchain_tavily import TavilySearch``.\n",
      "  tavily = TavilySearchResults()\n"
     ]
    }
   ],
   "source": [
    "#getting my tavily search tool\n",
    "from langchain_community.tools import TavilySearchResults\n",
    "# from langchain_community.tools.tavily_search import TavilySearchResults\n",
    "tavily = TavilySearchResults()"
   ]
  },
  {
   "cell_type": "code",
   "execution_count": 13,
   "id": "22047428",
   "metadata": {},
   "outputs": [
    {
     "data": {
      "text/plain": [
       "[{'title': \"LangChain : Why It's the Foundation of AI Agent Development in the ...\",\n",
       "  'url': 'https://medium.com/@takafumi.endo/langchain-why-its-the-foundation-of-ai-agent-development-in-the-enterprise-era-f082717c56d3',\n",
       "  'content': 'The technical maturation has been equally impressive. Recent versions of LangChain have introduced enhanced streaming capabilities and expanded partner package support. LangGraph continues to evolve with advanced features that make sophisticated multi-agent workflows not just possible, but practical. The architectural migration from Pydantic v1 to v2 and separation of community packages demonstrates the kind of engineering discipline required for enterprise adoption. [...] The business model validation is equally compelling. Reports indicate LangChain achieved significant revenue growth, with some estimates suggesting figures around $8.5 million during their first year of monetization in 2024— with innovative pricing strategies like trace retention options (14-day base vs. 400-day extended) that allow customers to balance cost and utility. This isn’t just a nice-to-have tool; it’s become the operational backbone for production AI deployment. [...] To truly grasp LangChain’s impact, one must appreciate its core philosophy: composability. The power isn’t in any single component, but in how they can be assembled to create workflows that are far more capable than the sum of their parts. The metrics reveal this evolution dramatically: the average steps per trace increased from 2.8 in 2023 to 7.7 in 2024, while 43% of organizations now use LangGraph for agent workflows.\\n\\n### Chains: From Basic Prompts to Reliable Reasoning Pipelines',\n",
       "  'score': 0.61196244},\n",
       " {'title': 'LangChain State of AI 2024 Report',\n",
       "  'url': 'https://blog.langchain.com/langchain-state-of-ai-2024/',\n",
       "  'content': 'The average number of steps per trace has more than doubled over the past year, rising from on average 2.8 steps (2023) to 7.7 steps (2024). We define a step as a distinct operation within a trace, such as a call to an LLM, retriever, or tool. This growth in steps signals that organizations are leveraging more complex and multi-faceted workflows. Rather than a simple question-answer interaction, users are building systems that chain together multiple tasks, such as retrieving information, [...] Feedback volume per run also increased slightly, rising from 2.28 to 2.59 feedback entries per run. Still, feedback is relatively sparse per run. Users may be prioritizing speed in reviewing runs over providing comprehensive feedback, or commenting on only the most critical or problematic runs that need attention.\\n\\n## Conclusion [...] As we did last year, we want to share some product usage patterns that showcase how the AI ecosystem and practice of building LLM apps are evolving. As folks have traced, evaluated, and iterated their way around LangSmith, we’ve seen a few notable changes. These include the dramatic rise of open-source model adoption and a shift from predominantly retrieval workflows to AI agent applications with multi-step, agentic workflows.',\n",
       "  'score': 0.57637566},\n",
       " {'title': 'LangChain is about to become a unicorn, sources say',\n",
       "  'url': 'https://techcrunch.com/2025/07/08/langchain-is-about-to-become-a-unicorn-sources-say/',\n",
       "  'content': 'LangChain began its life in late 2022 as an open source project founded by Harrison Chase, who was then an engineer at machine learning startup Robust Intelligence. After generating significant developer interest, Chase transformed the project into a startup, securing a $10 million seed round from Benchmark in April 2023. That round was followed a week later by a $25 million Series A led by Sequoia, reportedly valuing LangChain at $200 million. [...] Contact Us\\n\\n# LangChain is about to become a unicorn, sources say\\n\\nLangChain, an AI infrastructure startup providing tools to build and monitor LLM-powered applications, is raising a new round of funding at an approximate $1 billion valuation led by IVP, according to three sources with knowledge of the deal. [...] ### Topics\\n\\nLatest\\n\\nAI\\n\\nAmazon\\n\\nApps\\n\\nBiotech & Health\\n\\nClimate\\n\\nCloud Computing\\n\\nCommerce\\n\\nCrypto\\n\\nEnterprise\\n\\nEVs\\n\\nFintech\\n\\nFundraising\\n\\nGadgets\\n\\nGaming\\n\\nGoogle\\n\\nGovernment & Policy\\n\\nHardware\\n\\nInstagram\\n\\nLayoffs\\n\\nMedia & Entertainment\\n\\nMeta\\n\\nMicrosoft\\n\\nPrivacy\\n\\nRobotics\\n\\nSecurity\\n\\nSocial\\n\\nSpace\\n\\nStartups\\n\\nTikTok\\n\\nTransportation\\n\\nVenture\\n\\n### More from TechCrunch\\n\\nStaff\\n\\nEvents\\n\\nStartup Battlefield\\n\\nStrictlyVC\\n\\nNewsletters\\n\\nPodcasts\\n\\nVideos\\n\\nPartner Content\\n\\nTechCrunch Brand Studio\\n\\nCrunchboard',\n",
       "  'score': 0.4562407},\n",
       " {'title': \"Real-world LangChain use cases: A developer's journey into ...\",\n",
       "  'url': 'https://learningdaily.dev/real-world-langchain-use-cases-a-developers-journey-into-production-grade-llm-apps-d45858e0a8ff',\n",
       "  'content': 'Now, after working on several LLM-powered tools across content, research, and automation use cases, I’ve come to see LangChain not just as a tool, but as a mindset shift. It lets you treat language models as dynamic agents that can reason, remember, and act. [...] Companies don’t want to rely on ChatGPT’s training data alone. That’s where Retrieval-Augmented Generation (RAG) becomes essential.\\n\\nUsing LangChain, I:\\n\\nThis approach let us build a research assistant for legal analysts, capable of answering questions by referencing actual case law. We also implemented follow-up memory so users could ask clarifying questions. This is one of the most scalable and low-risk LangChain usecases, especially for teams working with confidential or proprietary data. [...] ## 6. Personalized learning assistants\\n\\nI experimented with an AI tutor that tracked student performance and adjusted content based on learning progress. LangChain enabled:\\n\\nIn our tests with early learners, the tutor adapted explanations based on previous mistakes and reinforced weak concepts. It even simulated multiple-choice tests and tracked progress. These LangChain usecases turn static content into adaptive learning flows and make education far more interactive.',\n",
       "  'score': 0.45217365},\n",
       " {'title': 'Deep Agents',\n",
       "  'url': 'https://blog.langchain.com/deep-agents/',\n",
       "  'content': '## How to think about agent frameworks\\n\\nHow do I speed up my AI agent?\\n\\n## How do I speed up my AI agent?\\n\\nMCP: Flash in the Pan or Future Standard?\\n\\n## MCP: Flash in the Pan or Future Standard?\\n\\n© LangChain Blog 2025 [...] LangChain Blog\\nDeep Agents\\n\\n# Deep Agents\\n\\nUsing an LLM to call tools in a loop is the simplest form of an agent. This architecture, however, can yield agents that are “shallow” and fail to plan and act over longer, more complex tasks. Applications like “Deep Research”, “Manus”, and “Claude Code” have gotten around this limitation by implementing a combination of four things: a planning tool, sub agents, access to a file system, and a detailed prompt. [...] You can easily create your own deep agent by passing in a custom prompt (will be inserted into the larger system prompt as custom instructions), custom tools, and custom subagents. We put together a simple example of a \"deep research\" agent built on top of `deepagents`.\\n\\n`deepagents`\\n\\nTRY OUT `deepagents` HERE\\n\\n`deepagents`\\n\\n### Tags\\n\\n### Join our newsletter\\n\\nUpdates from the LangChain team and community\\n\\nProcessing your application...',\n",
       "  'score': 0.18146652}]"
      ]
     },
     "execution_count": 13,
     "metadata": {},
     "output_type": "execute_result"
    }
   ],
   "source": [
    "tavily.invoke(\"What is the latest research on LangChain?\")"
   ]
  },
  {
   "cell_type": "code",
   "execution_count": 14,
   "id": "628bc9c2",
   "metadata": {},
   "outputs": [],
   "source": [
    "## I will combine all tools in a LIST\n",
    "\n",
    "tools = [arxiv, wikipedia, tavily]"
   ]
  },
  {
   "cell_type": "code",
   "execution_count": 15,
   "id": "cc25acab",
   "metadata": {},
   "outputs": [],
   "source": [
    "from langchain_openai import ChatOpenAI\n",
    "\n",
    "llm = ChatOpenAI(model=\"gpt-4o-mini\", temperature=0)\n",
    "\n",
    "llm_with_tools = llm.bind_tools(tools)"
   ]
  },
  {
   "cell_type": "code",
   "execution_count": 16,
   "id": "b579d90d",
   "metadata": {},
   "outputs": [
    {
     "data": {
      "text/plain": [
       "AIMessage(content='', additional_kwargs={'tool_calls': [{'id': 'call_GDkJB2ZI8UnCE12LqPztENd9', 'function': {'arguments': '{\"query\":\"LangChain\"}', 'name': 'arxiv'}, 'type': 'function'}], 'refusal': None}, response_metadata={'token_usage': {'completion_tokens': 15, 'prompt_tokens': 219, 'total_tokens': 234, 'completion_tokens_details': {'accepted_prediction_tokens': 0, 'audio_tokens': 0, 'reasoning_tokens': 0, 'rejected_prediction_tokens': 0}, 'prompt_tokens_details': {'audio_tokens': 0, 'cached_tokens': 0}}, 'model_name': 'gpt-4o-mini-2024-07-18', 'system_fingerprint': 'fp_560af6e559', 'id': 'chatcmpl-CNLWjTtDTYoSjpAHQQ7BctAXC8t37', 'service_tier': 'default', 'finish_reason': 'tool_calls', 'logprobs': None}, id='run--78fd821d-c7b5-4128-be56-c0e5420d4b70-0', tool_calls=[{'name': 'arxiv', 'args': {'query': 'LangChain'}, 'id': 'call_GDkJB2ZI8UnCE12LqPztENd9', 'type': 'tool_call'}], usage_metadata={'input_tokens': 219, 'output_tokens': 15, 'total_tokens': 234, 'input_token_details': {'audio': 0, 'cache_read': 0}, 'output_token_details': {'audio': 0, 'reasoning': 0}})"
      ]
     },
     "execution_count": 16,
     "metadata": {},
     "output_type": "execute_result"
    }
   ],
   "source": [
    "from langchain_core.messages import HumanMessage, AIMessage\n",
    "llm_with_tools.invoke([HumanMessage(content=f\"What is the latest research on LangChain?\")])"
   ]
  },
  {
   "cell_type": "code",
   "execution_count": 17,
   "id": "5d9bd8c4",
   "metadata": {},
   "outputs": [],
   "source": [
    "from pprint import pprint\n"
   ]
  },
  {
   "cell_type": "code",
   "execution_count": 18,
   "id": "0f11a8bc",
   "metadata": {},
   "outputs": [
    {
     "data": {
      "text/plain": [
       "[{'name': 'arxiv',\n",
       "  'args': {'query': 'LangChain'},\n",
       "  'id': 'call_hDlrImM5NY0YJRfWYkk8a3eH',\n",
       "  'type': 'tool_call'}]"
      ]
     },
     "execution_count": 18,
     "metadata": {},
     "output_type": "execute_result"
    }
   ],
   "source": [
    "llm_with_tools.invoke([HumanMessage(content=f\"What is the latest research on LangChain?\")]).tool_calls"
   ]
  },
  {
   "cell_type": "code",
   "execution_count": 19,
   "id": "dc0da3a7",
   "metadata": {},
   "outputs": [],
   "source": [
    "## state schema\n",
    "from typing import TypedDict, Annotated\n",
    "from langchain_core.messages import AnyMessage\n",
    "from langgraph.graph.message import add_messages\n",
    "\n",
    "\n",
    "class State(TypedDict):\n",
    "    messages: Annotated[list[AnyMessage], add_messages]"
   ]
  },
  {
   "cell_type": "code",
   "execution_count": 20,
   "id": "01b69dfd",
   "metadata": {},
   "outputs": [
    {
     "data": {
      "image/png": "[encoded data removed]",
      "text/plain": [
       "<IPython.core.display.Image object>"
      ]
     },
     "metadata": {},
     "output_type": "display_data"
    }
   ],
   "source": [
    "# Now let's create our CHATBOT using LangGraph\n",
    "from langgraph.graph import StateGraph, START, END\n",
    "from langgraph.prebuilt import ToolNode, tools_condition\n",
    "from IPython.display import Image, display\n",
    "\n",
    "## Node Definition\n",
    "def tool_calling_llm(state: State):\n",
    "    return {\"messages\": [llm_with_tools.invoke(state[\"messages\"])]}\n",
    "\n",
    "## Build the graph\n",
    "builder = StateGraph(State)\n",
    "builder.add_node(\"tool_calling_llm\", tool_calling_llm)\n",
    "builder.add_node(\"tools\", ToolNode(tools))\n",
    "\n",
    "builder.add_edge(START, \"tool_calling_llm\")\n",
    "builder.add_conditional_edges(\n",
    "    \"tool_calling_llm\",\n",
    "    #If the latest message is a tool call, then go to the tools node\n",
    "    # Otherwise, go to the END node\n",
    "    tools_condition, \"tools\")\n",
    "builder.add_edge(\"tools\", END)\n",
    "\n",
    "graph = builder.compile()\n",
    "\n",
    "## Run the graph\n",
    "display(Image(graph.get_graph().draw_mermaid_png()))\n",
    "\n"
   ]
  },
  {
   "cell_type": "code",
   "execution_count": 21,
   "id": "8cee23cc",
   "metadata": {},
   "outputs": [
    {
     "name": "stdout",
     "output_type": "stream",
     "text": [
      "================================\u001b[1m Human Message \u001b[0m=================================\n",
      "\n",
      "What is the latest research on LangChain?\n",
      "==================================\u001b[1m Ai Message \u001b[0m==================================\n",
      "Tool Calls:\n",
      "  arxiv (call_NjLSW4oa3MwSGivACgCSxWyl)\n",
      " Call ID: call_NjLSW4oa3MwSGivACgCSxWyl\n",
      "  Args:\n",
      "    query: LangChain\n",
      "=================================\u001b[1m Tool Message \u001b[0m=================================\n",
      "Name: arxiv\n",
      "\n",
      "Published: 2025-01-27\n",
      "Title: From Prompt Injections to SQL Injection Attacks: How Protected is Your LLM-Integrated Web Application?\n",
      "Authors: Rodrigo Pedro, Daniel Castro, Paulo Carreira, Nuno Santos\n",
      "Summary: Large Language Models (LLMs) have found widespread applications in various\n",
      "domains, including web applications, where they facilitate human interaction\n",
      "via chatbots with natural language inter\n"
     ]
    }
   ],
   "source": [
    "messages = graph.invoke({\"messages\": [HumanMessage(content=f\"What is the latest research on LangChain?\")]})\n",
    "for message in messages[\"messages\"]:\n",
    "    message.pretty_print()"
   ]
  },
  {
   "cell_type": "code",
   "execution_count": null,
   "id": "fe25897b",
   "metadata": {},
   "outputs": [],
   "source": []
  }
 ],
 "metadata": {
  "kernelspec": {
   "display_name": ".venv",
   "language": "python",
   "name": "python3"
  },
  "language_info": {
   "codemirror_mode": {
    "name": "ipython",
    "version": 3
   },
   "file_extension": ".py",
   "mimetype": "text/x-python",
   "name": "python",
   "nbconvert_exporter": "python",
   "pygments_lexer": "ipython3",
   "version": "3.12.3"
  }
 },
 "nbformat": 4,
 "nbformat_minor": 5
}
