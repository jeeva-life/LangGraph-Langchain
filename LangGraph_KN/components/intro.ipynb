{
 "cells": [
  {
   "cell_type": "markdown",
   "id": "532adaab",
   "metadata": {},
   "source": [
    "The State schema serves as the input schema for all Nodes and Edges in the Graph.\n",
    "\n",
    "Let's use TypedDict class from python's typing module as our schema, which provides type hints for the keys."
   ]
  },
  {
   "cell_type": "code",
   "execution_count": 3,
   "id": "a08d45b8",
   "metadata": {},
   "outputs": [],
   "source": [
    "from typing_extensions import TypedDict\n",
    "class State(TypedDict):\n",
    "    graph_info: str"
   ]
  },
  {
   "cell_type": "markdown",
   "id": "3a225994",
   "metadata": {},
   "source": [
    "Because the state is a TypedDict with schema as defined above, each node can access the key, graph_state, with \"state['graph_state']\".\n",
    "\n",
    "Each node returns a new value of the state key \"graph_state\".\n",
    "\n",
    "By default, the new value returned by each node will override the prior state value."
   ]
  },
  {
   "cell_type": "code",
   "execution_count": 5,
   "id": "27df01ce",
   "metadata": {},
   "outputs": [],
   "source": [
    "def start_play(state: State):\n",
    "    print(\"start_play node is called\")\n",
    "\n",
    "    return {\"graph_info\": state['graph_info'] + \"I am planning to play and\"}"
   ]
  },
  {
   "cell_type": "code",
   "execution_count": 6,
   "id": "5d171968",
   "metadata": {},
   "outputs": [],
   "source": [
    "def cricket_player(state: State):\n",
    "    print(\"cricket_player node is called\")\n",
    "\n",
    "    return {\"graph_info\": state['graph_info'] + \"I am a cricket player\"}"
   ]
  },
  {
   "cell_type": "code",
   "execution_count": 7,
   "id": "65065e31",
   "metadata": {},
   "outputs": [],
   "source": [
    "def badminton_player(state: State):\n",
    "    print(\"badminton_player node is called\")\n",
    "    return {\"graph_info\": state['graph_info'] + \"I am a badminton player\"}"
   ]
  },
  {
   "cell_type": "code",
   "execution_count": 18,
   "id": "f0111dda",
   "metadata": {},
   "outputs": [],
   "source": [
    "import random\n",
    "from typing import Literal # constant type\n",
    "def random_choice(state: State) -> Literal[\"cricket_player\", \"badminton_player\"]:\n",
    "    graph_info = state['graph_info']\n",
    "    if random.random() > 0.5:\n",
    "        return \"cricket_player\"\n",
    "    else:\n",
    "        return \"badminton_player\""
   ]
  },
  {
   "cell_type": "code",
   "execution_count": 19,
   "id": "ed40d25f",
   "metadata": {},
   "outputs": [
    {
     "data": {
      "image/png": "[encoded data removed]",
      "text/plain": [
       "<IPython.core.display.Image object>"
      ]
     },
     "metadata": {},
     "output_type": "display_data"
    }
   ],
   "source": [
    "# Graph Construction\n",
    "from langgraph.graph import StateGraph, START, END\n",
    "from IPython.display import Image, display\n",
    "\n",
    "graph = StateGraph(State)\n",
    "\n",
    "graph.add_node(\"start_play\", start_play)\n",
    "graph.add_node(\"cricket_player\", cricket_player)\n",
    "graph.add_node(\"badminton_player\", badminton_player)\n",
    "#graph.add_node(\"random_choice\", random_choice)\n",
    "\n",
    "graph.add_edge(START, \"start_play\")\n",
    "graph.add_conditional_edges(\"start_play\", random_choice)\n",
    "graph.add_edge(\"cricket_player\", END)\n",
    "graph.add_edge(\"badminton_player\", END)\n",
    "\n",
    "graph_builder = graph.compile()\n",
    "\n",
    "Image(graph_builder.get_graph().draw_mermaid_png())\n",
    "display(Image(graph_builder.get_graph().draw_mermaid_png()))\n",
    "\n"
   ]
  },
  {
   "cell_type": "code",
   "execution_count": 20,
   "id": "f4a4120e",
   "metadata": {},
   "outputs": [
    {
     "name": "stdout",
     "output_type": "stream",
     "text": [
      "start_play node is called\n",
      "cricket_player node is called\n"
     ]
    },
    {
     "data": {
      "text/plain": [
       "{'graph_info': 'Hey My name is JeevanI am planning to play andI am a cricket player'}"
      ]
     },
     "execution_count": 20,
     "metadata": {},
     "output_type": "execute_result"
    }
   ],
   "source": [
    "##Graph Invocation\n",
    "\n",
    "graph_builder.invoke({\"graph_info\": \"Hey My name is Jeevan\"})"
   ]
  },
  {
   "cell_type": "code",
   "execution_count": null,
   "id": "6bbcc404",
   "metadata": {},
   "outputs": [],
   "source": []
  }
 ],
 "metadata": {
  "kernelspec": {
   "display_name": ".venv",
   "language": "python",
   "name": "python3"
  },
  "language_info": {
   "codemirror_mode": {
    "name": "ipython",
    "version": 3
   },
   "file_extension": ".py",
   "mimetype": "text/x-python",
   "name": "python",
   "nbconvert_exporter": "python",
   "pygments_lexer": "ipython3",
   "version": "3.12.3"
  }
 },
 "nbformat": 4,
 "nbformat_minor": 5
}
