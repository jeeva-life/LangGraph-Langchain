{
 "cells": [
  {
   "cell_type": "markdown",
   "id": "c3616385",
   "metadata": {},
   "source": [
    "Routing in LangGraph refers to the ability to conditionally determine which node to execute next based on the current state or the output of the node.. This is implemented using:"
   ]
  },
  {
   "cell_type": "markdown",
   "id": "dd76acfb",
   "metadata": {},
   "source": [
    "-> add_conditional_edges: \n",
    "\n",
    "-> State: The arithma's state can store variables that influence routing decisions\n",
    "\n",
    "-> Condition Functions: Functions that evaluate the state or node output to decide the next step."
   ]
  },
  {
   "cell_type": "markdown",
   "id": "1770a184",
   "metadata": {},
   "source": [
    "# Key concepts:"
   ]
  },
  {
   "cell_type": "markdown",
   "id": "8c5b6374",
   "metadata": {},
   "source": [
    "-> Dynamic Flow: Unlike a linear sequnce, routing let's the graph adapt to intermediate results\n",
    "\n",
    "-> Condition Logic: You define rules(e.g; \"if this, go there; if that, go there\")\n",
    "\n",
    "-> Flexibility: Combines well with parallelization or sequential chains for complex arithmas"
   ]
  },
  {
   "cell_type": "code",
   "execution_count": 1,
   "id": "03083c4f",
   "metadata": {},
   "outputs": [
    {
     "data": {
      "text/plain": [
       "'The capital of France is Paris.'"
      ]
     },
     "execution_count": 1,
     "metadata": {},
     "output_type": "execute_result"
    }
   ],
   "source": [
    "import os\n",
    "from dotenv import load_dotenv\n",
    "from langchain_openai import ChatOpenAI\n",
    "\n",
    "load_dotenv()\n",
    "\n",
    "os.environ[\"OPENAI_API_KEY\"] = os.getenv(\"OPENAI_API_KEY\")\n",
    "\n",
    "llm = ChatOpenAI(model=\"gpt-4o-mini\", temperature=0)\n",
    "\n",
    "result = llm.invoke(\"What is the capital of France?\")\n",
    "result.content"
   ]
  },
  {
   "cell_type": "code",
   "execution_count": 8,
   "id": "0d69b943",
   "metadata": {},
   "outputs": [
    {
     "data": {
      "image/png": "[encoded data removed]",
      "text/plain": [
       "<IPython.core.display.Image object>"
      ]
     },
     "metadata": {},
     "output_type": "display_data"
    }
   ],
   "source": [
    "from typing_extensions import Literal, TypedDict\n",
    "from pydantic import BaseModel, Field\n",
    "from IPython.display import Image\n",
    "from langgraph.graph import StateGraph, START, END\n",
    "from langchain_core.messages import HumanMessage, SystemMessage\n",
    "\n",
    "# Schema for structured output to use in routing logic\n",
    "class Route(BaseModel):\n",
    "    step: Literal[\"poem\", \"story\", \"joke\"]=Field(description=\"The next step to take in the routing process\")\n",
    "\n",
    "## Augment the LLM with schema for structured output\n",
    "router = llm.with_structured_output(Route)\n",
    "\n",
    "# State\n",
    "class State(TypedDict):\n",
    "    input: str\n",
    "    decision: str\n",
    "    output: str\n",
    "\n",
    "# Define the nodes\n",
    "def llm_call_1(state: State):\n",
    "    \"\"\"write a story\"\"\"\n",
    "\n",
    "    result = llm.invoke(state['input'])\n",
    "    return {\"output\": result.content}\n",
    "\n",
    "\n",
    "def llm_call_2(state: State):\n",
    "    \"\"\"write a joke\"\"\"\n",
    "    print(\"llm call 2 is called\")\n",
    "    result = llm.invoke(state['input'])\n",
    "    return {\"output\": result.content}\n",
    "\n",
    "\n",
    "def llm_call_3(state: State):\n",
    "    \"\"\"write a poem\"\"\"\n",
    "    print(\"llm call 3 is called\")\n",
    "    result = llm.invoke(state['input'])\n",
    "    return {\"output\": result.content}\n",
    "\n",
    "# Define the routing logic\n",
    "def llm_call_router(state: State):\n",
    "    \"\"\"route the input to the appropriate node\"\"\"\n",
    "    decision = router.invoke(\n",
    "        [\n",
    "            SystemMessage(content=\"Route the input to story, joke, or poem based on the users request\"),\n",
    "            HumanMessage(content=state['input'])\n",
    "        ]\n",
    "    )\n",
    "    return {\"decision\": decision.step}\n",
    "\n",
    "\n",
    "# Conditional edge function to route to the appropriate node\n",
    "def route_decision(state: State):\n",
    "    \"\"\" Return the node name you want to visit next\"\"\"\n",
    "    if state['decision'] == \"story\":\n",
    "        return \"llm_call_1\"\n",
    "    elif state['decision'] == \"joke\":\n",
    "        return \"llm_call_2\"\n",
    "    elif state['decision'] == \"poem\":\n",
    "        return \"llm_call_3\"\n",
    "\n",
    "# build the arithma\n",
    "router_builder = StateGraph(State)\n",
    "# add the nodes\n",
    "router_builder.add_node(\"router\", llm_call_router)\n",
    "router_builder.add_node(\"llm_call_1\", llm_call_1)\n",
    "router_builder.add_node(\"llm_call_2\", llm_call_2)\n",
    "router_builder.add_node(\"llm_call_3\", llm_call_3)\n",
    "\n",
    "# add the edges\n",
    "router_builder.add_edge(START, \"router\")\n",
    "router_builder.add_conditional_edges(\n",
    "    \"router\",\n",
    "    route_decision,\n",
    "    {\n",
    "        # name returned by route decision: name of the next node to visit\n",
    "        \"llm_call_1\": \"llm_call_1\",\n",
    "        \"llm_call_2\": \"llm_call_2\",\n",
    "        \"llm_call_3\": \"llm_call_3\",\n",
    "    }\n",
    ")\n",
    "router_builder.add_edge(\"llm_call_1\", END)\n",
    "router_builder.add_edge(\"llm_call_2\", END)\n",
    "router_builder.add_edge(\"llm_call_3\", END)\n",
    "\n",
    "# compile the graph\n",
    "compiled_graph = router_builder.compile()\n",
    "\n",
    "# display the graph\n",
    "display(Image(compiled_graph.get_graph().draw_mermaid_png()))"
   ]
  },
  {
   "cell_type": "code",
   "execution_count": 10,
   "id": "c03cb402",
   "metadata": {},
   "outputs": [],
   "source": [
    "state = compiled_graph.invoke({\"input\": \"write a story about a cat\"})"
   ]
  },
  {
   "cell_type": "code",
   "execution_count": 11,
   "id": "363cc9a9",
   "metadata": {},
   "outputs": [
    {
     "data": {
      "text/plain": [
       "'Once upon a time in a quaint little village nestled between rolling hills, there lived a cat named Whiskers. Whiskers was not just any ordinary cat; he had a coat as soft as clouds and eyes that sparkled like emeralds. He was known throughout the village for his playful spirit and curious nature.\\n\\nWhiskers lived with an elderly woman named Mrs. Thompson, who had a small cottage filled with the scent of freshly baked bread and the warmth of a crackling fireplace. Every morning, as the sun peeked over the hills, Whiskers would stretch his paws, yawn widely, and embark on his daily adventures.\\n\\nOne sunny morning, while exploring the garden, Whiskers noticed something unusual. A small, colorful butterfly fluttered just above the flowers, its delicate wings shimmering in the sunlight. Intrigued, Whiskers decided to follow it. The butterfly danced through the air, leading him beyond the garden gate and into the nearby woods.\\n\\nAs Whiskers ventured deeper into the forest, he marveled at the towering trees and the symphony of chirping birds. He chased the butterfly through the underbrush, leaping over fallen branches and weaving between ferns. But as he chased, he lost track of time and soon found himself far from home.\\n\\nRealizing he was lost, Whiskers felt a pang of worry. The woods were vast and unfamiliar, and the sun was beginning to dip below the horizon. Just as he was about to panic, he heard a soft voice. “Hello there, little one,” it said.\\n\\nWhiskers turned to see a wise old owl perched on a low branch. “You seem far from home. What brings you to these woods?”\\n\\n“I was chasing a butterfly,” Whiskers replied, his voice trembling slightly. “Now I can’t find my way back.”\\n\\nThe owl nodded knowingly. “The woods can be tricky for those who wander without a plan. But fear not, I can help you. Follow me.”\\n\\nWith a flutter of his wings, the owl took off, and Whiskers followed closely behind. They traveled through the winding paths of the forest, the owl guiding him with ease. Along the way, they encountered a family of deer, a playful group of squirrels, and even a wise old tortoise who shared stories of the forest’s secrets.\\n\\nAs they journeyed, Whiskers learned about the beauty of the woods and the importance of friendship and kindness. The owl shared tales of the animals who lived there, each with their own unique stories and adventures. Whiskers listened intently, his heart swelling with wonder.\\n\\nFinally, as the stars began to twinkle in the night sky, they reached the edge of the forest. Whiskers could see the warm glow of Mrs. Thompson’s cottage in the distance. “Thank you, wise owl,” he said gratefully. “I couldn’t have found my way without you.”\\n\\nThe owl smiled. “Remember, little one, adventure is always waiting for those who seek it, but home is where the heart is. Never forget the friends you make along the way.”\\n\\nWith a final nod, the owl took flight, disappearing into the night. Whiskers raced back to the cottage, his heart filled with joy and excitement. When he arrived, Mrs. Thompson was waiting at the door, worry etched on her face.\\n\\n“Oh, Whiskers! I was so worried about you!” she exclaimed, scooping him up in her arms. Whiskers purred contentedly, nuzzling against her.\\n\\nFrom that day on, Whiskers continued to explore the village and the woods, but he always remembered the wise owl’s words. He cherished the friendships he made and the adventures he experienced, knowing that no matter where he roamed, he would always find his way back home. And every now and then, he would catch a glimpse of a colorful butterfly, reminding him of the day he discovered the magic of the world beyond his garden gate.'"
      ]
     },
     "execution_count": 11,
     "metadata": {},
     "output_type": "execute_result"
    }
   ],
   "source": [
    "state['output']"
   ]
  },
  {
   "cell_type": "code",
   "execution_count": null,
   "id": "baf670b5",
   "metadata": {},
   "outputs": [],
   "source": []
  }
 ],
 "metadata": {
  "kernelspec": {
   "display_name": ".venv",
   "language": "python",
   "name": "python3"
  },
  "language_info": {
   "codemirror_mode": {
    "name": "ipython",
    "version": 3
   },
   "file_extension": ".py",
   "mimetype": "text/x-python",
   "name": "python",
   "nbconvert_exporter": "python",
   "pygments_lexer": "ipython3",
   "version": "3.12.3"
  }
 },
 "nbformat": 4,
 "nbformat_minor": 5
}
