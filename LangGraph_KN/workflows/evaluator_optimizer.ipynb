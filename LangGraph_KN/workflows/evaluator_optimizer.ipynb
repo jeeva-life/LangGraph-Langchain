{
 "cells": [
  {
   "cell_type": "code",
   "execution_count": 1,
   "id": "372a36cf",
   "metadata": {},
   "outputs": [
    {
     "data": {
      "text/plain": [
       "'The capital of France is Paris.'"
      ]
     },
     "execution_count": 1,
     "metadata": {},
     "output_type": "execute_result"
    }
   ],
   "source": [
    "import os\n",
    "from dotenv import load_dotenv\n",
    "from langchain_openai import ChatOpenAI\n",
    "\n",
    "load_dotenv()\n",
    "\n",
    "os.environ[\"OPENAI_API_KEY\"] = os.getenv(\"OPENAI_API_KEY\")\n",
    "\n",
    "llm = ChatOpenAI(model=\"gpt-4o-mini\", temperature=0)\n",
    "\n",
    "result = llm.invoke(\"What is the capital of France?\")\n",
    "result.content"
   ]
  },
  {
   "cell_type": "code",
   "execution_count": 4,
   "id": "daeda614",
   "metadata": {},
   "outputs": [],
   "source": [
    "from typing import TypedDict\n",
    "# Graph state\n",
    "class State(TypedDict):\n",
    "    joke: str\n",
    "    topic: str\n",
    "    feedback: str\n",
    "    funny_or_not: str # boolean value"
   ]
  },
  {
   "cell_type": "code",
   "execution_count": 6,
   "id": "fd101241",
   "metadata": {},
   "outputs": [],
   "source": [
    "# schema for structured output to use in evaluation\n",
    "from pydantic import BaseModel, Field\n",
    "from typing import Literal\n",
    "class Feedback(BaseModel):\n",
    "    grade: Literal[\"funny\", \"not funny\"] = Field(\n",
    "        description=\"Decide if the joke is funny or not\"\n",
    "        )\n",
    "    feedback: str = Field(\n",
    "        description=\"If the joke is not funny, provide feedback on how to improve it\"\n",
    "        )\n",
    "\n",
    "\n",
    "evaluator = llm.with_structured_output(Feedback)\n",
    "    \n"
   ]
  },
  {
   "cell_type": "code",
   "execution_count": 8,
   "id": "681c47d3",
   "metadata": {},
   "outputs": [],
   "source": [
    "# Node\n",
    "def llm_call_generator(state: State):\n",
    "    \"\"\"Generate a joke\"\"\"\n",
    "\n",
    "    if state.get(\"feedback\"):\n",
    "        msg = llm.invoke(\n",
    "            f\"write a joke about {state['topic']} but take into account the feedback: {state['feedback']}\"\n",
    "            )\n",
    "    else:\n",
    "        msg = llm.invoke(f\"write a joke about {state['topic']}\")\n",
    "\n",
    "    return {\"joke\": msg.content}"
   ]
  },
  {
   "cell_type": "code",
   "execution_count": 9,
   "id": "927a78d3",
   "metadata": {},
   "outputs": [],
   "source": [
    "def llm_call_evaluator(state: State):\n",
    "    \"\"\"LLM evaluates the joke\"\"\"\n",
    "\n",
    "    grade = evaluator.invoke(f\"Grade the joke: {state['joke']}\")\n",
    "    return {\"funny_or_not\": grade.grade, \"feedback\": grade.feedback}"
   ]
  },
  {
   "cell_type": "code",
   "execution_count": 10,
   "id": "efa056fa",
   "metadata": {},
   "outputs": [],
   "source": [
    "# Conditional edge function to route back to joke generator or end based upon feedback\n",
    "# from the evaluator\n",
    "def route_joke(state: State):\n",
    "    \"\"\"Route back to joke generator or end based upon feedback from the evaluator\"\"\"\n",
    "\n",
    "    if state[\"funny_or_not\"] == \"funny\":\n",
    "        return \"Accepted\"\n",
    "    elif state[\"funny_or_not\"] == \"not funny\":\n",
    "        return \"Rejected + feedback\""
   ]
  },
  {
   "cell_type": "code",
   "execution_count": 11,
   "id": "297d5d56",
   "metadata": {},
   "outputs": [],
   "source": [
    "from langgraph.graph import StateGraph, START, END\n",
    "from IPython.display import Image, display\n"
   ]
  },
  {
   "cell_type": "code",
   "execution_count": 12,
   "id": "29d5dc12",
   "metadata": {},
   "outputs": [
    {
     "data": {
      "text/plain": [
       "<langgraph.graph.state.StateGraph at 0x25cfa650230>"
      ]
     },
     "execution_count": 12,
     "metadata": {},
     "output_type": "execute_result"
    }
   ],
   "source": [
    "# Build Workflow\n",
    "optimizer_builder = StateGraph(State)\n",
    "\n",
    "# Add the nodes\n",
    "optimizer_builder.add_node(\"generator\", llm_call_generator)\n",
    "optimizer_builder.add_node(\"evaluator\", llm_call_evaluator)\n",
    "\n",
    "# Add edges between nodes\n",
    "optimizer_builder.add_edge(START, \"generator\")\n",
    "optimizer_builder.add_edge(\"generator\", \"evaluator\")\n",
    "optimizer_builder.add_conditional_edges(\"evaluator\", route_joke,\n",
    "{\n",
    "    \"Accepted\": END,\n",
    "    \"Rejected + feedback\": \"generator\",\n",
    "}\n",
    ")"
   ]
  },
  {
   "cell_type": "code",
   "execution_count": 13,
   "id": "2de4fe35",
   "metadata": {},
   "outputs": [
    {
     "data": {
      "image/png": "[encoded data removed]",
      "text/plain": [
       "<IPython.core.display.Image object>"
      ]
     },
     "metadata": {},
     "output_type": "display_data"
    }
   ],
   "source": [
    "# compile the workflow\n",
    "optimizer_workflow = optimizer_builder.compile()\n",
    "display(Image(optimizer_workflow.get_graph().draw_mermaid_png()))"
   ]
  },
  {
   "cell_type": "code",
   "execution_count": 14,
   "id": "1ee3ebcb",
   "metadata": {},
   "outputs": [
    {
     "name": "stdout",
     "output_type": "stream",
     "text": [
      "Why did the quantum computer break up with its partner?\n",
      "\n",
      "Because it couldn't handle the superposition of their feelings!\n"
     ]
    }
   ],
   "source": [
    "# Invoke the workflow\n",
    "result = optimizer_workflow.invoke({\"topic\": \"quantum computing\"})\n",
    "print(result[\"joke\"])"
   ]
  },
  {
   "cell_type": "code",
   "execution_count": null,
   "id": "b21e6e8c",
   "metadata": {},
   "outputs": [],
   "source": []
  }
 ],
 "metadata": {
  "kernelspec": {
   "display_name": ".venv",
   "language": "python",
   "name": "python3"
  },
  "language_info": {
   "codemirror_mode": {
    "name": "ipython",
    "version": 3
   },
   "file_extension": ".py",
   "mimetype": "text/x-python",
   "name": "python",
   "nbconvert_exporter": "python",
   "pygments_lexer": "ipython3",
   "version": "3.12.3"
  }
 },
 "nbformat": 4,
 "nbformat_minor": 5
}
