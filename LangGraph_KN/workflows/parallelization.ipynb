{
 "cells": [
  {
   "cell_type": "code",
   "execution_count": 8,
   "id": "adb1fd6a",
   "metadata": {},
   "outputs": [
    {
     "data": {
      "text/plain": [
       "'The capital of France is Paris.'"
      ]
     },
     "execution_count": 8,
     "metadata": {},
     "output_type": "execute_result"
    }
   ],
   "source": [
    "import os\n",
    "from dotenv import load_dotenv\n",
    "from langchain_openai import ChatOpenAI\n",
    "\n",
    "load_dotenv()\n",
    "\n",
    "os.environ[\"OPENAI_API_KEY\"] = os.getenv(\"OPENAI_API_KEY\")\n",
    "\n",
    "llm = ChatOpenAI(model=\"gpt-4o-mini\", temperature=0)\n",
    "\n",
    "result = llm.invoke(\"What is the capital of France?\")\n",
    "result.content"
   ]
  },
  {
   "cell_type": "code",
   "execution_count": 3,
   "id": "9ce80900",
   "metadata": {},
   "outputs": [],
   "source": [
    "from typing_extensions import TypedDict\n",
    "from langgraph.graph import StateGraph, START, END\n",
    "from IPython.display import Image, display\n",
    "from typing import Annotated\n",
    "\n",
    "# GRAPH STATE\n",
    "class State(TypedDict):\n",
    "    topic: str\n",
    "    characters: str\n",
    "    settings: str\n",
    "    premises: str\n",
    "    story_intro: str\n",
    "\n",
    "    "
   ]
  },
  {
   "cell_type": "code",
   "execution_count": 4,
   "id": "938d9959",
   "metadata": {},
   "outputs": [],
   "source": [
    "# nodes\n",
    "def generate_characters(state: State):\n",
    "    \"\"\"Generate characters for the story\"\"\"\n",
    "    mesg = llm.invoke(f\"create a 2 character names and brief traits for a story about {state['topic']}\")\n",
    "    return {\"characters\": mesg.content}\n",
    "\n",
    "def generate_settings(state: State):\n",
    "    \"\"\"Generate settings for the story\"\"\"\n",
    "    mesg = llm.invoke(f\"create a valid settings for a story about {state['topic']}\")\n",
    "    return {\"settings\": mesg.content}\n",
    "\n",
    "def generate_premises(state: State):\n",
    "    \"\"\"Generate premises for the story\"\"\"\n",
    "    mesg = llm.invoke(f\"create a one sentence plot premise for a story about {state['topic']}\")\n",
    "    return {\"premises\": mesg.content}\n",
    "\n",
    "def combine_elements(state: State):\n",
    "    \"\"\"combine characters, settings and premises into a story intro\"\"\"\n",
    "    msg = llm.invoke(f\"combine the following elements into a story intro: {state['characters']}, {state['settings']}, {state['premises']}\")\n",
    "    return {\"story_intro\": msg.content}"
   ]
  },
  {
   "cell_type": "code",
   "execution_count": 5,
   "id": "bd4d57b3",
   "metadata": {},
   "outputs": [
    {
     "data": {
      "image/png": "[encoded data removed]",
      "text/plain": [
       "<IPython.core.display.Image object>"
      ]
     },
     "metadata": {},
     "output_type": "display_data"
    }
   ],
   "source": [
    "# build the graph\n",
    "graph = StateGraph(State)\n",
    "graph.add_node(\"generate_characters\", generate_characters)\n",
    "graph.add_node(\"generate_settings\", generate_settings)\n",
    "graph.add_node(\"generate_premises\", generate_premises)\n",
    "graph.add_node(\"combine_elements\", combine_elements)\n",
    "\n",
    "# define the edges\n",
    "graph.add_edge(START, \"generate_characters\")\n",
    "graph.add_edge(START, \"generate_settings\")\n",
    "graph.add_edge(START, \"generate_premises\")\n",
    "graph.add_edge(\"generate_characters\", \"combine_elements\")\n",
    "graph.add_edge(\"generate_settings\", \"combine_elements\")\n",
    "graph.add_edge(\"generate_premises\", \"combine_elements\")\n",
    "graph.add_edge(\"combine_elements\", END)\n",
    "# compile the graph\n",
    "compiled_graph = graph.compile()\n",
    "# display the graph\n",
    "display(Image(compiled_graph.get_graph().draw_mermaid_png()))\n",
    "\n",
    "\n",
    "\n",
    "\n"
   ]
  },
  {
   "cell_type": "code",
   "execution_count": 9,
   "id": "03415e0d",
   "metadata": {},
   "outputs": [
    {
     "name": "stdout",
     "output_type": "stream",
     "text": [
      "**Title: \"Echoes of Tomorrow\"**\n",
      "\n",
      "In the heart of the Chrono Nexus, a hidden sanctuary beneath the overgrown ruins of a once-thriving city, the air hummed with the energy of temporal rifts. Elara Voss stood in the Time Chamber, her sharp gaze fixed on the shimmering portal of the Temporal Conduit. The star map above her shifted and swirled, a cosmic dance of timelines and events that beckoned her to explore the very fabric of time itself. She had spent years unraveling the mysteries of time travel, driven by an unyielding curiosity and a fierce determination to prove her theories. But today, her heart was heavy with a personal mission—one that transcended her scientific ambitions.\n",
      "\n",
      "Her brother’s illness had become a ticking clock, and desperation had led her to this moment. The ethical implications of altering the past weighed on her mind, but the thought of losing him was a burden she could no longer bear. As she adjusted the settings on the Temporal Conduit, her thoughts were interrupted by the sound of footsteps echoing through the hall.\n",
      "\n",
      "“Are you sure you want to do this alone?” Jaxon \"Jax\" Reed’s voice was light, but there was an undercurrent of concern. He leaned against the doorway, his charming smile a stark contrast to the gravity of the situation. Jax, a historian with a knack for storytelling, had always been the voice of caution in their partnership. He understood the allure of time travel, but he also recognized the potential consequences that came with it.\n",
      "\n",
      "Elara turned to face him, her expression a mix of determination and vulnerability. “I can’t let him die, Jax. I have to try. If I can just go back to the moment it all began… maybe I can find a cure.”\n",
      "\n",
      "Jax stepped closer, his laid-back demeanor faltering as he searched her eyes. “And what if you change something you can’t take back? History isn’t just a series of events; it’s a delicate web. You might save your brother, but at what cost?”\n",
      "\n",
      "She appreciated his concern, but Elara’s resolve was unshakeable. “I know the risks. But I have to do this. I can’t just stand by and watch him suffer.”\n",
      "\n",
      "With a resigned sigh, Jax ran a hand through his tousled hair. “Then I’m coming with you. If we’re going to do this, we need to be smart about it. We can’t let the Temporal Syndicate get their hands on the Conduit. They’ll exploit it for their own gain.”\n",
      "\n",
      "Elara nodded, grateful for his unwavering loyalty. Together, they would navigate the complexities of time, facing not only the rogue faction that threatened the very fabric of reality but also the moral dilemmas that came with their choices. As they stepped toward the Temporal Conduit, the air crackled with anticipation, and the echoes of countless lives whispered around them, urging them forward into the unknown.\n",
      "\n",
      "In that moment, Elara felt the weight of her decision settle over her like a shroud. She was about to embark on a journey that would test her intellect, challenge her ethics, and ultimately redefine her understanding of love, loss, and the intricate tapestry of time. With Jax by her side, she took a deep breath, ready to confront the past and forge a path toward a future that could save her brother—or unravel everything she held dear.\n"
     ]
    }
   ],
   "source": [
    "state = {\"topic\": \"time travel\"}\n",
    "\n",
    "result = compiled_graph.invoke(state)\n",
    "print(result[\"story_intro\"])"
   ]
  },
  {
   "cell_type": "code",
   "execution_count": null,
   "id": "79abe258",
   "metadata": {},
   "outputs": [],
   "source": []
  }
 ],
 "metadata": {
  "kernelspec": {
   "display_name": ".venv",
   "language": "python",
   "name": "python3"
  },
  "language_info": {
   "codemirror_mode": {
    "name": "ipython",
    "version": 3
   },
   "file_extension": ".py",
   "mimetype": "text/x-python",
   "name": "python",
   "nbconvert_exporter": "python",
   "pygments_lexer": "ipython3",
   "version": "3.12.3"
  }
 },
 "nbformat": 4,
 "nbformat_minor": 5
}
