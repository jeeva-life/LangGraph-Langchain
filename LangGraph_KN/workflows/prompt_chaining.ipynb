{
 "cells": [
  {
   "cell_type": "markdown",
   "id": "ce2849fc",
   "metadata": {},
   "source": [
    "Prompt chaining is a technique in NLP where multiple prompts r sequenced together to guide a model through a complex task or reasoning process.\n",
    "\n",
    "Instead of reying on single prompt to achieve a desired outcome, prompt chaining breaks the task into smaller, manageable steps, with each step building on the previous one.\n",
    "\n",
    "This approach can improve accuracy, coherence, and control when working with llm's."
   ]
  },
  {
   "cell_type": "markdown",
   "id": "15c3e59b",
   "metadata": {},
   "source": [
    "# How prompt chaining works in langgraph"
   ]
  },
  {
   "cell_type": "markdown",
   "id": "4598bed1",
   "metadata": {},
   "source": [
    "1. Define the task: start by breaking down the problem into smaller sub-tasks. For example, if u want to generate a detailed report, u might split it into steps like \"gather data\", \"analyze data\", \"write summary\".\n",
    "\n",
    "2. create Nodes: each sub-task becomes a node in the Langgraph structure. A node can be prompt that instructs the model to perform a specific action, such as \"List key facts about X\" or \"Summarize the following text\".\n",
    "\n",
    "3. Establish Edges: \n",
    "\n",
    "4. Execute the graph:\n",
    "\n",
    "5. Iterate if needed:"
   ]
  },
  {
   "cell_type": "code",
   "execution_count": 1,
   "id": "a09b1550",
   "metadata": {},
   "outputs": [
    {
     "data": {
      "text/plain": [
       "'The capital of France is Paris.'"
      ]
     },
     "execution_count": 1,
     "metadata": {},
     "output_type": "execute_result"
    }
   ],
   "source": [
    "import os\n",
    "from dotenv import load_dotenv\n",
    "\n",
    "load_dotenv()\n",
    "\n",
    "from langchain_openai import ChatOpenAI\n",
    "\n",
    "os.environ[\"OPENAI_API_KEY\"] = os.getenv(\"OPENAI_API_KEY\")\n",
    "\n",
    "llm = ChatOpenAI(model=\"gpt-4o-mini\", temperature=0)\n",
    "\n",
    "result = llm.invoke(\"What is the capital of France?\")\n",
    "\n",
    "result.content"
   ]
  },
  {
   "cell_type": "code",
   "execution_count": 2,
   "id": "7c1ab812",
   "metadata": {},
   "outputs": [],
   "source": [
    "from typing_extensions import TypedDict\n",
    "from langgraph.graph import StateGraph, START, END\n",
    "from IPython.display import Image, display\n",
    "\n",
    "# GRAPH STATE\n",
    "class State(TypedDict):\n",
    "    topic: str\n",
    "    story: str\n",
    "    improved_story: str # by improved node\n",
    "    final_story: str # by polish node"
   ]
  },
  {
   "cell_type": "code",
   "execution_count": 3,
   "id": "8d8c34bd",
   "metadata": {},
   "outputs": [],
   "source": [
    "def generate_story(state: State) :\n",
    "    msg = llm.invoke(f\"write a one sentence story about {state['topic']}\")\n",
    "    return {\"story\": msg.content}\n",
    "\n",
    "def check_story(state: State) :\n",
    "    if \"?\" in state[\"story\"] or \"!\" in state[\"story\"] :\n",
    "        return \"Fail\"\n",
    "    return \"Pass\"\n",
    "\n",
    "def improved_story(state: State) :\n",
    "    msg = llm.invoke(f\"enhance the following story: {state['story']}\")\n",
    "    return {\"improved_story\": msg.content}\n",
    "\n",
    "def polish_story(state: State) :\n",
    "    msg = llm.invoke(f\"polish the following story by adding a twist: {state['improved_story']}\")\n",
    "    return {\"final_story\": msg.content}\n",
    "\n"
   ]
  },
  {
   "cell_type": "code",
   "execution_count": 6,
   "id": "a9e86ffb",
   "metadata": {},
   "outputs": [
    {
     "data": {
      "image/png": "[encoded data removed]",
      "text/plain": [
       "<IPython.core.display.Image object>"
      ]
     },
     "metadata": {},
     "output_type": "display_data"
    }
   ],
   "source": [
    "## Build the graph\n",
    "graph = StateGraph(State)\n",
    "\n",
    "graph.add_node(\"generate\", generate_story)\n",
    "graph.add_node(\"improve\", improved_story)\n",
    "graph.add_node(\"polish\", polish_story)\n",
    "\n",
    "# define the edges\n",
    "graph.add_edge(START, \"generate\")\n",
    "graph.add_conditional_edges(\"generate\", check_story, {\"Fail\": \"generate\", \"Pass\": \"improve\"})\n",
    "\n",
    "graph.add_edge(\"improve\", \"polish\")\n",
    "graph.add_edge(\"polish\", END)\n",
    "\n",
    "# compile the graph\n",
    "compiled_graph = graph.compile()\n",
    "#display the graph\n",
    "display(Image(compiled_graph.get_graph().draw_mermaid_png()))\n"
   ]
  },
  {
   "cell_type": "code",
   "execution_count": 8,
   "id": "1b6558ca",
   "metadata": {},
   "outputs": [
    {
     "data": {
      "text/plain": [
       "{'topic': 'Quantum Computing',\n",
       " 'story': 'In a world where quantum computers unlocked the secrets of the universe, a young scientist discovered a way to communicate with alternate realities, forever altering the fabric of existence.',\n",
       " 'improved_story': 'In a world where quantum computers had transcended the boundaries of human understanding, unlocking the secrets of the universe with their unfathomable processing power, a young scientist named Elara Voss stood on the precipice of a groundbreaking discovery. The year was 2045, and the Quantum Nexus, a colossal facility dedicated to the exploration of quantum mechanics, buzzed with the energy of innovation and ambition. \\n\\nElara, a prodigy with a mind as sharp as the algorithms she crafted, had always been fascinated by the concept of parallel universes. As a child, she would gaze at the stars, dreaming of worlds where different choices led to different lives. Her relentless curiosity drove her to push the boundaries of quantum theory, and after years of tireless research, she stumbled upon a revolutionary breakthrough: a method to communicate with alternate realities.\\n\\nUsing a sophisticated quantum entanglement device she dubbed the \"Reality Resonator,\" Elara initiated her first experiment. The machine hummed to life, its intricate circuits glowing with a soft blue light as she calibrated the settings. With a deep breath, she activated the device, sending a pulse of energy rippling through the fabric of existence. \\n\\nTo her astonishment, a shimmering portal materialized before her, revealing a kaleidoscope of alternate realities. Each one was a reflection of choices made and paths taken, some familiar, others utterly alien. Elara\\'s heart raced as she realized the implications of her discovery. She could not only observe these realities but communicate with their inhabitants. \\n\\nHer first contact was with a version of herself—a scientist who had chosen a different path, one where she had abandoned her research for a life of adventure. Their conversation was electric, filled with laughter and shared dreams, but it also revealed the darker side of their choices. The alternate Elara spoke of a world ravaged by climate change, where technology had been misused, leading to societal collapse. \\n\\nAs Elara continued her experiments, she began to receive messages from countless realities, each one a thread in the vast tapestry of existence. Some were warnings, others were insights, and a few were desperate pleas for help. With each interaction, she felt the weight of responsibility grow heavier on her shoulders. The knowledge she gained was both a gift and a curse, as she realized that her actions could ripple across dimensions, altering the course of countless lives.\\n\\nDriven by a sense of duty, Elara assembled a team of like-minded scientists and philosophers, forming the Quantum Coalition. Together, they sought to harness the power of the Reality Resonator not just for exploration, but for the betterment of all realities. They devised a plan to share knowledge and solutions across dimensions, addressing issues like climate change, disease, and conflict. \\n\\nHowever, not all realities welcomed their intervention. A faction of alternate selves, fearing the loss of their autonomy, began to push back against Elara and her team. They believed that meddling with the fabric of existence could lead to catastrophic consequences. Tensions escalated, and soon, the Coalition found themselves in a race against time to protect their own reality while navigating the complexities of interdimensional diplomacy.\\n\\nAs the conflict intensified, Elara faced a heart-wrenching choice: to continue her mission and risk the stability of her own world or to sever the connections she had forged, potentially leaving countless lives in peril. In a moment of clarity, she realized that true progress could only come from understanding and collaboration, not domination.\\n\\nIn a daring move, Elara reached out to the leaders of the opposing faction, proposing a summit where they could share their knowledge and experiences. The meeting was fraught with tension, but as they exchanged stories and visions of their worlds, a fragile alliance began to form. Together, they crafted a new framework for interdimensional communication, one built on respect and mutual benefit.\\n\\nAs the Quantum Coalition and their counterparts worked together, they began to weave a new narrative for their realities—one where cooperation triumphed over conflict. Elara\\'s discovery had not only altered the fabric of existence but had also illuminated the path toward a brighter future for all.\\n\\nIn the end, Elara Voss became a beacon of hope, a symbol of what could be achieved when humanity embraced its interconnectedness. The Quantum Nexus transformed into a hub of collaboration, where scientists, dreamers, and visionaries from countless realities came together to explore the infinite possibilities of existence. And as Elara gazed into the shimmering portal, she knew that the journey had only just begun.',\n",
       " 'final_story': 'In a world where quantum computers had transcended the boundaries of human understanding, unlocking the secrets of the universe with their unfathomable processing power, a young scientist named Elara Voss stood on the precipice of a groundbreaking discovery. The year was 2045, and the Quantum Nexus, a colossal facility dedicated to the exploration of quantum mechanics, buzzed with the energy of innovation and ambition.\\n\\nElara, a prodigy with a mind as sharp as the algorithms she crafted, had always been fascinated by the concept of parallel universes. As a child, she would gaze at the stars, dreaming of worlds where different choices led to different lives. Her relentless curiosity drove her to push the boundaries of quantum theory, and after years of tireless research, she stumbled upon a revolutionary breakthrough: a method to communicate with alternate realities.\\n\\nUsing a sophisticated quantum entanglement device she dubbed the \"Reality Resonator,\" Elara initiated her first experiment. The machine hummed to life, its intricate circuits glowing with a soft blue light as she calibrated the settings. With a deep breath, she activated the device, sending a pulse of energy rippling through the fabric of existence.\\n\\nTo her astonishment, a shimmering portal materialized before her, revealing a kaleidoscope of alternate realities. Each one was a reflection of choices made and paths taken, some familiar, others utterly alien. Elara\\'s heart raced as she realized the implications of her discovery. She could not only observe these realities but communicate with their inhabitants.\\n\\nHer first contact was with a version of herself—a scientist who had chosen a different path, one where she had abandoned her research for a life of adventure. Their conversation was electric, filled with laughter and shared dreams, but it also revealed the darker side of their choices. The alternate Elara spoke of a world ravaged by climate change, where technology had been misused, leading to societal collapse.\\n\\nAs Elara continued her experiments, she began to receive messages from countless realities, each one a thread in the vast tapestry of existence. Some were warnings, others were insights, and a few were desperate pleas for help. With each interaction, she felt the weight of responsibility grow heavier on her shoulders. The knowledge she gained was both a gift and a curse, as she realized that her actions could ripple across dimensions, altering the course of countless lives.\\n\\nDriven by a sense of duty, Elara assembled a team of like-minded scientists and philosophers, forming the Quantum Coalition. Together, they sought to harness the power of the Reality Resonator not just for exploration, but for the betterment of all realities. They devised a plan to share knowledge and solutions across dimensions, addressing issues like climate change, disease, and conflict.\\n\\nHowever, not all realities welcomed their intervention. A faction of alternate selves, fearing the loss of their autonomy, began to push back against Elara and her team. They believed that meddling with the fabric of existence could lead to catastrophic consequences. Tensions escalated, and soon, the Coalition found themselves in a race against time to protect their own reality while navigating the complexities of interdimensional diplomacy.\\n\\nAs the conflict intensified, Elara faced a heart-wrenching choice: to continue her mission and risk the stability of her own world or to sever the connections she had forged, potentially leaving countless lives in peril. In a moment of clarity, she realized that true progress could only come from understanding and collaboration, not domination.\\n\\nIn a daring move, Elara reached out to the leaders of the opposing faction, proposing a summit where they could share their knowledge and experiences. The meeting was fraught with tension, but as they exchanged stories and visions of their worlds, a fragile alliance began to form. Together, they crafted a new framework for interdimensional communication, one built on respect and mutual benefit.\\n\\nBut just as hope began to blossom, a shocking twist emerged: the Reality Resonator had inadvertently created a rift in the multiverse, allowing a malevolent entity from a dystopian reality to slip through. This being, a dark reflection of Elara herself, sought to exploit the chaos and seize control of the Quantum Nexus. It thrived on fear and division, manipulating the tensions between the Coalition and the opposing faction to further its own agenda.\\n\\nAs Elara and her allies scrambled to confront this new threat, they realized that the only way to defeat the entity was to unite their strengths and knowledge. The summit that had once been a platform for collaboration now became a battleground for survival. Elara, facing her own dark counterpart, had to confront not only the external threat but also the internal struggles of her own choices and desires.\\n\\nIn a climactic showdown, Elara and her allies combined their unique insights from their respective realities, creating a powerful counterforce against the malevolent entity. As they fought, Elara understood that the true essence of their mission was not just about saving their worlds but about embracing the complexity of existence—both light and dark.\\n\\nIn the end, the Coalition emerged victorious, but not without scars. The experience forged a deeper bond among the realities, leading to a new era of cooperation. Elara Voss became a beacon of hope, a symbol of what could be achieved when humanity embraced its interconnectedness. The Quantum Nexus transformed into a hub of collaboration, where scientists, dreamers, and visionaries from countless realities came together to explore the infinite possibilities of existence.\\n\\nAs Elara gazed into the shimmering portal, she knew that the journey had only just begun. The multiverse was vast and filled with both wonders and dangers, and she was determined to navigate it with wisdom, compassion, and an unwavering commitment to the greater good.'}"
      ]
     },
     "execution_count": 8,
     "metadata": {},
     "output_type": "execute_result"
    }
   ],
   "source": [
    "## Run the graph\n",
    "state = {\"topic\": \"Quantum Computing\"}\n",
    "\n",
    "result = compiled_graph.invoke(state)\n",
    "\n",
    "result"
   ]
  },
  {
   "cell_type": "code",
   "execution_count": 9,
   "id": "067f73ef",
   "metadata": {},
   "outputs": [
    {
     "name": "stdout",
     "output_type": "stream",
     "text": [
      "Improved story:  In a world where quantum computers had transcended the boundaries of human understanding, unlocking the secrets of the universe with their unfathomable processing power, a young scientist named Elara Voss stood on the precipice of a groundbreaking discovery. The year was 2045, and the Quantum Nexus, a colossal facility dedicated to the exploration of quantum mechanics, buzzed with the energy of innovation and ambition. \n",
      "\n",
      "Elara, a prodigy with a mind as sharp as the algorithms she crafted, had always been fascinated by the concept of parallel universes. As a child, she would gaze at the stars, dreaming of worlds where different choices led to different lives. Her relentless curiosity drove her to push the boundaries of quantum theory, and after years of tireless research, she stumbled upon a revolutionary breakthrough: a method to communicate with alternate realities.\n",
      "\n",
      "Using a sophisticated quantum entanglement device she dubbed the \"Reality Resonator,\" Elara initiated her first experiment. The machine hummed to life, its intricate circuits glowing with a soft blue light as she calibrated the settings. With a deep breath, she activated the device, sending a pulse of energy rippling through the fabric of existence. \n",
      "\n",
      "To her astonishment, a shimmering portal materialized before her, revealing a kaleidoscope of alternate realities. Each one was a reflection of choices made and paths taken, some familiar, others utterly alien. Elara's heart raced as she realized the implications of her discovery. She could not only observe these realities but communicate with their inhabitants. \n",
      "\n",
      "Her first contact was with a version of herself—a scientist who had chosen a different path, one where she had abandoned her research for a life of adventure. Their conversation was electric, filled with laughter and shared dreams, but it also revealed the darker side of their choices. The alternate Elara spoke of a world ravaged by climate change, where technology had been misused, leading to societal collapse. \n",
      "\n",
      "As Elara continued her experiments, she began to receive messages from countless realities, each one a thread in the vast tapestry of existence. Some were warnings, others were insights, and a few were desperate pleas for help. With each interaction, she felt the weight of responsibility grow heavier on her shoulders. The knowledge she gained was both a gift and a curse, as she realized that her actions could ripple across dimensions, altering the course of countless lives.\n",
      "\n",
      "Driven by a sense of duty, Elara assembled a team of like-minded scientists and philosophers, forming the Quantum Coalition. Together, they sought to harness the power of the Reality Resonator not just for exploration, but for the betterment of all realities. They devised a plan to share knowledge and solutions across dimensions, addressing issues like climate change, disease, and conflict. \n",
      "\n",
      "However, not all realities welcomed their intervention. A faction of alternate selves, fearing the loss of their autonomy, began to push back against Elara and her team. They believed that meddling with the fabric of existence could lead to catastrophic consequences. Tensions escalated, and soon, the Coalition found themselves in a race against time to protect their own reality while navigating the complexities of interdimensional diplomacy.\n",
      "\n",
      "As the conflict intensified, Elara faced a heart-wrenching choice: to continue her mission and risk the stability of her own world or to sever the connections she had forged, potentially leaving countless lives in peril. In a moment of clarity, she realized that true progress could only come from understanding and collaboration, not domination.\n",
      "\n",
      "In a daring move, Elara reached out to the leaders of the opposing faction, proposing a summit where they could share their knowledge and experiences. The meeting was fraught with tension, but as they exchanged stories and visions of their worlds, a fragile alliance began to form. Together, they crafted a new framework for interdimensional communication, one built on respect and mutual benefit.\n",
      "\n",
      "As the Quantum Coalition and their counterparts worked together, they began to weave a new narrative for their realities—one where cooperation triumphed over conflict. Elara's discovery had not only altered the fabric of existence but had also illuminated the path toward a brighter future for all.\n",
      "\n",
      "In the end, Elara Voss became a beacon of hope, a symbol of what could be achieved when humanity embraced its interconnectedness. The Quantum Nexus transformed into a hub of collaboration, where scientists, dreamers, and visionaries from countless realities came together to explore the infinite possibilities of existence. And as Elara gazed into the shimmering portal, she knew that the journey had only just begun.\n",
      "Final story:  In a world where quantum computers had transcended the boundaries of human understanding, unlocking the secrets of the universe with their unfathomable processing power, a young scientist named Elara Voss stood on the precipice of a groundbreaking discovery. The year was 2045, and the Quantum Nexus, a colossal facility dedicated to the exploration of quantum mechanics, buzzed with the energy of innovation and ambition.\n",
      "\n",
      "Elara, a prodigy with a mind as sharp as the algorithms she crafted, had always been fascinated by the concept of parallel universes. As a child, she would gaze at the stars, dreaming of worlds where different choices led to different lives. Her relentless curiosity drove her to push the boundaries of quantum theory, and after years of tireless research, she stumbled upon a revolutionary breakthrough: a method to communicate with alternate realities.\n",
      "\n",
      "Using a sophisticated quantum entanglement device she dubbed the \"Reality Resonator,\" Elara initiated her first experiment. The machine hummed to life, its intricate circuits glowing with a soft blue light as she calibrated the settings. With a deep breath, she activated the device, sending a pulse of energy rippling through the fabric of existence.\n",
      "\n",
      "To her astonishment, a shimmering portal materialized before her, revealing a kaleidoscope of alternate realities. Each one was a reflection of choices made and paths taken, some familiar, others utterly alien. Elara's heart raced as she realized the implications of her discovery. She could not only observe these realities but communicate with their inhabitants.\n",
      "\n",
      "Her first contact was with a version of herself—a scientist who had chosen a different path, one where she had abandoned her research for a life of adventure. Their conversation was electric, filled with laughter and shared dreams, but it also revealed the darker side of their choices. The alternate Elara spoke of a world ravaged by climate change, where technology had been misused, leading to societal collapse.\n",
      "\n",
      "As Elara continued her experiments, she began to receive messages from countless realities, each one a thread in the vast tapestry of existence. Some were warnings, others were insights, and a few were desperate pleas for help. With each interaction, she felt the weight of responsibility grow heavier on her shoulders. The knowledge she gained was both a gift and a curse, as she realized that her actions could ripple across dimensions, altering the course of countless lives.\n",
      "\n",
      "Driven by a sense of duty, Elara assembled a team of like-minded scientists and philosophers, forming the Quantum Coalition. Together, they sought to harness the power of the Reality Resonator not just for exploration, but for the betterment of all realities. They devised a plan to share knowledge and solutions across dimensions, addressing issues like climate change, disease, and conflict.\n",
      "\n",
      "However, not all realities welcomed their intervention. A faction of alternate selves, fearing the loss of their autonomy, began to push back against Elara and her team. They believed that meddling with the fabric of existence could lead to catastrophic consequences. Tensions escalated, and soon, the Coalition found themselves in a race against time to protect their own reality while navigating the complexities of interdimensional diplomacy.\n",
      "\n",
      "As the conflict intensified, Elara faced a heart-wrenching choice: to continue her mission and risk the stability of her own world or to sever the connections she had forged, potentially leaving countless lives in peril. In a moment of clarity, she realized that true progress could only come from understanding and collaboration, not domination.\n",
      "\n",
      "In a daring move, Elara reached out to the leaders of the opposing faction, proposing a summit where they could share their knowledge and experiences. The meeting was fraught with tension, but as they exchanged stories and visions of their worlds, a fragile alliance began to form. Together, they crafted a new framework for interdimensional communication, one built on respect and mutual benefit.\n",
      "\n",
      "But just as hope began to blossom, a shocking twist emerged: the Reality Resonator had inadvertently created a rift in the multiverse, allowing a malevolent entity from a dystopian reality to slip through. This being, a dark reflection of Elara herself, sought to exploit the chaos and seize control of the Quantum Nexus. It thrived on fear and division, manipulating the tensions between the Coalition and the opposing faction to further its own agenda.\n",
      "\n",
      "As Elara and her allies scrambled to confront this new threat, they realized that the only way to defeat the entity was to unite their strengths and knowledge. The summit that had once been a platform for collaboration now became a battleground for survival. Elara, facing her own dark counterpart, had to confront not only the external threat but also the internal struggles of her own choices and desires.\n",
      "\n",
      "In a climactic showdown, Elara and her allies combined their unique insights from their respective realities, creating a powerful counterforce against the malevolent entity. As they fought, Elara understood that the true essence of their mission was not just about saving their worlds but about embracing the complexity of existence—both light and dark.\n",
      "\n",
      "In the end, the Coalition emerged victorious, but not without scars. The experience forged a deeper bond among the realities, leading to a new era of cooperation. Elara Voss became a beacon of hope, a symbol of what could be achieved when humanity embraced its interconnectedness. The Quantum Nexus transformed into a hub of collaboration, where scientists, dreamers, and visionaries from countless realities came together to explore the infinite possibilities of existence.\n",
      "\n",
      "As Elara gazed into the shimmering portal, she knew that the journey had only just begun. The multiverse was vast and filled with both wonders and dangers, and she was determined to navigate it with wisdom, compassion, and an unwavering commitment to the greater good.\n"
     ]
    }
   ],
   "source": [
    "print(\"Improved story: \", result[\"improved_story\"])\n",
    "print(\"Final story: \", result[\"final_story\"])"
   ]
  },
  {
   "cell_type": "code",
   "execution_count": null,
   "id": "da12bb53",
   "metadata": {},
   "outputs": [],
   "source": []
  }
 ],
 "metadata": {
  "kernelspec": {
   "display_name": ".venv",
   "language": "python",
   "name": "python3"
  },
  "language_info": {
   "codemirror_mode": {
    "name": "ipython",
    "version": 3
   },
   "file_extension": ".py",
   "mimetype": "text/x-python",
   "name": "python",
   "nbconvert_exporter": "python",
   "pygments_lexer": "ipython3",
   "version": "3.12.3"
  }
 },
 "nbformat": 4,
 "nbformat_minor": 5
}
