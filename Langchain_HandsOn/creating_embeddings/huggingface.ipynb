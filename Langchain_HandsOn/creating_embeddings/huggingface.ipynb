{
 "cells": [
  {
   "cell_type": "code",
   "execution_count": 1,
   "id": "fa022a30",
   "metadata": {},
   "outputs": [
    {
     "data": {
      "text/plain": [
       "True"
      ]
     },
     "execution_count": 1,
     "metadata": {},
     "output_type": "execute_result"
    }
   ],
   "source": [
    "import os\n",
    "from dotenv import load_dotenv\n",
    "load_dotenv()"
   ]
  },
  {
   "cell_type": "code",
   "execution_count": 2,
   "id": "eac83347",
   "metadata": {},
   "outputs": [
    {
     "name": "stdout",
     "output_type": "stream",
     "text": [
      "HuggingFace API key loaded successfully\n"
     ]
    }
   ],
   "source": [
    "# Set up HuggingFace API key (optional for local models)\n",
    "huggingface_api_key = os.getenv(\"HUGGINGFACE_API_KEY\")\n",
    "if huggingface_api_key:\n",
    "    os.environ[\"HUGGINGFACE_API_KEY\"] = huggingface_api_key\n",
    "    print(\"HuggingFace API key loaded successfully\")\n",
    "else:\n",
    "    print(\"No HuggingFace API key found - using local models only\")\n"
   ]
  },
  {
   "cell_type": "code",
   "execution_count": 3,
   "id": "0b18c400",
   "metadata": {},
   "outputs": [
    {
     "name": "stderr",
     "output_type": "stream",
     "text": [
      "d:\\Jeevan\\Agentic_AI\\LangGraph_Langchain\\.venv\\Lib\\site-packages\\tqdm\\auto.py:21: TqdmWarning: IProgress not found. Please update jupyter and ipywidgets. See https://ipywidgets.readthedocs.io/en/stable/user_install.html\n",
      "  from .autonotebook import tqdm as notebook_tqdm\n"
     ]
    },
    {
     "name": "stdout",
     "output_type": "stream",
     "text": [
      "HuggingFace embeddings model loaded successfully!\n",
      "Model: sentence-transformers/all-MiniLM-L6-v2\n"
     ]
    },
    {
     "ename": "AttributeError",
     "evalue": "'HuggingFaceEmbeddings' object has no attribute 'client'",
     "output_type": "error",
     "traceback": [
      "\u001b[31m---------------------------------------------------------------------------\u001b[39m",
      "\u001b[31mAttributeError\u001b[39m                            Traceback (most recent call last)",
      "\u001b[36mCell\u001b[39m\u001b[36m \u001b[39m\u001b[32mIn[3]\u001b[39m\u001b[32m, line 15\u001b[39m\n\u001b[32m     13\u001b[39m \u001b[38;5;28mprint\u001b[39m(\u001b[33m\"\u001b[39m\u001b[33mHuggingFace embeddings model loaded successfully!\u001b[39m\u001b[33m\"\u001b[39m)\n\u001b[32m     14\u001b[39m \u001b[38;5;28mprint\u001b[39m(\u001b[33mf\u001b[39m\u001b[33m\"\u001b[39m\u001b[33mModel: \u001b[39m\u001b[38;5;132;01m{\u001b[39;00membeddings.model_name\u001b[38;5;132;01m}\u001b[39;00m\u001b[33m\"\u001b[39m)\n\u001b[32m---> \u001b[39m\u001b[32m15\u001b[39m \u001b[38;5;28mprint\u001b[39m(\u001b[33mf\u001b[39m\u001b[33m\"\u001b[39m\u001b[33mModel dimensions: \u001b[39m\u001b[38;5;132;01m{\u001b[39;00m\u001b[43membeddings\u001b[49m\u001b[43m.\u001b[49m\u001b[43mclient\u001b[49m.get_sentence_embedding_dimension()\u001b[38;5;132;01m}\u001b[39;00m\u001b[33m\"\u001b[39m)\n",
      "\u001b[36mFile \u001b[39m\u001b[32md:\\Jeevan\\Agentic_AI\\LangGraph_Langchain\\.venv\\Lib\\site-packages\\pydantic\\main.py:991\u001b[39m, in \u001b[36mBaseModel.__getattr__\u001b[39m\u001b[34m(self, item)\u001b[39m\n\u001b[32m    988\u001b[39m     \u001b[38;5;28;01mreturn\u001b[39;00m \u001b[38;5;28msuper\u001b[39m().\u001b[34m__getattribute__\u001b[39m(item)  \u001b[38;5;66;03m# Raises AttributeError if appropriate\u001b[39;00m\n\u001b[32m    989\u001b[39m \u001b[38;5;28;01melse\u001b[39;00m:\n\u001b[32m    990\u001b[39m     \u001b[38;5;66;03m# this is the current error\u001b[39;00m\n\u001b[32m--> \u001b[39m\u001b[32m991\u001b[39m     \u001b[38;5;28;01mraise\u001b[39;00m \u001b[38;5;167;01mAttributeError\u001b[39;00m(\u001b[33mf\u001b[39m\u001b[33m'\u001b[39m\u001b[38;5;132;01m{\u001b[39;00m\u001b[38;5;28mtype\u001b[39m(\u001b[38;5;28mself\u001b[39m).\u001b[34m__name__\u001b[39m\u001b[38;5;132;01m!r}\u001b[39;00m\u001b[33m object has no attribute \u001b[39m\u001b[38;5;132;01m{\u001b[39;00mitem\u001b[38;5;132;01m!r}\u001b[39;00m\u001b[33m'\u001b[39m)\n",
      "\u001b[31mAttributeError\u001b[39m: 'HuggingFaceEmbeddings' object has no attribute 'client'"
     ]
    }
   ],
   "source": [
    "# Import required libraries\n",
    "from langchain_huggingface import HuggingFaceEmbeddings\n",
    "import numpy as np\n",
    "\n",
    "# Create HuggingFace embeddings instance\n",
    "# Using a lightweight model that works well locally\n",
    "embeddings = HuggingFaceEmbeddings(\n",
    "    model_name=\"sentence-transformers/all-MiniLM-L6-v2\",\n",
    "    model_kwargs={'device': 'cpu'},  # Use CPU to avoid GPU issues\n",
    "    encode_kwargs={'normalize_embeddings': True}\n",
    ")\n",
    "\n",
    "print(\"HuggingFace embeddings model loaded successfully!\")\n",
    "print(f\"Model: {embeddings.model_name}\")\n",
    "print(f\"Model dimensions: {embeddings.client.get_sentence_embedding_dimension()}\")\n"
   ]
  },
  {
   "cell_type": "code",
   "execution_count": 4,
   "id": "aa78c915",
   "metadata": {},
   "outputs": [
    {
     "name": "stdout",
     "output_type": "stream",
     "text": [
      "Creating embeddings for sample texts...\n",
      "Successfully created 3 embeddings\n",
      "Each embedding has 384 dimensions\n",
      "Similarity between first two texts: 0.1780\n"
     ]
    }
   ],
   "source": [
    "# Test the embeddings with sample text\n",
    "sample_texts = [\n",
    "    \"This is a sample sentence for testing embeddings.\",\n",
    "    \"Machine learning is fascinating and powerful.\",\n",
    "    \"Natural language processing helps computers understand text.\"\n",
    "]\n",
    "\n",
    "print(\"Creating embeddings for sample texts...\")\n",
    "try:\n",
    "    # Generate embeddings\n",
    "    sample_embeddings = embeddings.embed_documents(sample_texts)\n",
    "    \n",
    "    print(f\"Successfully created {len(sample_embeddings)} embeddings\")\n",
    "    print(f\"Each embedding has {len(sample_embeddings[0])} dimensions\")\n",
    "    \n",
    "    # Show similarity between first two texts\n",
    "    similarity = np.dot(sample_embeddings[0], sample_embeddings[1])\n",
    "    print(f\"Similarity between first two texts: {similarity:.4f}\")\n",
    "    \n",
    "except Exception as e:\n",
    "    print(f\"Error creating embeddings: {e}\")\n",
    "    print(\"This might be due to model download or initialization issues.\")\n"
   ]
  },
  {
   "cell_type": "code",
   "execution_count": 5,
   "id": "1f51264e",
   "metadata": {},
   "outputs": [
    {
     "name": "stdout",
     "output_type": "stream",
     "text": [
      "Creating embedding for single document...\n",
      "Single embedding created successfully!\n",
      "Embedding dimensions: 384\n",
      "First 5 values: [-0.0375300757586956, 0.026673361659049988, 0.026375433430075645, 0.016167717054486275, 0.05736757442355156]\n"
     ]
    }
   ],
   "source": [
    "# Test single document embedding\n",
    "single_text = \"This is a single document for embedding.\"\n",
    "\n",
    "print(\"Creating embedding for single document...\")\n",
    "try:\n",
    "    single_embedding = embeddings.embed_query(single_text)\n",
    "    print(f\"Single embedding created successfully!\")\n",
    "    print(f\"Embedding dimensions: {len(single_embedding)}\")\n",
    "    print(f\"First 5 values: {single_embedding[:5]}\")\n",
    "    \n",
    "except Exception as e:\n",
    "    print(f\"Error creating single embedding: {e}\")\n"
   ]
  },
  {
   "cell_type": "markdown",
   "id": "3db3275e",
   "metadata": {},
   "source": [
    "# HuggingFace Embeddings with LangChain\n",
    "\n",
    "This notebook demonstrates how to use HuggingFace embeddings with LangChain.\n",
    "\n",
    "## Key Features:\n",
    "- Uses `sentence-transformers/all-MiniLM-L6-v2` model (lightweight and efficient)\n",
    "- Works locally without requiring API keys\n",
    "- Supports both document and query embeddings\n",
    "- Includes error handling and testing examples\n",
    "\n",
    "## Model Information:\n",
    "- **Model**: sentence-transformers/all-MiniLM-L6-v2\n",
    "- **Dimensions**: 384\n",
    "- **Use Case**: General purpose text embeddings\n",
    "- **Performance**: Fast inference, good quality for most tasks\n"
   ]
  }
 ],
 "metadata": {
  "kernelspec": {
   "display_name": ".venv",
   "language": "python",
   "name": "python3"
  },
  "language_info": {
   "codemirror_mode": {
    "name": "ipython",
    "version": 3
   },
   "file_extension": ".py",
   "mimetype": "text/x-python",
   "name": "python",
   "nbconvert_exporter": "python",
   "pygments_lexer": "ipython3",
   "version": "3.12.3"
  }
 },
 "nbformat": 4,
 "nbformat_minor": 5
}
